{
  "nbformat": 4,
  "nbformat_minor": 0,
  "metadata": {
    "colab": {
      "name": "RACARA_root_physio.ipynb",
      "provenance": [],
      "collapsed_sections": [
        "ZILjl0WqiTp7"
      ]
    },
    "kernelspec": {
      "name": "python3",
      "display_name": "Python 3"
    },
    "language_info": {
      "name": "python"
    }
  },
  "cells": [
    {
      "cell_type": "markdown",
      "source": [
        "## Summary statistics on CARA root traits"
      ],
      "metadata": {
        "id": "9ybLA7PdC-97"
      }
    },
    {
      "cell_type": "markdown",
      "source": [
        "Assessing differnt genotype's root physiology depending on the gravitational and light environment"
      ],
      "metadata": {
        "id": "ao3-DNvmDL3C"
      }
    },
    {
      "cell_type": "code",
      "source": [
        "# Imports\n",
        "# Basic\n",
        "import pandas as pd\n",
        "import numpy as np\n",
        "from tqdm import tqdm\n",
        "import json\n",
        "from google.colab import drive\n",
        "# Visulaization\n",
        "import matplotlib.pyplot as plt\n",
        "import seaborn as sns\n",
        "import altair as alt\n",
        "import plotly.express as px\n",
        "import plotly.graph_objects as go"
      ],
      "metadata": {
        "id": "vVqd3Jm5DBOl"
      },
      "execution_count": 1,
      "outputs": []
    },
    {
      "cell_type": "code",
      "source": [
        "# Mount your drive\n",
        "drive.mount('/content/drive/')"
      ],
      "metadata": {
        "colab": {
          "base_uri": "https://localhost:8080/"
        },
        "id": "1tTC2rxODzkR",
        "outputId": "7c7b1c6a-42d1-4853-f403-31ad0c5fd375"
      },
      "execution_count": 2,
      "outputs": [
        {
          "output_type": "stream",
          "name": "stdout",
          "text": [
            "Mounted at /content/drive/\n"
          ]
        }
      ]
    },
    {
      "cell_type": "code",
      "source": [
        "# Change directory\n",
        "%cd /content/drive/MyDrive/RACARA/Root-Physiology"
      ],
      "metadata": {
        "colab": {
          "base_uri": "https://localhost:8080/"
        },
        "id": "3iVV992aD2da",
        "outputId": "af1bb576-7536-49cd-c13a-b215686e6f7b"
      },
      "execution_count": 3,
      "outputs": [
        {
          "output_type": "stream",
          "name": "stdout",
          "text": [
            "/content/drive/MyDrive/RACARA/Root-Physiology\n"
          ]
        }
      ]
    },
    {
      "cell_type": "code",
      "source": [
        "# Get dataset\n",
        "root = pd.read_csv('CARA_Root_data_cropped_tidy.csv')"
      ],
      "metadata": {
        "id": "ZiSbHiicETrQ"
      },
      "execution_count": 4,
      "outputs": []
    },
    {
      "cell_type": "code",
      "source": [
        "# `convexhull_area` is all 0\n",
        "# Most of the seeding age is 11 days old but there are few 6days and 9days old seedlings\n",
        "root_11 = root.loc[root['Age #'] == 11] # 183 instances\n",
        "root_9 = root.loc[root['Age #'] == 9] # 42 instances # Only in Ground_light\n",
        "root_6 = root.loc[root['Age #'] == 6] # 16 instances # Only in Ground_light\n",
        "# Check Dataset\n",
        "root"
      ],
      "metadata": {
        "colab": {
          "base_uri": "https://localhost:8080/",
          "height": 485
        },
        "id": "BstfpeGLEg09",
        "outputId": "14b7f2d9-95bd-40e7-c747-9ca1ecbfd832"
      },
      "execution_count": 5,
      "outputs": [
        {
          "output_type": "execute_result",
          "data": {
            "text/plain": [
              "                        Image Name  length  surface  volume  convexhull_area  \\\n",
              "0     Fl_Dark_Plate1_WS_day11.rsml   3.035    0.458   0.007                0   \n",
              "1     Fl_Dark_Plate1_WS_day11.rsml   3.056    0.393   0.006                0   \n",
              "2     Fl_Dark_Plate1_WS_day11.rsml   5.079    0.700   0.008                0   \n",
              "3     Fl_Dark_Plate1_WS_day11.rsml   4.237    0.596   0.007                0   \n",
              "4     Fl_Dark_Plate1_WS_day11.rsml   3.734    0.598   0.009                0   \n",
              "..                             ...     ...      ...     ...              ...   \n",
              "236  Gr_Light_Plate8_Col_day9.rsml   2.574    0.418   0.006                0   \n",
              "237  Gr_Light_Plate8_Col_day9.rsml   2.421    0.393   0.006                0   \n",
              "238  Gr_Light_Plate8_Col_day9.rsml   2.722    0.415   0.006                0   \n",
              "239  Gr_Light_Plate8_Col_day9.rsml   2.772    0.423   0.006                0   \n",
              "240  Gr_Light_Plate8_Col_day9.rsml   2.825    0.420   0.006                0   \n",
              "\n",
              "     diameter root_name Spaceflight Treatment Illumination trestment 2  \\\n",
              "0       0.051    root_5                    Fl                     Dark   \n",
              "1       0.049    root_4                    Fl                     Dark   \n",
              "2       0.044    root_3                    Fl                     Dark   \n",
              "3       0.047    root_2                    Fl                     Dark   \n",
              "4       0.058    root_1                    Fl                     Dark   \n",
              "..        ...       ...                   ...                      ...   \n",
              "236     0.055    root_5                    Gr                    Light   \n",
              "237     0.053    root_4                    Gr                    Light   \n",
              "238     0.055    root_3                    Gr                    Light   \n",
              "239     0.051    root_2                    Gr                    Light   \n",
              "240     0.051    root_1                    Gr                    Light   \n",
              "\n",
              "    Petri dish Ecotype/Genotype    Age  Age #  \n",
              "0       Plate1               WS  day11     11  \n",
              "1       Plate1               WS  day11     11  \n",
              "2       Plate1               WS  day11     11  \n",
              "3       Plate1               WS  day11     11  \n",
              "4       Plate1               WS  day11     11  \n",
              "..         ...              ...    ...    ...  \n",
              "236     Plate8              Col   day9      9  \n",
              "237     Plate8              Col   day9      9  \n",
              "238     Plate8              Col   day9      9  \n",
              "239     Plate8              Col   day9      9  \n",
              "240     Plate8              Col   day9      9  \n",
              "\n",
              "[241 rows x 13 columns]"
            ],
            "text/html": [
              "\n",
              "  <div id=\"df-8da3aee0-351e-4ed9-8e9e-2fd43bf85454\">\n",
              "    <div class=\"colab-df-container\">\n",
              "      <div>\n",
              "<style scoped>\n",
              "    .dataframe tbody tr th:only-of-type {\n",
              "        vertical-align: middle;\n",
              "    }\n",
              "\n",
              "    .dataframe tbody tr th {\n",
              "        vertical-align: top;\n",
              "    }\n",
              "\n",
              "    .dataframe thead th {\n",
              "        text-align: right;\n",
              "    }\n",
              "</style>\n",
              "<table border=\"1\" class=\"dataframe\">\n",
              "  <thead>\n",
              "    <tr style=\"text-align: right;\">\n",
              "      <th></th>\n",
              "      <th>Image Name</th>\n",
              "      <th>length</th>\n",
              "      <th>surface</th>\n",
              "      <th>volume</th>\n",
              "      <th>convexhull_area</th>\n",
              "      <th>diameter</th>\n",
              "      <th>root_name</th>\n",
              "      <th>Spaceflight Treatment</th>\n",
              "      <th>Illumination trestment 2</th>\n",
              "      <th>Petri dish</th>\n",
              "      <th>Ecotype/Genotype</th>\n",
              "      <th>Age</th>\n",
              "      <th>Age #</th>\n",
              "    </tr>\n",
              "  </thead>\n",
              "  <tbody>\n",
              "    <tr>\n",
              "      <th>0</th>\n",
              "      <td>Fl_Dark_Plate1_WS_day11.rsml</td>\n",
              "      <td>3.035</td>\n",
              "      <td>0.458</td>\n",
              "      <td>0.007</td>\n",
              "      <td>0</td>\n",
              "      <td>0.051</td>\n",
              "      <td>root_5</td>\n",
              "      <td>Fl</td>\n",
              "      <td>Dark</td>\n",
              "      <td>Plate1</td>\n",
              "      <td>WS</td>\n",
              "      <td>day11</td>\n",
              "      <td>11</td>\n",
              "    </tr>\n",
              "    <tr>\n",
              "      <th>1</th>\n",
              "      <td>Fl_Dark_Plate1_WS_day11.rsml</td>\n",
              "      <td>3.056</td>\n",
              "      <td>0.393</td>\n",
              "      <td>0.006</td>\n",
              "      <td>0</td>\n",
              "      <td>0.049</td>\n",
              "      <td>root_4</td>\n",
              "      <td>Fl</td>\n",
              "      <td>Dark</td>\n",
              "      <td>Plate1</td>\n",
              "      <td>WS</td>\n",
              "      <td>day11</td>\n",
              "      <td>11</td>\n",
              "    </tr>\n",
              "    <tr>\n",
              "      <th>2</th>\n",
              "      <td>Fl_Dark_Plate1_WS_day11.rsml</td>\n",
              "      <td>5.079</td>\n",
              "      <td>0.700</td>\n",
              "      <td>0.008</td>\n",
              "      <td>0</td>\n",
              "      <td>0.044</td>\n",
              "      <td>root_3</td>\n",
              "      <td>Fl</td>\n",
              "      <td>Dark</td>\n",
              "      <td>Plate1</td>\n",
              "      <td>WS</td>\n",
              "      <td>day11</td>\n",
              "      <td>11</td>\n",
              "    </tr>\n",
              "    <tr>\n",
              "      <th>3</th>\n",
              "      <td>Fl_Dark_Plate1_WS_day11.rsml</td>\n",
              "      <td>4.237</td>\n",
              "      <td>0.596</td>\n",
              "      <td>0.007</td>\n",
              "      <td>0</td>\n",
              "      <td>0.047</td>\n",
              "      <td>root_2</td>\n",
              "      <td>Fl</td>\n",
              "      <td>Dark</td>\n",
              "      <td>Plate1</td>\n",
              "      <td>WS</td>\n",
              "      <td>day11</td>\n",
              "      <td>11</td>\n",
              "    </tr>\n",
              "    <tr>\n",
              "      <th>4</th>\n",
              "      <td>Fl_Dark_Plate1_WS_day11.rsml</td>\n",
              "      <td>3.734</td>\n",
              "      <td>0.598</td>\n",
              "      <td>0.009</td>\n",
              "      <td>0</td>\n",
              "      <td>0.058</td>\n",
              "      <td>root_1</td>\n",
              "      <td>Fl</td>\n",
              "      <td>Dark</td>\n",
              "      <td>Plate1</td>\n",
              "      <td>WS</td>\n",
              "      <td>day11</td>\n",
              "      <td>11</td>\n",
              "    </tr>\n",
              "    <tr>\n",
              "      <th>...</th>\n",
              "      <td>...</td>\n",
              "      <td>...</td>\n",
              "      <td>...</td>\n",
              "      <td>...</td>\n",
              "      <td>...</td>\n",
              "      <td>...</td>\n",
              "      <td>...</td>\n",
              "      <td>...</td>\n",
              "      <td>...</td>\n",
              "      <td>...</td>\n",
              "      <td>...</td>\n",
              "      <td>...</td>\n",
              "      <td>...</td>\n",
              "    </tr>\n",
              "    <tr>\n",
              "      <th>236</th>\n",
              "      <td>Gr_Light_Plate8_Col_day9.rsml</td>\n",
              "      <td>2.574</td>\n",
              "      <td>0.418</td>\n",
              "      <td>0.006</td>\n",
              "      <td>0</td>\n",
              "      <td>0.055</td>\n",
              "      <td>root_5</td>\n",
              "      <td>Gr</td>\n",
              "      <td>Light</td>\n",
              "      <td>Plate8</td>\n",
              "      <td>Col</td>\n",
              "      <td>day9</td>\n",
              "      <td>9</td>\n",
              "    </tr>\n",
              "    <tr>\n",
              "      <th>237</th>\n",
              "      <td>Gr_Light_Plate8_Col_day9.rsml</td>\n",
              "      <td>2.421</td>\n",
              "      <td>0.393</td>\n",
              "      <td>0.006</td>\n",
              "      <td>0</td>\n",
              "      <td>0.053</td>\n",
              "      <td>root_4</td>\n",
              "      <td>Gr</td>\n",
              "      <td>Light</td>\n",
              "      <td>Plate8</td>\n",
              "      <td>Col</td>\n",
              "      <td>day9</td>\n",
              "      <td>9</td>\n",
              "    </tr>\n",
              "    <tr>\n",
              "      <th>238</th>\n",
              "      <td>Gr_Light_Plate8_Col_day9.rsml</td>\n",
              "      <td>2.722</td>\n",
              "      <td>0.415</td>\n",
              "      <td>0.006</td>\n",
              "      <td>0</td>\n",
              "      <td>0.055</td>\n",
              "      <td>root_3</td>\n",
              "      <td>Gr</td>\n",
              "      <td>Light</td>\n",
              "      <td>Plate8</td>\n",
              "      <td>Col</td>\n",
              "      <td>day9</td>\n",
              "      <td>9</td>\n",
              "    </tr>\n",
              "    <tr>\n",
              "      <th>239</th>\n",
              "      <td>Gr_Light_Plate8_Col_day9.rsml</td>\n",
              "      <td>2.772</td>\n",
              "      <td>0.423</td>\n",
              "      <td>0.006</td>\n",
              "      <td>0</td>\n",
              "      <td>0.051</td>\n",
              "      <td>root_2</td>\n",
              "      <td>Gr</td>\n",
              "      <td>Light</td>\n",
              "      <td>Plate8</td>\n",
              "      <td>Col</td>\n",
              "      <td>day9</td>\n",
              "      <td>9</td>\n",
              "    </tr>\n",
              "    <tr>\n",
              "      <th>240</th>\n",
              "      <td>Gr_Light_Plate8_Col_day9.rsml</td>\n",
              "      <td>2.825</td>\n",
              "      <td>0.420</td>\n",
              "      <td>0.006</td>\n",
              "      <td>0</td>\n",
              "      <td>0.051</td>\n",
              "      <td>root_1</td>\n",
              "      <td>Gr</td>\n",
              "      <td>Light</td>\n",
              "      <td>Plate8</td>\n",
              "      <td>Col</td>\n",
              "      <td>day9</td>\n",
              "      <td>9</td>\n",
              "    </tr>\n",
              "  </tbody>\n",
              "</table>\n",
              "<p>241 rows × 13 columns</p>\n",
              "</div>\n",
              "      <button class=\"colab-df-convert\" onclick=\"convertToInteractive('df-8da3aee0-351e-4ed9-8e9e-2fd43bf85454')\"\n",
              "              title=\"Convert this dataframe to an interactive table.\"\n",
              "              style=\"display:none;\">\n",
              "        \n",
              "  <svg xmlns=\"http://www.w3.org/2000/svg\" height=\"24px\"viewBox=\"0 0 24 24\"\n",
              "       width=\"24px\">\n",
              "    <path d=\"M0 0h24v24H0V0z\" fill=\"none\"/>\n",
              "    <path d=\"M18.56 5.44l.94 2.06.94-2.06 2.06-.94-2.06-.94-.94-2.06-.94 2.06-2.06.94zm-11 1L8.5 8.5l.94-2.06 2.06-.94-2.06-.94L8.5 2.5l-.94 2.06-2.06.94zm10 10l.94 2.06.94-2.06 2.06-.94-2.06-.94-.94-2.06-.94 2.06-2.06.94z\"/><path d=\"M17.41 7.96l-1.37-1.37c-.4-.4-.92-.59-1.43-.59-.52 0-1.04.2-1.43.59L10.3 9.45l-7.72 7.72c-.78.78-.78 2.05 0 2.83L4 21.41c.39.39.9.59 1.41.59.51 0 1.02-.2 1.41-.59l7.78-7.78 2.81-2.81c.8-.78.8-2.07 0-2.86zM5.41 20L4 18.59l7.72-7.72 1.47 1.35L5.41 20z\"/>\n",
              "  </svg>\n",
              "      </button>\n",
              "      \n",
              "  <style>\n",
              "    .colab-df-container {\n",
              "      display:flex;\n",
              "      flex-wrap:wrap;\n",
              "      gap: 12px;\n",
              "    }\n",
              "\n",
              "    .colab-df-convert {\n",
              "      background-color: #E8F0FE;\n",
              "      border: none;\n",
              "      border-radius: 50%;\n",
              "      cursor: pointer;\n",
              "      display: none;\n",
              "      fill: #1967D2;\n",
              "      height: 32px;\n",
              "      padding: 0 0 0 0;\n",
              "      width: 32px;\n",
              "    }\n",
              "\n",
              "    .colab-df-convert:hover {\n",
              "      background-color: #E2EBFA;\n",
              "      box-shadow: 0px 1px 2px rgba(60, 64, 67, 0.3), 0px 1px 3px 1px rgba(60, 64, 67, 0.15);\n",
              "      fill: #174EA6;\n",
              "    }\n",
              "\n",
              "    [theme=dark] .colab-df-convert {\n",
              "      background-color: #3B4455;\n",
              "      fill: #D2E3FC;\n",
              "    }\n",
              "\n",
              "    [theme=dark] .colab-df-convert:hover {\n",
              "      background-color: #434B5C;\n",
              "      box-shadow: 0px 1px 3px 1px rgba(0, 0, 0, 0.15);\n",
              "      filter: drop-shadow(0px 1px 2px rgba(0, 0, 0, 0.3));\n",
              "      fill: #FFFFFF;\n",
              "    }\n",
              "  </style>\n",
              "\n",
              "      <script>\n",
              "        const buttonEl =\n",
              "          document.querySelector('#df-8da3aee0-351e-4ed9-8e9e-2fd43bf85454 button.colab-df-convert');\n",
              "        buttonEl.style.display =\n",
              "          google.colab.kernel.accessAllowed ? 'block' : 'none';\n",
              "\n",
              "        async function convertToInteractive(key) {\n",
              "          const element = document.querySelector('#df-8da3aee0-351e-4ed9-8e9e-2fd43bf85454');\n",
              "          const dataTable =\n",
              "            await google.colab.kernel.invokeFunction('convertToInteractive',\n",
              "                                                     [key], {});\n",
              "          if (!dataTable) return;\n",
              "\n",
              "          const docLinkHtml = 'Like what you see? Visit the ' +\n",
              "            '<a target=\"_blank\" href=https://colab.research.google.com/notebooks/data_table.ipynb>data table notebook</a>'\n",
              "            + ' to learn more about interactive tables.';\n",
              "          element.innerHTML = '';\n",
              "          dataTable['output_type'] = 'display_data';\n",
              "          await google.colab.output.renderOutput(dataTable, element);\n",
              "          const docLink = document.createElement('div');\n",
              "          docLink.innerHTML = docLinkHtml;\n",
              "          element.appendChild(docLink);\n",
              "        }\n",
              "      </script>\n",
              "    </div>\n",
              "  </div>\n",
              "  "
            ]
          },
          "metadata": {},
          "execution_count": 5
        }
      ]
    },
    {
      "cell_type": "markdown",
      "source": [
        "## Divide Dataset"
      ],
      "metadata": {
        "id": "ZILjl0WqiTp7"
      }
    },
    {
      "cell_type": "code",
      "source": [
        "# 11 days old seedlings\n",
        "# Divide dataset by flight and grond\n",
        "# 95 Flight data\n",
        "fl_len = root_11.loc[root_11['Spaceflight Treatment'] == 'Fl', ['length', 'Illumination trestment 2', 'Ecotype/Genotype']]\n",
        "fl_surface = root_11.loc[root_11['Spaceflight Treatment'] == 'Fl', ['surface', 'Illumination trestment 2', 'Ecotype/Genotype']]\n",
        "fl_vol = root_11.loc[root_11['Spaceflight Treatment'] == 'Fl', ['volume', 'Illumination trestment 2', 'Ecotype/Genotype']]\n",
        "fl_diameter = root_11.loc[root_11['Spaceflight Treatment'] == 'Fl', ['diameter', 'Illumination trestment 2', 'Ecotype/Genotype']]\n",
        "# 88 Ground control data\n",
        "gr_len = root_11.loc[root_11['Spaceflight Treatment'] == 'Gr', ['length', 'Illumination trestment 2', 'Ecotype/Genotype']]\n",
        "gr_surface = root_11.loc[root_11['Spaceflight Treatment'] == 'Gr', ['surface', 'Illumination trestment 2', 'Ecotype/Genotype']]\n",
        "gr_vol = root_11.loc[root_11['Spaceflight Treatment'] == 'Gr', ['volume', 'Illumination trestment 2', 'Ecotype/Genotype']]\n",
        "gr_diameter = root_11.loc[root_11['Spaceflight Treatment'] == 'Gr', ['diameter', 'Illumination trestment 2', 'Ecotype/Genotype']]"
      ],
      "metadata": {
        "id": "CXs-mqlCajSk"
      },
      "execution_count": 6,
      "outputs": []
    },
    {
      "cell_type": "code",
      "source": [
        "# 11 days old seedlings\n",
        "# Divide dataset by light and dark\n",
        "# 96 dark env\n",
        "dark_len = root_11.loc[root_11['Illumination trestment 2'] == 'Dark', ['length', 'Spaceflight Treatment', 'Ecotype/Genotype']]\n",
        "dark_surface = root_11.loc[root_11['Illumination trestment 2'] == 'Dark', ['surface', 'Spaceflight Treatment', 'Ecotype/Genotype']]\n",
        "dark_vol = root_11.loc[root_11['Illumination trestment 2'] == 'Dark', ['volume', 'Spaceflight Treatment', 'Ecotype/Genotype']]\n",
        "dark_diameter = root_11.loc[root_11['Illumination trestment 2'] == 'Dark', ['diameter', 'Spaceflight Treatment', 'Ecotype/Genotype']]\n",
        "# 87 light env\n",
        "light_len = root_11.loc[root_11['Illumination trestment 2'] == 'Light', ['length', 'Spaceflight Treatment', 'Ecotype/Genotype']]\n",
        "light_surface = root_11.loc[root_11['Illumination trestment 2'] == 'Light', ['surface', 'Spaceflight Treatment', 'Ecotype/Genotype']]\n",
        "light_vol = root_11.loc[root_11['Illumination trestment 2'] == 'Light', ['volume', 'Spaceflight Treatment', 'Ecotype/Genotype']]\n",
        "light_diameter = root_11.loc[root_11['Illumination trestment 2'] == 'Light', ['diameter', 'Spaceflight Treatment', 'Ecotype/Genotype']]"
      ],
      "metadata": {
        "id": "HeQvHAHjc-vL"
      },
      "execution_count": 7,
      "outputs": []
    },
    {
      "cell_type": "code",
      "source": [
        "# 11 days old seedlings\n",
        "# Divide dataset by Ecotype/Genotype\n",
        "# 60 ws genotype\n",
        "ws_len = root_11.loc[root_11['Ecotype/Genotype'] == 'WS', ['length', 'Spaceflight Treatment', 'Illumination trestment 2']]\n",
        "ws_surface = root_11.loc[root_11['Ecotype/Genotype'] == 'WS', ['surface', 'Spaceflight Treatment', 'Illumination trestment 2']]\n",
        "ws_vol = root_11.loc[root_11['Ecotype/Genotype'] == 'WS', ['volume', 'Spaceflight Treatment', 'Illumination trestment 2']]\n",
        "ws_diameter = root_11.loc[root_11['Ecotype/Genotype'] == 'WS', ['diameter', 'Spaceflight Treatment', 'Illumination trestment 2']]\n",
        "# 61 phyd genotype\n",
        "phyd_len = root_11.loc[root_11['Ecotype/Genotype'] == 'PhyD', ['length', 'Spaceflight Treatment', 'Illumination trestment 2']]\n",
        "phyd_surface = root_11.loc[root_11['Ecotype/Genotype'] == 'PhyD', ['surface', 'Spaceflight Treatment', 'Illumination trestment 2']]\n",
        "phyd_vol = root_11.loc[root_11['Ecotype/Genotype'] == 'PhyD', ['volume', 'Spaceflight Treatment', 'Illumination trestment 2']]\n",
        "phyd_diameter = root_11.loc[root_11['Ecotype/Genotype'] == 'PhyD', ['diameter', 'Spaceflight Treatment', 'Illumination trestment 2']]\n",
        "# 62 col genotype\n",
        "col_len = root_11.loc[root_11['Ecotype/Genotype'] == 'Col', ['length', 'Spaceflight Treatment', 'Illumination trestment 2']]\n",
        "col_surface = root_11.loc[root_11['Ecotype/Genotype'] == 'Col', ['surface', 'Spaceflight Treatment', 'Illumination trestment 2']]\n",
        "col_vol = root_11.loc[root_11['Ecotype/Genotype'] == 'Col', ['volume', 'Spaceflight Treatment', 'Illumination trestment 2']]\n",
        "col_diameter = root_11.loc[root_11['Ecotype/Genotype'] == 'Col', ['diameter', 'Spaceflight Treatment', 'Illumination trestment 2']]"
      ],
      "metadata": {
        "id": "wcvPMU8ffANx"
      },
      "execution_count": 8,
      "outputs": []
    },
    {
      "cell_type": "code",
      "source": [
        "# 11 days old seedlings\n",
        "# Divide dataset by Ecotype/Genotype\n",
        "# 60 ws genotype\n",
        "ws_flt_len = ws_len.loc[ws_len['Spaceflight Treatment'] == 'Fl', ['length', 'Illumination trestment 2']]\n",
        "ws_gr_len = ws_len.loc[ws_len['Spaceflight Treatment'] == 'Gr', ['length', 'Illumination trestment 2']]\n",
        "ws_flt_surface = ws_surface.loc[ws_surface['Spaceflight Treatment'] == 'Fl', ['surface', 'Illumination trestment 2']]\n",
        "ws_gr_surface = ws_surface.loc[ws_surface['Spaceflight Treatment'] == 'Gr', ['surface', 'Illumination trestment 2']]\n",
        "ws_flt_vol = ws_vol.loc[ws_vol['Spaceflight Treatment'] == 'Fl', ['volume', 'Illumination trestment 2']]\n",
        "ws_gr_vol = ws_vol.loc[ws_vol['Spaceflight Treatment'] == 'Gr', ['volume', 'Illumination trestment 2']]\n",
        "ws_flt_diameter = ws_diameter.loc[ws_diameter['Spaceflight Treatment'] == 'Fl', ['diameter', 'Illumination trestment 2']]\n",
        "ws_gr_diameter = ws_diameter.loc[ws_diameter['Spaceflight Treatment'] == 'Gr', ['diameter', 'Illumination trestment 2']]\n",
        "\n",
        "# 61 phyd genotype\n",
        "phyd_flt_len = phyd_len.loc[phyd_len['Spaceflight Treatment'] == 'Fl', ['length', 'Illumination trestment 2']]\n",
        "phyd_gr_len = phyd_len.loc[phyd_len['Spaceflight Treatment'] == 'Gr', ['length', 'Illumination trestment 2']]\n",
        "phyd_flt_surface = phyd_surface.loc[phyd_surface['Spaceflight Treatment'] == 'Fl', ['surface', 'Illumination trestment 2']]\n",
        "phyd_gr_surface = phyd_surface.loc[phyd_surface['Spaceflight Treatment'] == 'Gr', ['surface', 'Illumination trestment 2']]\n",
        "phyd_flt_vol = phyd_vol.loc[phyd_vol['Spaceflight Treatment'] == 'Fl', ['volume', 'Illumination trestment 2']]\n",
        "phyd_gr_vol = phyd_vol.loc[phyd_vol['Spaceflight Treatment'] == 'Gr', ['volume', 'Illumination trestment 2']]\n",
        "phyd_flt_diameter = phyd_diameter.loc[phyd_diameter['Spaceflight Treatment'] == 'Fl', ['diameter', 'Illumination trestment 2']]\n",
        "phyd_gr_diameter = phyd_diameter.loc[phyd_diameter['Spaceflight Treatment'] == 'Gr', ['diameter', 'Illumination trestment 2']]\n",
        "# 62 col genotype\n",
        "col_flt_len = col_len.loc[col_len['Spaceflight Treatment'] == 'Fl', ['length', 'Illumination trestment 2']]\n",
        "col_gr_len = col_len.loc[col_len['Spaceflight Treatment'] == 'Gr', ['length', 'Illumination trestment 2']]\n",
        "col_flt_surface = col_surface.loc[col_surface['Spaceflight Treatment'] == 'Fl', ['surface', 'Illumination trestment 2']]\n",
        "col_gr_surface = col_surface.loc[col_surface['Spaceflight Treatment'] == 'Gr', ['surface', 'Illumination trestment 2']]\n",
        "col_flt_vol = col_vol.loc[col_vol['Spaceflight Treatment'] == 'Fl', ['volume', 'Illumination trestment 2']]\n",
        "col_gr_vol = col_vol.loc[col_vol['Spaceflight Treatment'] == 'Gr', ['volume', 'Illumination trestment 2']]\n",
        "col_flt_diameter = col_diameter.loc[col_diameter['Spaceflight Treatment'] == 'Fl', ['diameter', 'Illumination trestment 2']]\n",
        "col_gr_diameter = col_diameter.loc[col_diameter['Spaceflight Treatment'] == 'Gr', ['diameter', 'Illumination trestment 2']]"
      ],
      "metadata": {
        "id": "5kvxxh13mPCc"
      },
      "execution_count": 52,
      "outputs": []
    },
    {
      "cell_type": "markdown",
      "source": [
        "## Summary"
      ],
      "metadata": {
        "id": "XValRxUkkgYX"
      }
    },
    {
      "cell_type": "code",
      "source": [
        "from tabulate import tabulate"
      ],
      "metadata": {
        "id": "9SDarC6jki77"
      },
      "execution_count": 48,
      "outputs": []
    },
    {
      "cell_type": "code",
      "source": [
        "ws_flt_len.loc[ws_flt_len['Illumination trestment 2'] == 'Light', ['length']].median()"
      ],
      "metadata": {
        "colab": {
          "base_uri": "https://localhost:8080/"
        },
        "id": "hVqfOEaElyhM",
        "outputId": "97b2f200-6a2e-43e9-97cd-aa63c37e2003"
      },
      "execution_count": 55,
      "outputs": [
        {
          "output_type": "execute_result",
          "data": {
            "text/plain": [
              "length    3.367\n",
              "dtype: float64"
            ]
          },
          "metadata": {},
          "execution_count": 55
        }
      ]
    },
    {
      "cell_type": "code",
      "source": [
        "#Median\n",
        "df=[['WS_FLT_light',ws_flt_len.loc[ws_flt_len['Illumination trestment 2'] == 'Light', ['length']].median(),\n",
        "                    ws_flt_vol.loc[ws_flt_vol['Illumination trestment 2'] == 'Light', ['volume']].median(),\n",
        "                    ws_flt_diameter.loc[ws_flt_diameter['Illumination trestment 2'] == 'Light', ['diameter']].median(),\n",
        "                    ws_flt_surface.loc[ws_flt_surface['Illumination trestment 2'] == 'Light', ['surface']].median()],\n",
        "    ['WS_FLT_dark',ws_flt_len.loc[ws_flt_len['Illumination trestment 2'] == 'Dark', ['length']].median(),\n",
        "                    ws_flt_vol.loc[ws_flt_vol['Illumination trestment 2'] == 'Dark', ['volume']].median(),\n",
        "                    ws_flt_diameter.loc[ws_flt_diameter['Illumination trestment 2'] == 'Dark', ['diameter']].median(),\n",
        "                    ws_flt_surface.loc[ws_flt_surface['Illumination trestment 2'] == 'Dark', ['surface']].median()],\n",
        "    ['WS_GR_light',ws_gr_len.loc[ws_gr_len['Illumination trestment 2'] == 'Light', ['length']].median(),\n",
        "                    ws_gr_vol.loc[ws_gr_vol['Illumination trestment 2'] == 'Light', ['volume']].median(),\n",
        "                    ws_gr_diameter.loc[ws_gr_diameter['Illumination trestment 2'] == 'Light', ['diameter']].median(),\n",
        "                    ws_gr_surface.loc[ws_gr_surface['Illumination trestment 2'] == 'Light', ['surface']].median()],\n",
        "    ['WS_GR_dark',ws_gr_len.loc[ws_gr_len['Illumination trestment 2'] == 'Dark', ['length']].median(),\n",
        "                    ws_gr_vol.loc[ws_gr_vol['Illumination trestment 2'] == 'Dark', ['volume']].median(),\n",
        "                    ws_gr_diameter.loc[ws_gr_diameter['Illumination trestment 2'] == 'Dark', ['diameter']].median(),\n",
        "                    ws_gr_surface.loc[ws_gr_surface['Illumination trestment 2'] == 'Dark', ['surface']].median()],\n",
        "    ['PhyD_FLT_light',phyd_flt_len.loc[phyd_flt_len['Illumination trestment 2'] == 'Light', ['length']].median(),\n",
        "                    phyd_flt_vol.loc[phyd_flt_vol['Illumination trestment 2'] == 'Light', ['volume']].median(),\n",
        "                    phyd_flt_diameter.loc[phyd_flt_diameter['Illumination trestment 2'] == 'Light', ['diameter']].median(),\n",
        "                    phyd_flt_surface.loc[phyd_flt_surface['Illumination trestment 2'] == 'Light', ['surface']].median()],\n",
        "    ['PhyD_FLT_dark',phyd_flt_len.loc[phyd_flt_len['Illumination trestment 2'] == 'Dark', ['length']].median(),\n",
        "                    phyd_flt_vol.loc[phyd_flt_vol['Illumination trestment 2'] == 'Dark', ['volume']].median(),\n",
        "                    phyd_flt_diameter.loc[phyd_flt_diameter['Illumination trestment 2'] == 'Dark', ['diameter']].median(),\n",
        "                    phyd_flt_surface.loc[phyd_flt_surface['Illumination trestment 2'] == 'Dark', ['surface']].median()],\n",
        "    ['PhyD_GR_light',phyd_gr_len.loc[phyd_gr_len['Illumination trestment 2'] == 'Light', ['length']].median(),\n",
        "                    phyd_gr_vol.loc[phyd_gr_vol['Illumination trestment 2'] == 'Light', ['volume']].median(),\n",
        "                    phyd_gr_diameter.loc[phyd_gr_diameter['Illumination trestment 2'] == 'Light', ['diameter']].median(),\n",
        "                    phyd_gr_surface.loc[phyd_gr_surface['Illumination trestment 2'] == 'Light', ['surface']].median()],\n",
        "    ['PhyD_GR_dark',phyd_gr_len.loc[phyd_gr_len['Illumination trestment 2'] == 'Dark', ['length']].median(),\n",
        "                    phyd_gr_vol.loc[phyd_gr_vol['Illumination trestment 2'] == 'Dark', ['volume']].median(),\n",
        "                    phyd_gr_diameter.loc[phyd_gr_diameter['Illumination trestment 2'] == 'Dark', ['diameter']].median(),\n",
        "                    phyd_gr_surface.loc[phyd_gr_surface['Illumination trestment 2'] == 'Dark', ['surface']].median()],\n",
        "    ['Col_FLT_light',col_flt_len.loc[col_flt_len['Illumination trestment 2'] == 'Light', ['length']].median(),\n",
        "                    col_flt_vol.loc[col_flt_vol['Illumination trestment 2'] == 'Light', ['volume']].median(),\n",
        "                    col_flt_diameter.loc[col_flt_diameter['Illumination trestment 2'] == 'Light', ['diameter']].median(),\n",
        "                    col_flt_surface.loc[col_flt_surface['Illumination trestment 2'] == 'Light', ['surface']].median()],\n",
        "    ['Col_FLT_dark',col_flt_len.loc[col_flt_len['Illumination trestment 2'] == 'Dark', ['length']].median(),\n",
        "                    col_flt_vol.loc[col_flt_vol['Illumination trestment 2'] == 'Dark', ['volume']].median(),\n",
        "                    col_flt_diameter.loc[col_flt_diameter['Illumination trestment 2'] == 'Dark', ['diameter']].median(),\n",
        "                    col_flt_surface.loc[col_flt_surface['Illumination trestment 2'] == 'Dark', ['surface']].median()],\n",
        "    ['Col_GR_light',col_gr_len.loc[col_gr_len['Illumination trestment 2'] == 'Light', ['length']].median(),\n",
        "                    col_gr_vol.loc[col_gr_vol['Illumination trestment 2'] == 'Light', ['volume']].median(),\n",
        "                    col_gr_diameter.loc[col_gr_diameter['Illumination trestment 2'] == 'Light', ['diameter']].median(),\n",
        "                    col_gr_surface.loc[col_gr_surface['Illumination trestment 2'] == 'Light', ['surface']].median()],\n",
        "    ['Col_GR_dark',col_gr_len.loc[col_gr_len['Illumination trestment 2'] == 'Dark', ['length']].median(),\n",
        "                    col_gr_vol.loc[col_gr_vol['Illumination trestment 2'] == 'Dark', ['volume']].median(),\n",
        "                    col_gr_diameter.loc[col_gr_diameter['Illumination trestment 2'] == 'Dark', ['diameter']].median(),\n",
        "                    col_gr_surface.loc[col_gr_surface['Illumination trestment 2'] == 'Dark', ['surface']].median()]]   \n",
        "head=[\"Obs.\",\"Root Length\",\"Root Volume\",\"Root Diameter\",\"Root Surface\"]\n",
        "print(tabulate(df,head,tablefmt=\"grid\"))"
      ],
      "metadata": {
        "colab": {
          "base_uri": "https://localhost:8080/"
        },
        "id": "8F7BtgnmlLRY",
        "outputId": "e20bc0e0-2aec-47c4-ae13-40da0065bdca"
      },
      "execution_count": 62,
      "outputs": [
        {
          "output_type": "stream",
          "name": "stdout",
          "text": [
            "+----------------+---------------+---------------+-----------------+----------------+\n",
            "| Obs.           |   Root Length |   Root Volume |   Root Diameter |   Root Surface |\n",
            "+================+===============+===============+=================+================+\n",
            "| WS_FLT_light   |        3.367  |        0.007  |          0.048  |         0.475  |\n",
            "+----------------+---------------+---------------+-----------------+----------------+\n",
            "| WS_FLT_dark    |        3.3795 |        0.006  |          0.047  |         0.463  |\n",
            "+----------------+---------------+---------------+-----------------+----------------+\n",
            "| WS_GR_light    |        3.508  |        0.008  |          0.053  |         0.544  |\n",
            "+----------------+---------------+---------------+-----------------+----------------+\n",
            "| WS_GR_dark     |        3.7795 |        0.006  |          0.049  |         0.508  |\n",
            "+----------------+---------------+---------------+-----------------+----------------+\n",
            "| PhyD_FLT_light |        3.176  |        0.015  |          0.071  |         0.624  |\n",
            "+----------------+---------------+---------------+-----------------+----------------+\n",
            "| PhyD_FLT_dark  |        3.08   |        0.0055 |          0.0475 |         0.381  |\n",
            "+----------------+---------------+---------------+-----------------+----------------+\n",
            "| PhyD_GR_light  |        3.213  |        0.008  |          0.0545 |         0.4975 |\n",
            "+----------------+---------------+---------------+-----------------+----------------+\n",
            "| PhyD_GR_dark   |        3.441  |        0.0095 |          0.059  |         0.615  |\n",
            "+----------------+---------------+---------------+-----------------+----------------+\n",
            "| Col_FLT_light  |        2.361  |        0.005  |          0.051  |         0.334  |\n",
            "+----------------+---------------+---------------+-----------------+----------------+\n",
            "| Col_FLT_dark   |        3.3035 |        0.006  |          0.0465 |         0.457  |\n",
            "+----------------+---------------+---------------+-----------------+----------------+\n",
            "| Col_GR_light   |        3.063  |        0.007  |          0.05   |         0.495  |\n",
            "+----------------+---------------+---------------+-----------------+----------------+\n",
            "| Col_GR_dark    |        3.6045 |        0.009  |          0.0545 |         0.576  |\n",
            "+----------------+---------------+---------------+-----------------+----------------+\n"
          ]
        }
      ]
    },
    {
      "cell_type": "markdown",
      "source": [
        "## Visualize"
      ],
      "metadata": {
        "id": "BxRCib4jiU_l"
      }
    },
    {
      "cell_type": "markdown",
      "source": [
        "### Root length"
      ],
      "metadata": {
        "id": "osPSYqSsiiy2"
      }
    },
    {
      "cell_type": "code",
      "source": [
        "# Summary Statistics by the Gravitational environment\n",
        "fig = px.box(root_11, x=\"Ecotype/Genotype\", y=\"length\", color=\"Spaceflight Treatment\")\n",
        "fig.update_traces(quartilemethod=\"exclusive\") # or \"inclusive\", or \"linear\" by default\n",
        "fig.show()"
      ],
      "metadata": {
        "colab": {
          "base_uri": "https://localhost:8080/",
          "height": 0
        },
        "id": "N3ZBN1EjbBOj",
        "outputId": "d0802411-b407-4d73-d3b6-e40088e329f9"
      },
      "execution_count": 20,
      "outputs": [
        {
          "output_type": "display_data",
          "data": {
            "text/html": [
              "<html>\n",
              "<head><meta charset=\"utf-8\" /></head>\n",
              "<body>\n",
              "    <div>            <script src=\"https://cdnjs.cloudflare.com/ajax/libs/mathjax/2.7.5/MathJax.js?config=TeX-AMS-MML_SVG\"></script><script type=\"text/javascript\">if (window.MathJax) {MathJax.Hub.Config({SVG: {font: \"STIX-Web\"}});}</script>                <script type=\"text/javascript\">window.PlotlyConfig = {MathJaxConfig: 'local'};</script>\n",
              "        <script src=\"https://cdn.plot.ly/plotly-2.8.3.min.js\"></script>                <div id=\"b2143796-6c73-4f03-acf3-3eadb569ef79\" class=\"plotly-graph-div\" style=\"height:525px; width:100%;\"></div>            <script type=\"text/javascript\">                                    window.PLOTLYENV=window.PLOTLYENV || {};                                    if (document.getElementById(\"b2143796-6c73-4f03-acf3-3eadb569ef79\")) {                    Plotly.newPlot(                        \"b2143796-6c73-4f03-acf3-3eadb569ef79\",                        [{\"alignmentgroup\":\"True\",\"hovertemplate\":\"Spaceflight Treatment=Fl<br>Ecotype/Genotype=%{x}<br>length=%{y}<extra></extra>\",\"legendgroup\":\"Fl\",\"marker\":{\"color\":\"#636efa\"},\"name\":\"Fl\",\"notched\":false,\"offsetgroup\":\"Fl\",\"orientation\":\"v\",\"showlegend\":true,\"x\":[\"WS\",\"WS\",\"WS\",\"WS\",\"WS\",\"Col\",\"Col\",\"Col\",\"Col\",\"Col\",\"PhyD\",\"PhyD\",\"PhyD\",\"PhyD\",\"PhyD\",\"WS\",\"WS\",\"WS\",\"WS\",\"WS\",\"Col\",\"Col\",\"Col\",\"Col\",\"Col\",\"PhyD\",\"PhyD\",\"PhyD\",\"PhyD\",\"PhyD\",\"WS\",\"WS\",\"WS\",\"WS\",\"WS\",\"WS\",\"Col\",\"Col\",\"Col\",\"Col\",\"Col\",\"Col\",\"PhyD\",\"PhyD\",\"PhyD\",\"PhyD\",\"PhyD\",\"PhyD\",\"WS\",\"WS\",\"WS\",\"WS\",\"WS\",\"Col\",\"Col\",\"Col\",\"Col\",\"Col\",\"Col\",\"PhyD\",\"PhyD\",\"PhyD\",\"PhyD\",\"PhyD\",\"WS\",\"WS\",\"WS\",\"WS\",\"WS\",\"Col\",\"Col\",\"Col\",\"Col\",\"Col\",\"Col\",\"PhyD\",\"PhyD\",\"PhyD\",\"PhyD\",\"PhyD\",\"WS\",\"WS\",\"WS\",\"WS\",\"WS\",\"Col\",\"Col\",\"Col\",\"Col\",\"Col\",\"PhyD\",\"PhyD\",\"PhyD\",\"PhyD\",\"PhyD\"],\"x0\":\" \",\"xaxis\":\"x\",\"y\":[3.035,3.056,5.079,4.237,3.734,3.375,3.232,3.398,5.754,2.354,3.958,1.918,3.381,3.168,4.652,3.027,3.571,2.038,2.018,4.001,4.304,2.605,3.167,3.077,4.586,2.779,1.505,2.092,2.67,3.227,4.358,3.284,3.927,3.41,2.286,3.349,3.193,4.546,3.562,4.313,3.174,3.025,4.258,3.013,2.686,3.962,3.147,2.97,3.361,4.452,3.852,4.264,2.777,3.048,2.361,2.384,3.281,2.852,3.852,3.692,3.571,2.975,3.262,3.351,2.66,3.747,3.387,2.749,3.434,2.172,2.17,2.971,2.712,2.105,2.75,2.929,2.839,3.486,3.499,3.848,2.793,3.367,3.027,3.44,3.359,1.582,1.45,1.744,1.857,1.201,2.504,2.846,2.748,3.176,2.813],\"y0\":\" \",\"yaxis\":\"y\",\"type\":\"box\",\"quartilemethod\":\"exclusive\"},{\"alignmentgroup\":\"True\",\"hovertemplate\":\"Spaceflight Treatment=Gr<br>Ecotype/Genotype=%{x}<br>length=%{y}<extra></extra>\",\"legendgroup\":\"Gr\",\"marker\":{\"color\":\"#EF553B\"},\"name\":\"Gr\",\"notched\":false,\"offsetgroup\":\"Gr\",\"orientation\":\"v\",\"showlegend\":true,\"x\":[\"Col\",\"Col\",\"Col\",\"Col\",\"Col\",\"Col\",\"PhyD\",\"PhyD\",\"PhyD\",\"PhyD\",\"PhyD\",\"PhyD\",\"WS\",\"WS\",\"WS\",\"WS\",\"WS\",\"WS\",\"Col\",\"Col\",\"Col\",\"Col\",\"Col\",\"Col\",\"PhyD\",\"PhyD\",\"PhyD\",\"PhyD\",\"PhyD\",\"PhyD\",\"WS\",\"WS\",\"WS\",\"WS\",\"WS\",\"WS\",\"Col\",\"Col\",\"Col\",\"Col\",\"Col\",\"Col\",\"PhyD\",\"PhyD\",\"PhyD\",\"PhyD\",\"PhyD\",\"PhyD\",\"WS\",\"WS\",\"WS\",\"WS\",\"WS\",\"Col\",\"Col\",\"Col\",\"Col\",\"Col\",\"PhyD\",\"PhyD\",\"PhyD\",\"PhyD\",\"PhyD\",\"PhyD\",\"Col\",\"Col\",\"Col\",\"Col\",\"Col\",\"Col\",\"PhyD\",\"PhyD\",\"PhyD\",\"PhyD\",\"PhyD\",\"PhyD\",\"WS\",\"WS\",\"WS\",\"WS\",\"WS\",\"WS\",\"WS\",\"WS\",\"WS\",\"WS\",\"WS\",\"WS\"],\"x0\":\" \",\"xaxis\":\"x\",\"y\":[3.788,4.247,3.566,2.132,3.559,3.643,3.058,3.447,3.435,4.104,4.701,4.589,3.035,3.125,3.633,3.504,3.857,4.132,3.068,3.205,3.156,4.479,3.706,3.686,4.958,1.808,3.013,4.026,4.292,4.177,4.462,4.473,4.232,3.842,3.396,3.717,3.529,4.63,3.777,2.909,3.349,3.94,3.277,3.259,2.948,3.149,3.314,3.784,4.008,3.508,3.823,4.134,3.812,3.136,2.625,2.454,2.983,2.751,3.444,4.001,2.773,3.766,3.459,3.102,3.688,3.54,3.329,2.839,4.191,3.063,3.105,3.245,3.181,3.026,3.062,3.311,2.993,3.511,4.018,3.485,3.711,3.696,2.155,2.607,2.814,2.618,2.522,2.798],\"y0\":\" \",\"yaxis\":\"y\",\"type\":\"box\",\"quartilemethod\":\"exclusive\"}],                        {\"template\":{\"data\":{\"bar\":[{\"error_x\":{\"color\":\"#2a3f5f\"},\"error_y\":{\"color\":\"#2a3f5f\"},\"marker\":{\"line\":{\"color\":\"#E5ECF6\",\"width\":0.5},\"pattern\":{\"fillmode\":\"overlay\",\"size\":10,\"solidity\":0.2}},\"type\":\"bar\"}],\"barpolar\":[{\"marker\":{\"line\":{\"color\":\"#E5ECF6\",\"width\":0.5},\"pattern\":{\"fillmode\":\"overlay\",\"size\":10,\"solidity\":0.2}},\"type\":\"barpolar\"}],\"carpet\":[{\"aaxis\":{\"endlinecolor\":\"#2a3f5f\",\"gridcolor\":\"white\",\"linecolor\":\"white\",\"minorgridcolor\":\"white\",\"startlinecolor\":\"#2a3f5f\"},\"baxis\":{\"endlinecolor\":\"#2a3f5f\",\"gridcolor\":\"white\",\"linecolor\":\"white\",\"minorgridcolor\":\"white\",\"startlinecolor\":\"#2a3f5f\"},\"type\":\"carpet\"}],\"choropleth\":[{\"colorbar\":{\"outlinewidth\":0,\"ticks\":\"\"},\"type\":\"choropleth\"}],\"contour\":[{\"colorbar\":{\"outlinewidth\":0,\"ticks\":\"\"},\"colorscale\":[[0.0,\"#0d0887\"],[0.1111111111111111,\"#46039f\"],[0.2222222222222222,\"#7201a8\"],[0.3333333333333333,\"#9c179e\"],[0.4444444444444444,\"#bd3786\"],[0.5555555555555556,\"#d8576b\"],[0.6666666666666666,\"#ed7953\"],[0.7777777777777778,\"#fb9f3a\"],[0.8888888888888888,\"#fdca26\"],[1.0,\"#f0f921\"]],\"type\":\"contour\"}],\"contourcarpet\":[{\"colorbar\":{\"outlinewidth\":0,\"ticks\":\"\"},\"type\":\"contourcarpet\"}],\"heatmap\":[{\"colorbar\":{\"outlinewidth\":0,\"ticks\":\"\"},\"colorscale\":[[0.0,\"#0d0887\"],[0.1111111111111111,\"#46039f\"],[0.2222222222222222,\"#7201a8\"],[0.3333333333333333,\"#9c179e\"],[0.4444444444444444,\"#bd3786\"],[0.5555555555555556,\"#d8576b\"],[0.6666666666666666,\"#ed7953\"],[0.7777777777777778,\"#fb9f3a\"],[0.8888888888888888,\"#fdca26\"],[1.0,\"#f0f921\"]],\"type\":\"heatmap\"}],\"heatmapgl\":[{\"colorbar\":{\"outlinewidth\":0,\"ticks\":\"\"},\"colorscale\":[[0.0,\"#0d0887\"],[0.1111111111111111,\"#46039f\"],[0.2222222222222222,\"#7201a8\"],[0.3333333333333333,\"#9c179e\"],[0.4444444444444444,\"#bd3786\"],[0.5555555555555556,\"#d8576b\"],[0.6666666666666666,\"#ed7953\"],[0.7777777777777778,\"#fb9f3a\"],[0.8888888888888888,\"#fdca26\"],[1.0,\"#f0f921\"]],\"type\":\"heatmapgl\"}],\"histogram\":[{\"marker\":{\"pattern\":{\"fillmode\":\"overlay\",\"size\":10,\"solidity\":0.2}},\"type\":\"histogram\"}],\"histogram2d\":[{\"colorbar\":{\"outlinewidth\":0,\"ticks\":\"\"},\"colorscale\":[[0.0,\"#0d0887\"],[0.1111111111111111,\"#46039f\"],[0.2222222222222222,\"#7201a8\"],[0.3333333333333333,\"#9c179e\"],[0.4444444444444444,\"#bd3786\"],[0.5555555555555556,\"#d8576b\"],[0.6666666666666666,\"#ed7953\"],[0.7777777777777778,\"#fb9f3a\"],[0.8888888888888888,\"#fdca26\"],[1.0,\"#f0f921\"]],\"type\":\"histogram2d\"}],\"histogram2dcontour\":[{\"colorbar\":{\"outlinewidth\":0,\"ticks\":\"\"},\"colorscale\":[[0.0,\"#0d0887\"],[0.1111111111111111,\"#46039f\"],[0.2222222222222222,\"#7201a8\"],[0.3333333333333333,\"#9c179e\"],[0.4444444444444444,\"#bd3786\"],[0.5555555555555556,\"#d8576b\"],[0.6666666666666666,\"#ed7953\"],[0.7777777777777778,\"#fb9f3a\"],[0.8888888888888888,\"#fdca26\"],[1.0,\"#f0f921\"]],\"type\":\"histogram2dcontour\"}],\"mesh3d\":[{\"colorbar\":{\"outlinewidth\":0,\"ticks\":\"\"},\"type\":\"mesh3d\"}],\"parcoords\":[{\"line\":{\"colorbar\":{\"outlinewidth\":0,\"ticks\":\"\"}},\"type\":\"parcoords\"}],\"pie\":[{\"automargin\":true,\"type\":\"pie\"}],\"scatter\":[{\"marker\":{\"colorbar\":{\"outlinewidth\":0,\"ticks\":\"\"}},\"type\":\"scatter\"}],\"scatter3d\":[{\"line\":{\"colorbar\":{\"outlinewidth\":0,\"ticks\":\"\"}},\"marker\":{\"colorbar\":{\"outlinewidth\":0,\"ticks\":\"\"}},\"type\":\"scatter3d\"}],\"scattercarpet\":[{\"marker\":{\"colorbar\":{\"outlinewidth\":0,\"ticks\":\"\"}},\"type\":\"scattercarpet\"}],\"scattergeo\":[{\"marker\":{\"colorbar\":{\"outlinewidth\":0,\"ticks\":\"\"}},\"type\":\"scattergeo\"}],\"scattergl\":[{\"marker\":{\"colorbar\":{\"outlinewidth\":0,\"ticks\":\"\"}},\"type\":\"scattergl\"}],\"scattermapbox\":[{\"marker\":{\"colorbar\":{\"outlinewidth\":0,\"ticks\":\"\"}},\"type\":\"scattermapbox\"}],\"scatterpolar\":[{\"marker\":{\"colorbar\":{\"outlinewidth\":0,\"ticks\":\"\"}},\"type\":\"scatterpolar\"}],\"scatterpolargl\":[{\"marker\":{\"colorbar\":{\"outlinewidth\":0,\"ticks\":\"\"}},\"type\":\"scatterpolargl\"}],\"scatterternary\":[{\"marker\":{\"colorbar\":{\"outlinewidth\":0,\"ticks\":\"\"}},\"type\":\"scatterternary\"}],\"surface\":[{\"colorbar\":{\"outlinewidth\":0,\"ticks\":\"\"},\"colorscale\":[[0.0,\"#0d0887\"],[0.1111111111111111,\"#46039f\"],[0.2222222222222222,\"#7201a8\"],[0.3333333333333333,\"#9c179e\"],[0.4444444444444444,\"#bd3786\"],[0.5555555555555556,\"#d8576b\"],[0.6666666666666666,\"#ed7953\"],[0.7777777777777778,\"#fb9f3a\"],[0.8888888888888888,\"#fdca26\"],[1.0,\"#f0f921\"]],\"type\":\"surface\"}],\"table\":[{\"cells\":{\"fill\":{\"color\":\"#EBF0F8\"},\"line\":{\"color\":\"white\"}},\"header\":{\"fill\":{\"color\":\"#C8D4E3\"},\"line\":{\"color\":\"white\"}},\"type\":\"table\"}]},\"layout\":{\"annotationdefaults\":{\"arrowcolor\":\"#2a3f5f\",\"arrowhead\":0,\"arrowwidth\":1},\"autotypenumbers\":\"strict\",\"coloraxis\":{\"colorbar\":{\"outlinewidth\":0,\"ticks\":\"\"}},\"colorscale\":{\"diverging\":[[0,\"#8e0152\"],[0.1,\"#c51b7d\"],[0.2,\"#de77ae\"],[0.3,\"#f1b6da\"],[0.4,\"#fde0ef\"],[0.5,\"#f7f7f7\"],[0.6,\"#e6f5d0\"],[0.7,\"#b8e186\"],[0.8,\"#7fbc41\"],[0.9,\"#4d9221\"],[1,\"#276419\"]],\"sequential\":[[0.0,\"#0d0887\"],[0.1111111111111111,\"#46039f\"],[0.2222222222222222,\"#7201a8\"],[0.3333333333333333,\"#9c179e\"],[0.4444444444444444,\"#bd3786\"],[0.5555555555555556,\"#d8576b\"],[0.6666666666666666,\"#ed7953\"],[0.7777777777777778,\"#fb9f3a\"],[0.8888888888888888,\"#fdca26\"],[1.0,\"#f0f921\"]],\"sequentialminus\":[[0.0,\"#0d0887\"],[0.1111111111111111,\"#46039f\"],[0.2222222222222222,\"#7201a8\"],[0.3333333333333333,\"#9c179e\"],[0.4444444444444444,\"#bd3786\"],[0.5555555555555556,\"#d8576b\"],[0.6666666666666666,\"#ed7953\"],[0.7777777777777778,\"#fb9f3a\"],[0.8888888888888888,\"#fdca26\"],[1.0,\"#f0f921\"]]},\"colorway\":[\"#636efa\",\"#EF553B\",\"#00cc96\",\"#ab63fa\",\"#FFA15A\",\"#19d3f3\",\"#FF6692\",\"#B6E880\",\"#FF97FF\",\"#FECB52\"],\"font\":{\"color\":\"#2a3f5f\"},\"geo\":{\"bgcolor\":\"white\",\"lakecolor\":\"white\",\"landcolor\":\"#E5ECF6\",\"showlakes\":true,\"showland\":true,\"subunitcolor\":\"white\"},\"hoverlabel\":{\"align\":\"left\"},\"hovermode\":\"closest\",\"mapbox\":{\"style\":\"light\"},\"paper_bgcolor\":\"white\",\"plot_bgcolor\":\"#E5ECF6\",\"polar\":{\"angularaxis\":{\"gridcolor\":\"white\",\"linecolor\":\"white\",\"ticks\":\"\"},\"bgcolor\":\"#E5ECF6\",\"radialaxis\":{\"gridcolor\":\"white\",\"linecolor\":\"white\",\"ticks\":\"\"}},\"scene\":{\"xaxis\":{\"backgroundcolor\":\"#E5ECF6\",\"gridcolor\":\"white\",\"gridwidth\":2,\"linecolor\":\"white\",\"showbackground\":true,\"ticks\":\"\",\"zerolinecolor\":\"white\"},\"yaxis\":{\"backgroundcolor\":\"#E5ECF6\",\"gridcolor\":\"white\",\"gridwidth\":2,\"linecolor\":\"white\",\"showbackground\":true,\"ticks\":\"\",\"zerolinecolor\":\"white\"},\"zaxis\":{\"backgroundcolor\":\"#E5ECF6\",\"gridcolor\":\"white\",\"gridwidth\":2,\"linecolor\":\"white\",\"showbackground\":true,\"ticks\":\"\",\"zerolinecolor\":\"white\"}},\"shapedefaults\":{\"line\":{\"color\":\"#2a3f5f\"}},\"ternary\":{\"aaxis\":{\"gridcolor\":\"white\",\"linecolor\":\"white\",\"ticks\":\"\"},\"baxis\":{\"gridcolor\":\"white\",\"linecolor\":\"white\",\"ticks\":\"\"},\"bgcolor\":\"#E5ECF6\",\"caxis\":{\"gridcolor\":\"white\",\"linecolor\":\"white\",\"ticks\":\"\"}},\"title\":{\"x\":0.05},\"xaxis\":{\"automargin\":true,\"gridcolor\":\"white\",\"linecolor\":\"white\",\"ticks\":\"\",\"title\":{\"standoff\":15},\"zerolinecolor\":\"white\",\"zerolinewidth\":2},\"yaxis\":{\"automargin\":true,\"gridcolor\":\"white\",\"linecolor\":\"white\",\"ticks\":\"\",\"title\":{\"standoff\":15},\"zerolinecolor\":\"white\",\"zerolinewidth\":2}}},\"xaxis\":{\"anchor\":\"y\",\"domain\":[0.0,1.0],\"title\":{\"text\":\"Ecotype/Genotype\"}},\"yaxis\":{\"anchor\":\"x\",\"domain\":[0.0,1.0],\"title\":{\"text\":\"length\"}},\"legend\":{\"title\":{\"text\":\"Spaceflight Treatment\"},\"tracegroupgap\":0},\"margin\":{\"t\":60},\"boxmode\":\"group\"},                        {\"responsive\": true}                    ).then(function(){\n",
              "                            \n",
              "var gd = document.getElementById('b2143796-6c73-4f03-acf3-3eadb569ef79');\n",
              "var x = new MutationObserver(function (mutations, observer) {{\n",
              "        var display = window.getComputedStyle(gd).display;\n",
              "        if (!display || display === 'none') {{\n",
              "            console.log([gd, 'removed!']);\n",
              "            Plotly.purge(gd);\n",
              "            observer.disconnect();\n",
              "        }}\n",
              "}});\n",
              "\n",
              "// Listen for the removal of the full notebook cells\n",
              "var notebookContainer = gd.closest('#notebook-container');\n",
              "if (notebookContainer) {{\n",
              "    x.observe(notebookContainer, {childList: true});\n",
              "}}\n",
              "\n",
              "// Listen for the clearing of the current output cell\n",
              "var outputEl = gd.closest('.output');\n",
              "if (outputEl) {{\n",
              "    x.observe(outputEl, {childList: true});\n",
              "}}\n",
              "\n",
              "                        })                };                            </script>        </div>\n",
              "</body>\n",
              "</html>"
            ]
          },
          "metadata": {}
        }
      ]
    },
    {
      "cell_type": "code",
      "source": [
        "# Summary Statistics by the Gravitational environment\n",
        "fig = px.box(root_11, x=\"Illumination trestment 2\", y=\"length\", color=\"Spaceflight Treatment\")\n",
        "fig.update_traces(quartilemethod=\"exclusive\") # or \"inclusive\", or \"linear\" by default\n",
        "fig.show()"
      ],
      "metadata": {
        "colab": {
          "base_uri": "https://localhost:8080/",
          "height": 0
        },
        "id": "d4ki73DohnYY",
        "outputId": "441ca157-0a66-420f-9743-07a80ffc05f7"
      },
      "execution_count": 33,
      "outputs": [
        {
          "output_type": "display_data",
          "data": {
            "text/html": [
              "<html>\n",
              "<head><meta charset=\"utf-8\" /></head>\n",
              "<body>\n",
              "    <div>            <script src=\"https://cdnjs.cloudflare.com/ajax/libs/mathjax/2.7.5/MathJax.js?config=TeX-AMS-MML_SVG\"></script><script type=\"text/javascript\">if (window.MathJax) {MathJax.Hub.Config({SVG: {font: \"STIX-Web\"}});}</script>                <script type=\"text/javascript\">window.PlotlyConfig = {MathJaxConfig: 'local'};</script>\n",
              "        <script src=\"https://cdn.plot.ly/plotly-2.8.3.min.js\"></script>                <div id=\"14ad338d-97c8-4df6-93da-e66d518b87c4\" class=\"plotly-graph-div\" style=\"height:525px; width:100%;\"></div>            <script type=\"text/javascript\">                                    window.PLOTLYENV=window.PLOTLYENV || {};                                    if (document.getElementById(\"14ad338d-97c8-4df6-93da-e66d518b87c4\")) {                    Plotly.newPlot(                        \"14ad338d-97c8-4df6-93da-e66d518b87c4\",                        [{\"alignmentgroup\":\"True\",\"hovertemplate\":\"Spaceflight Treatment=Fl<br>Illumination trestment 2=%{x}<br>length=%{y}<extra></extra>\",\"legendgroup\":\"Fl\",\"marker\":{\"color\":\"#636efa\"},\"name\":\"Fl\",\"notched\":false,\"offsetgroup\":\"Fl\",\"orientation\":\"v\",\"showlegend\":true,\"x\":[\"Dark\",\"Dark\",\"Dark\",\"Dark\",\"Dark\",\"Dark\",\"Dark\",\"Dark\",\"Dark\",\"Dark\",\"Dark\",\"Dark\",\"Dark\",\"Dark\",\"Dark\",\"Dark\",\"Dark\",\"Dark\",\"Dark\",\"Dark\",\"Dark\",\"Dark\",\"Dark\",\"Dark\",\"Dark\",\"Dark\",\"Dark\",\"Dark\",\"Dark\",\"Dark\",\"Dark\",\"Dark\",\"Dark\",\"Dark\",\"Dark\",\"Dark\",\"Dark\",\"Dark\",\"Dark\",\"Dark\",\"Dark\",\"Dark\",\"Dark\",\"Dark\",\"Dark\",\"Dark\",\"Dark\",\"Dark\",\"Light\",\"Light\",\"Light\",\"Light\",\"Light\",\"Light\",\"Light\",\"Light\",\"Light\",\"Light\",\"Light\",\"Light\",\"Light\",\"Light\",\"Light\",\"Light\",\"Light\",\"Light\",\"Light\",\"Light\",\"Light\",\"Light\",\"Light\",\"Light\",\"Light\",\"Light\",\"Light\",\"Light\",\"Light\",\"Light\",\"Light\",\"Light\",\"Light\",\"Light\",\"Light\",\"Light\",\"Light\",\"Light\",\"Light\",\"Light\",\"Light\",\"Light\",\"Light\",\"Light\",\"Light\",\"Light\",\"Light\"],\"x0\":\" \",\"xaxis\":\"x\",\"y\":[3.035,3.056,5.079,4.237,3.734,3.375,3.232,3.398,5.754,2.354,3.958,1.918,3.381,3.168,4.652,3.027,3.571,2.038,2.018,4.001,4.304,2.605,3.167,3.077,4.586,2.779,1.505,2.092,2.67,3.227,4.358,3.284,3.927,3.41,2.286,3.349,3.193,4.546,3.562,4.313,3.174,3.025,4.258,3.013,2.686,3.962,3.147,2.97,3.361,4.452,3.852,4.264,2.777,3.048,2.361,2.384,3.281,2.852,3.852,3.692,3.571,2.975,3.262,3.351,2.66,3.747,3.387,2.749,3.434,2.172,2.17,2.971,2.712,2.105,2.75,2.929,2.839,3.486,3.499,3.848,2.793,3.367,3.027,3.44,3.359,1.582,1.45,1.744,1.857,1.201,2.504,2.846,2.748,3.176,2.813],\"y0\":\" \",\"yaxis\":\"y\",\"type\":\"box\",\"quartilemethod\":\"exclusive\"},{\"alignmentgroup\":\"True\",\"hovertemplate\":\"Spaceflight Treatment=Gr<br>Illumination trestment 2=%{x}<br>length=%{y}<extra></extra>\",\"legendgroup\":\"Gr\",\"marker\":{\"color\":\"#EF553B\"},\"name\":\"Gr\",\"notched\":false,\"offsetgroup\":\"Gr\",\"orientation\":\"v\",\"showlegend\":true,\"x\":[\"Dark\",\"Dark\",\"Dark\",\"Dark\",\"Dark\",\"Dark\",\"Dark\",\"Dark\",\"Dark\",\"Dark\",\"Dark\",\"Dark\",\"Dark\",\"Dark\",\"Dark\",\"Dark\",\"Dark\",\"Dark\",\"Dark\",\"Dark\",\"Dark\",\"Dark\",\"Dark\",\"Dark\",\"Dark\",\"Dark\",\"Dark\",\"Dark\",\"Dark\",\"Dark\",\"Dark\",\"Dark\",\"Dark\",\"Dark\",\"Dark\",\"Dark\",\"Dark\",\"Dark\",\"Dark\",\"Dark\",\"Dark\",\"Dark\",\"Dark\",\"Dark\",\"Dark\",\"Dark\",\"Dark\",\"Dark\",\"Light\",\"Light\",\"Light\",\"Light\",\"Light\",\"Light\",\"Light\",\"Light\",\"Light\",\"Light\",\"Light\",\"Light\",\"Light\",\"Light\",\"Light\",\"Light\",\"Light\",\"Light\",\"Light\",\"Light\",\"Light\",\"Light\",\"Light\",\"Light\",\"Light\",\"Light\",\"Light\",\"Light\",\"Light\",\"Light\",\"Light\",\"Light\",\"Light\",\"Light\",\"Light\",\"Light\",\"Light\",\"Light\",\"Light\",\"Light\"],\"x0\":\" \",\"xaxis\":\"x\",\"y\":[3.788,4.247,3.566,2.132,3.559,3.643,3.058,3.447,3.435,4.104,4.701,4.589,3.035,3.125,3.633,3.504,3.857,4.132,3.068,3.205,3.156,4.479,3.706,3.686,4.958,1.808,3.013,4.026,4.292,4.177,4.462,4.473,4.232,3.842,3.396,3.717,3.529,4.63,3.777,2.909,3.349,3.94,3.277,3.259,2.948,3.149,3.314,3.784,4.008,3.508,3.823,4.134,3.812,3.136,2.625,2.454,2.983,2.751,3.444,4.001,2.773,3.766,3.459,3.102,3.688,3.54,3.329,2.839,4.191,3.063,3.105,3.245,3.181,3.026,3.062,3.311,2.993,3.511,4.018,3.485,3.711,3.696,2.155,2.607,2.814,2.618,2.522,2.798],\"y0\":\" \",\"yaxis\":\"y\",\"type\":\"box\",\"quartilemethod\":\"exclusive\"}],                        {\"template\":{\"data\":{\"bar\":[{\"error_x\":{\"color\":\"#2a3f5f\"},\"error_y\":{\"color\":\"#2a3f5f\"},\"marker\":{\"line\":{\"color\":\"#E5ECF6\",\"width\":0.5},\"pattern\":{\"fillmode\":\"overlay\",\"size\":10,\"solidity\":0.2}},\"type\":\"bar\"}],\"barpolar\":[{\"marker\":{\"line\":{\"color\":\"#E5ECF6\",\"width\":0.5},\"pattern\":{\"fillmode\":\"overlay\",\"size\":10,\"solidity\":0.2}},\"type\":\"barpolar\"}],\"carpet\":[{\"aaxis\":{\"endlinecolor\":\"#2a3f5f\",\"gridcolor\":\"white\",\"linecolor\":\"white\",\"minorgridcolor\":\"white\",\"startlinecolor\":\"#2a3f5f\"},\"baxis\":{\"endlinecolor\":\"#2a3f5f\",\"gridcolor\":\"white\",\"linecolor\":\"white\",\"minorgridcolor\":\"white\",\"startlinecolor\":\"#2a3f5f\"},\"type\":\"carpet\"}],\"choropleth\":[{\"colorbar\":{\"outlinewidth\":0,\"ticks\":\"\"},\"type\":\"choropleth\"}],\"contour\":[{\"colorbar\":{\"outlinewidth\":0,\"ticks\":\"\"},\"colorscale\":[[0.0,\"#0d0887\"],[0.1111111111111111,\"#46039f\"],[0.2222222222222222,\"#7201a8\"],[0.3333333333333333,\"#9c179e\"],[0.4444444444444444,\"#bd3786\"],[0.5555555555555556,\"#d8576b\"],[0.6666666666666666,\"#ed7953\"],[0.7777777777777778,\"#fb9f3a\"],[0.8888888888888888,\"#fdca26\"],[1.0,\"#f0f921\"]],\"type\":\"contour\"}],\"contourcarpet\":[{\"colorbar\":{\"outlinewidth\":0,\"ticks\":\"\"},\"type\":\"contourcarpet\"}],\"heatmap\":[{\"colorbar\":{\"outlinewidth\":0,\"ticks\":\"\"},\"colorscale\":[[0.0,\"#0d0887\"],[0.1111111111111111,\"#46039f\"],[0.2222222222222222,\"#7201a8\"],[0.3333333333333333,\"#9c179e\"],[0.4444444444444444,\"#bd3786\"],[0.5555555555555556,\"#d8576b\"],[0.6666666666666666,\"#ed7953\"],[0.7777777777777778,\"#fb9f3a\"],[0.8888888888888888,\"#fdca26\"],[1.0,\"#f0f921\"]],\"type\":\"heatmap\"}],\"heatmapgl\":[{\"colorbar\":{\"outlinewidth\":0,\"ticks\":\"\"},\"colorscale\":[[0.0,\"#0d0887\"],[0.1111111111111111,\"#46039f\"],[0.2222222222222222,\"#7201a8\"],[0.3333333333333333,\"#9c179e\"],[0.4444444444444444,\"#bd3786\"],[0.5555555555555556,\"#d8576b\"],[0.6666666666666666,\"#ed7953\"],[0.7777777777777778,\"#fb9f3a\"],[0.8888888888888888,\"#fdca26\"],[1.0,\"#f0f921\"]],\"type\":\"heatmapgl\"}],\"histogram\":[{\"marker\":{\"pattern\":{\"fillmode\":\"overlay\",\"size\":10,\"solidity\":0.2}},\"type\":\"histogram\"}],\"histogram2d\":[{\"colorbar\":{\"outlinewidth\":0,\"ticks\":\"\"},\"colorscale\":[[0.0,\"#0d0887\"],[0.1111111111111111,\"#46039f\"],[0.2222222222222222,\"#7201a8\"],[0.3333333333333333,\"#9c179e\"],[0.4444444444444444,\"#bd3786\"],[0.5555555555555556,\"#d8576b\"],[0.6666666666666666,\"#ed7953\"],[0.7777777777777778,\"#fb9f3a\"],[0.8888888888888888,\"#fdca26\"],[1.0,\"#f0f921\"]],\"type\":\"histogram2d\"}],\"histogram2dcontour\":[{\"colorbar\":{\"outlinewidth\":0,\"ticks\":\"\"},\"colorscale\":[[0.0,\"#0d0887\"],[0.1111111111111111,\"#46039f\"],[0.2222222222222222,\"#7201a8\"],[0.3333333333333333,\"#9c179e\"],[0.4444444444444444,\"#bd3786\"],[0.5555555555555556,\"#d8576b\"],[0.6666666666666666,\"#ed7953\"],[0.7777777777777778,\"#fb9f3a\"],[0.8888888888888888,\"#fdca26\"],[1.0,\"#f0f921\"]],\"type\":\"histogram2dcontour\"}],\"mesh3d\":[{\"colorbar\":{\"outlinewidth\":0,\"ticks\":\"\"},\"type\":\"mesh3d\"}],\"parcoords\":[{\"line\":{\"colorbar\":{\"outlinewidth\":0,\"ticks\":\"\"}},\"type\":\"parcoords\"}],\"pie\":[{\"automargin\":true,\"type\":\"pie\"}],\"scatter\":[{\"marker\":{\"colorbar\":{\"outlinewidth\":0,\"ticks\":\"\"}},\"type\":\"scatter\"}],\"scatter3d\":[{\"line\":{\"colorbar\":{\"outlinewidth\":0,\"ticks\":\"\"}},\"marker\":{\"colorbar\":{\"outlinewidth\":0,\"ticks\":\"\"}},\"type\":\"scatter3d\"}],\"scattercarpet\":[{\"marker\":{\"colorbar\":{\"outlinewidth\":0,\"ticks\":\"\"}},\"type\":\"scattercarpet\"}],\"scattergeo\":[{\"marker\":{\"colorbar\":{\"outlinewidth\":0,\"ticks\":\"\"}},\"type\":\"scattergeo\"}],\"scattergl\":[{\"marker\":{\"colorbar\":{\"outlinewidth\":0,\"ticks\":\"\"}},\"type\":\"scattergl\"}],\"scattermapbox\":[{\"marker\":{\"colorbar\":{\"outlinewidth\":0,\"ticks\":\"\"}},\"type\":\"scattermapbox\"}],\"scatterpolar\":[{\"marker\":{\"colorbar\":{\"outlinewidth\":0,\"ticks\":\"\"}},\"type\":\"scatterpolar\"}],\"scatterpolargl\":[{\"marker\":{\"colorbar\":{\"outlinewidth\":0,\"ticks\":\"\"}},\"type\":\"scatterpolargl\"}],\"scatterternary\":[{\"marker\":{\"colorbar\":{\"outlinewidth\":0,\"ticks\":\"\"}},\"type\":\"scatterternary\"}],\"surface\":[{\"colorbar\":{\"outlinewidth\":0,\"ticks\":\"\"},\"colorscale\":[[0.0,\"#0d0887\"],[0.1111111111111111,\"#46039f\"],[0.2222222222222222,\"#7201a8\"],[0.3333333333333333,\"#9c179e\"],[0.4444444444444444,\"#bd3786\"],[0.5555555555555556,\"#d8576b\"],[0.6666666666666666,\"#ed7953\"],[0.7777777777777778,\"#fb9f3a\"],[0.8888888888888888,\"#fdca26\"],[1.0,\"#f0f921\"]],\"type\":\"surface\"}],\"table\":[{\"cells\":{\"fill\":{\"color\":\"#EBF0F8\"},\"line\":{\"color\":\"white\"}},\"header\":{\"fill\":{\"color\":\"#C8D4E3\"},\"line\":{\"color\":\"white\"}},\"type\":\"table\"}]},\"layout\":{\"annotationdefaults\":{\"arrowcolor\":\"#2a3f5f\",\"arrowhead\":0,\"arrowwidth\":1},\"autotypenumbers\":\"strict\",\"coloraxis\":{\"colorbar\":{\"outlinewidth\":0,\"ticks\":\"\"}},\"colorscale\":{\"diverging\":[[0,\"#8e0152\"],[0.1,\"#c51b7d\"],[0.2,\"#de77ae\"],[0.3,\"#f1b6da\"],[0.4,\"#fde0ef\"],[0.5,\"#f7f7f7\"],[0.6,\"#e6f5d0\"],[0.7,\"#b8e186\"],[0.8,\"#7fbc41\"],[0.9,\"#4d9221\"],[1,\"#276419\"]],\"sequential\":[[0.0,\"#0d0887\"],[0.1111111111111111,\"#46039f\"],[0.2222222222222222,\"#7201a8\"],[0.3333333333333333,\"#9c179e\"],[0.4444444444444444,\"#bd3786\"],[0.5555555555555556,\"#d8576b\"],[0.6666666666666666,\"#ed7953\"],[0.7777777777777778,\"#fb9f3a\"],[0.8888888888888888,\"#fdca26\"],[1.0,\"#f0f921\"]],\"sequentialminus\":[[0.0,\"#0d0887\"],[0.1111111111111111,\"#46039f\"],[0.2222222222222222,\"#7201a8\"],[0.3333333333333333,\"#9c179e\"],[0.4444444444444444,\"#bd3786\"],[0.5555555555555556,\"#d8576b\"],[0.6666666666666666,\"#ed7953\"],[0.7777777777777778,\"#fb9f3a\"],[0.8888888888888888,\"#fdca26\"],[1.0,\"#f0f921\"]]},\"colorway\":[\"#636efa\",\"#EF553B\",\"#00cc96\",\"#ab63fa\",\"#FFA15A\",\"#19d3f3\",\"#FF6692\",\"#B6E880\",\"#FF97FF\",\"#FECB52\"],\"font\":{\"color\":\"#2a3f5f\"},\"geo\":{\"bgcolor\":\"white\",\"lakecolor\":\"white\",\"landcolor\":\"#E5ECF6\",\"showlakes\":true,\"showland\":true,\"subunitcolor\":\"white\"},\"hoverlabel\":{\"align\":\"left\"},\"hovermode\":\"closest\",\"mapbox\":{\"style\":\"light\"},\"paper_bgcolor\":\"white\",\"plot_bgcolor\":\"#E5ECF6\",\"polar\":{\"angularaxis\":{\"gridcolor\":\"white\",\"linecolor\":\"white\",\"ticks\":\"\"},\"bgcolor\":\"#E5ECF6\",\"radialaxis\":{\"gridcolor\":\"white\",\"linecolor\":\"white\",\"ticks\":\"\"}},\"scene\":{\"xaxis\":{\"backgroundcolor\":\"#E5ECF6\",\"gridcolor\":\"white\",\"gridwidth\":2,\"linecolor\":\"white\",\"showbackground\":true,\"ticks\":\"\",\"zerolinecolor\":\"white\"},\"yaxis\":{\"backgroundcolor\":\"#E5ECF6\",\"gridcolor\":\"white\",\"gridwidth\":2,\"linecolor\":\"white\",\"showbackground\":true,\"ticks\":\"\",\"zerolinecolor\":\"white\"},\"zaxis\":{\"backgroundcolor\":\"#E5ECF6\",\"gridcolor\":\"white\",\"gridwidth\":2,\"linecolor\":\"white\",\"showbackground\":true,\"ticks\":\"\",\"zerolinecolor\":\"white\"}},\"shapedefaults\":{\"line\":{\"color\":\"#2a3f5f\"}},\"ternary\":{\"aaxis\":{\"gridcolor\":\"white\",\"linecolor\":\"white\",\"ticks\":\"\"},\"baxis\":{\"gridcolor\":\"white\",\"linecolor\":\"white\",\"ticks\":\"\"},\"bgcolor\":\"#E5ECF6\",\"caxis\":{\"gridcolor\":\"white\",\"linecolor\":\"white\",\"ticks\":\"\"}},\"title\":{\"x\":0.05},\"xaxis\":{\"automargin\":true,\"gridcolor\":\"white\",\"linecolor\":\"white\",\"ticks\":\"\",\"title\":{\"standoff\":15},\"zerolinecolor\":\"white\",\"zerolinewidth\":2},\"yaxis\":{\"automargin\":true,\"gridcolor\":\"white\",\"linecolor\":\"white\",\"ticks\":\"\",\"title\":{\"standoff\":15},\"zerolinecolor\":\"white\",\"zerolinewidth\":2}}},\"xaxis\":{\"anchor\":\"y\",\"domain\":[0.0,1.0],\"title\":{\"text\":\"Illumination trestment 2\"}},\"yaxis\":{\"anchor\":\"x\",\"domain\":[0.0,1.0],\"title\":{\"text\":\"length\"}},\"legend\":{\"title\":{\"text\":\"Spaceflight Treatment\"},\"tracegroupgap\":0},\"margin\":{\"t\":60},\"boxmode\":\"group\"},                        {\"responsive\": true}                    ).then(function(){\n",
              "                            \n",
              "var gd = document.getElementById('14ad338d-97c8-4df6-93da-e66d518b87c4');\n",
              "var x = new MutationObserver(function (mutations, observer) {{\n",
              "        var display = window.getComputedStyle(gd).display;\n",
              "        if (!display || display === 'none') {{\n",
              "            console.log([gd, 'removed!']);\n",
              "            Plotly.purge(gd);\n",
              "            observer.disconnect();\n",
              "        }}\n",
              "}});\n",
              "\n",
              "// Listen for the removal of the full notebook cells\n",
              "var notebookContainer = gd.closest('#notebook-container');\n",
              "if (notebookContainer) {{\n",
              "    x.observe(notebookContainer, {childList: true});\n",
              "}}\n",
              "\n",
              "// Listen for the clearing of the current output cell\n",
              "var outputEl = gd.closest('.output');\n",
              "if (outputEl) {{\n",
              "    x.observe(outputEl, {childList: true});\n",
              "}}\n",
              "\n",
              "                        })                };                            </script>        </div>\n",
              "</body>\n",
              "</html>"
            ]
          },
          "metadata": {}
        }
      ]
    },
    {
      "cell_type": "code",
      "source": [
        "fig = go.Figure()\n",
        "\n",
        "fig.add_trace(go.Box(\n",
        "    y=ws_len['length'],\n",
        "    x=ws_len['Illumination trestment 2'],\n",
        "    name='WS',\n",
        "))\n",
        "fig.add_trace(go.Box(\n",
        "    y=phyd_len['length'],\n",
        "    x=phyd_len['Illumination trestment 2'],\n",
        "    name='PhyD',\n",
        "))\n",
        "fig.add_trace(go.Box(\n",
        "    y=col_len['length'],\n",
        "    x=col_len['Illumination trestment 2'],\n",
        "    name='Col',\n",
        "))\n",
        "\n",
        "\n",
        "fig.update_layout(\n",
        "    yaxis_title='root length',\n",
        "    boxmode='group' # group together boxes of the different traces for each value of x\n",
        ")\n",
        "fig.show()\n"
      ],
      "metadata": {
        "colab": {
          "base_uri": "https://localhost:8080/",
          "height": 0
        },
        "id": "K_ChcSXHhO04",
        "outputId": "46b3e380-38ee-4aa6-e0d5-5031bc9f401b"
      },
      "execution_count": 32,
      "outputs": [
        {
          "output_type": "display_data",
          "data": {
            "text/html": [
              "<html>\n",
              "<head><meta charset=\"utf-8\" /></head>\n",
              "<body>\n",
              "    <div>            <script src=\"https://cdnjs.cloudflare.com/ajax/libs/mathjax/2.7.5/MathJax.js?config=TeX-AMS-MML_SVG\"></script><script type=\"text/javascript\">if (window.MathJax) {MathJax.Hub.Config({SVG: {font: \"STIX-Web\"}});}</script>                <script type=\"text/javascript\">window.PlotlyConfig = {MathJaxConfig: 'local'};</script>\n",
              "        <script src=\"https://cdn.plot.ly/plotly-2.8.3.min.js\"></script>                <div id=\"23e23b86-91da-4ed7-9ecd-4b662d557ba5\" class=\"plotly-graph-div\" style=\"height:525px; width:100%;\"></div>            <script type=\"text/javascript\">                                    window.PLOTLYENV=window.PLOTLYENV || {};                                    if (document.getElementById(\"23e23b86-91da-4ed7-9ecd-4b662d557ba5\")) {                    Plotly.newPlot(                        \"23e23b86-91da-4ed7-9ecd-4b662d557ba5\",                        [{\"name\":\"WS\",\"x\":[\"Dark\",\"Dark\",\"Dark\",\"Dark\",\"Dark\",\"Dark\",\"Dark\",\"Dark\",\"Dark\",\"Dark\",\"Dark\",\"Dark\",\"Dark\",\"Dark\",\"Dark\",\"Dark\",\"Light\",\"Light\",\"Light\",\"Light\",\"Light\",\"Light\",\"Light\",\"Light\",\"Light\",\"Light\",\"Light\",\"Light\",\"Light\",\"Light\",\"Light\",\"Dark\",\"Dark\",\"Dark\",\"Dark\",\"Dark\",\"Dark\",\"Dark\",\"Dark\",\"Dark\",\"Dark\",\"Dark\",\"Dark\",\"Light\",\"Light\",\"Light\",\"Light\",\"Light\",\"Light\",\"Light\",\"Light\",\"Light\",\"Light\",\"Light\",\"Light\",\"Light\",\"Light\",\"Light\",\"Light\",\"Light\"],\"y\":[3.035,3.056,5.079,4.237,3.734,3.027,3.571,2.038,2.018,4.001,4.358,3.284,3.927,3.41,2.286,3.349,3.361,4.452,3.852,4.264,2.777,2.66,3.747,3.387,2.749,3.434,2.793,3.367,3.027,3.44,3.359,3.035,3.125,3.633,3.504,3.857,4.132,4.462,4.473,4.232,3.842,3.396,3.717,4.008,3.508,3.823,4.134,3.812,2.993,3.511,4.018,3.485,3.711,3.696,2.155,2.607,2.814,2.618,2.522,2.798],\"type\":\"box\"},{\"name\":\"PhyD\",\"x\":[\"Dark\",\"Dark\",\"Dark\",\"Dark\",\"Dark\",\"Dark\",\"Dark\",\"Dark\",\"Dark\",\"Dark\",\"Dark\",\"Dark\",\"Dark\",\"Dark\",\"Dark\",\"Dark\",\"Light\",\"Light\",\"Light\",\"Light\",\"Light\",\"Light\",\"Light\",\"Light\",\"Light\",\"Light\",\"Light\",\"Light\",\"Light\",\"Light\",\"Light\",\"Dark\",\"Dark\",\"Dark\",\"Dark\",\"Dark\",\"Dark\",\"Dark\",\"Dark\",\"Dark\",\"Dark\",\"Dark\",\"Dark\",\"Dark\",\"Dark\",\"Dark\",\"Dark\",\"Dark\",\"Dark\",\"Light\",\"Light\",\"Light\",\"Light\",\"Light\",\"Light\",\"Light\",\"Light\",\"Light\",\"Light\",\"Light\",\"Light\"],\"y\":[3.958,1.918,3.381,3.168,4.652,2.779,1.505,2.092,2.67,3.227,4.258,3.013,2.686,3.962,3.147,2.97,3.692,3.571,2.975,3.262,3.351,2.929,2.839,3.486,3.499,3.848,2.504,2.846,2.748,3.176,2.813,3.058,3.447,3.435,4.104,4.701,4.589,4.958,1.808,3.013,4.026,4.292,4.177,3.277,3.259,2.948,3.149,3.314,3.784,3.444,4.001,2.773,3.766,3.459,3.102,3.105,3.245,3.181,3.026,3.062,3.311],\"type\":\"box\"},{\"name\":\"Col\",\"x\":[\"Dark\",\"Dark\",\"Dark\",\"Dark\",\"Dark\",\"Dark\",\"Dark\",\"Dark\",\"Dark\",\"Dark\",\"Dark\",\"Dark\",\"Dark\",\"Dark\",\"Dark\",\"Dark\",\"Light\",\"Light\",\"Light\",\"Light\",\"Light\",\"Light\",\"Light\",\"Light\",\"Light\",\"Light\",\"Light\",\"Light\",\"Light\",\"Light\",\"Light\",\"Light\",\"Light\",\"Dark\",\"Dark\",\"Dark\",\"Dark\",\"Dark\",\"Dark\",\"Dark\",\"Dark\",\"Dark\",\"Dark\",\"Dark\",\"Dark\",\"Dark\",\"Dark\",\"Dark\",\"Dark\",\"Dark\",\"Dark\",\"Light\",\"Light\",\"Light\",\"Light\",\"Light\",\"Light\",\"Light\",\"Light\",\"Light\",\"Light\",\"Light\"],\"y\":[3.375,3.232,3.398,5.754,2.354,4.304,2.605,3.167,3.077,4.586,3.193,4.546,3.562,4.313,3.174,3.025,3.048,2.361,2.384,3.281,2.852,3.852,2.172,2.17,2.971,2.712,2.105,2.75,1.582,1.45,1.744,1.857,1.201,3.788,4.247,3.566,2.132,3.559,3.643,3.068,3.205,3.156,4.479,3.706,3.686,3.529,4.63,3.777,2.909,3.349,3.94,3.136,2.625,2.454,2.983,2.751,3.688,3.54,3.329,2.839,4.191,3.063],\"type\":\"box\"}],                        {\"template\":{\"data\":{\"bar\":[{\"error_x\":{\"color\":\"#2a3f5f\"},\"error_y\":{\"color\":\"#2a3f5f\"},\"marker\":{\"line\":{\"color\":\"#E5ECF6\",\"width\":0.5},\"pattern\":{\"fillmode\":\"overlay\",\"size\":10,\"solidity\":0.2}},\"type\":\"bar\"}],\"barpolar\":[{\"marker\":{\"line\":{\"color\":\"#E5ECF6\",\"width\":0.5},\"pattern\":{\"fillmode\":\"overlay\",\"size\":10,\"solidity\":0.2}},\"type\":\"barpolar\"}],\"carpet\":[{\"aaxis\":{\"endlinecolor\":\"#2a3f5f\",\"gridcolor\":\"white\",\"linecolor\":\"white\",\"minorgridcolor\":\"white\",\"startlinecolor\":\"#2a3f5f\"},\"baxis\":{\"endlinecolor\":\"#2a3f5f\",\"gridcolor\":\"white\",\"linecolor\":\"white\",\"minorgridcolor\":\"white\",\"startlinecolor\":\"#2a3f5f\"},\"type\":\"carpet\"}],\"choropleth\":[{\"colorbar\":{\"outlinewidth\":0,\"ticks\":\"\"},\"type\":\"choropleth\"}],\"contour\":[{\"colorbar\":{\"outlinewidth\":0,\"ticks\":\"\"},\"colorscale\":[[0.0,\"#0d0887\"],[0.1111111111111111,\"#46039f\"],[0.2222222222222222,\"#7201a8\"],[0.3333333333333333,\"#9c179e\"],[0.4444444444444444,\"#bd3786\"],[0.5555555555555556,\"#d8576b\"],[0.6666666666666666,\"#ed7953\"],[0.7777777777777778,\"#fb9f3a\"],[0.8888888888888888,\"#fdca26\"],[1.0,\"#f0f921\"]],\"type\":\"contour\"}],\"contourcarpet\":[{\"colorbar\":{\"outlinewidth\":0,\"ticks\":\"\"},\"type\":\"contourcarpet\"}],\"heatmap\":[{\"colorbar\":{\"outlinewidth\":0,\"ticks\":\"\"},\"colorscale\":[[0.0,\"#0d0887\"],[0.1111111111111111,\"#46039f\"],[0.2222222222222222,\"#7201a8\"],[0.3333333333333333,\"#9c179e\"],[0.4444444444444444,\"#bd3786\"],[0.5555555555555556,\"#d8576b\"],[0.6666666666666666,\"#ed7953\"],[0.7777777777777778,\"#fb9f3a\"],[0.8888888888888888,\"#fdca26\"],[1.0,\"#f0f921\"]],\"type\":\"heatmap\"}],\"heatmapgl\":[{\"colorbar\":{\"outlinewidth\":0,\"ticks\":\"\"},\"colorscale\":[[0.0,\"#0d0887\"],[0.1111111111111111,\"#46039f\"],[0.2222222222222222,\"#7201a8\"],[0.3333333333333333,\"#9c179e\"],[0.4444444444444444,\"#bd3786\"],[0.5555555555555556,\"#d8576b\"],[0.6666666666666666,\"#ed7953\"],[0.7777777777777778,\"#fb9f3a\"],[0.8888888888888888,\"#fdca26\"],[1.0,\"#f0f921\"]],\"type\":\"heatmapgl\"}],\"histogram\":[{\"marker\":{\"pattern\":{\"fillmode\":\"overlay\",\"size\":10,\"solidity\":0.2}},\"type\":\"histogram\"}],\"histogram2d\":[{\"colorbar\":{\"outlinewidth\":0,\"ticks\":\"\"},\"colorscale\":[[0.0,\"#0d0887\"],[0.1111111111111111,\"#46039f\"],[0.2222222222222222,\"#7201a8\"],[0.3333333333333333,\"#9c179e\"],[0.4444444444444444,\"#bd3786\"],[0.5555555555555556,\"#d8576b\"],[0.6666666666666666,\"#ed7953\"],[0.7777777777777778,\"#fb9f3a\"],[0.8888888888888888,\"#fdca26\"],[1.0,\"#f0f921\"]],\"type\":\"histogram2d\"}],\"histogram2dcontour\":[{\"colorbar\":{\"outlinewidth\":0,\"ticks\":\"\"},\"colorscale\":[[0.0,\"#0d0887\"],[0.1111111111111111,\"#46039f\"],[0.2222222222222222,\"#7201a8\"],[0.3333333333333333,\"#9c179e\"],[0.4444444444444444,\"#bd3786\"],[0.5555555555555556,\"#d8576b\"],[0.6666666666666666,\"#ed7953\"],[0.7777777777777778,\"#fb9f3a\"],[0.8888888888888888,\"#fdca26\"],[1.0,\"#f0f921\"]],\"type\":\"histogram2dcontour\"}],\"mesh3d\":[{\"colorbar\":{\"outlinewidth\":0,\"ticks\":\"\"},\"type\":\"mesh3d\"}],\"parcoords\":[{\"line\":{\"colorbar\":{\"outlinewidth\":0,\"ticks\":\"\"}},\"type\":\"parcoords\"}],\"pie\":[{\"automargin\":true,\"type\":\"pie\"}],\"scatter\":[{\"marker\":{\"colorbar\":{\"outlinewidth\":0,\"ticks\":\"\"}},\"type\":\"scatter\"}],\"scatter3d\":[{\"line\":{\"colorbar\":{\"outlinewidth\":0,\"ticks\":\"\"}},\"marker\":{\"colorbar\":{\"outlinewidth\":0,\"ticks\":\"\"}},\"type\":\"scatter3d\"}],\"scattercarpet\":[{\"marker\":{\"colorbar\":{\"outlinewidth\":0,\"ticks\":\"\"}},\"type\":\"scattercarpet\"}],\"scattergeo\":[{\"marker\":{\"colorbar\":{\"outlinewidth\":0,\"ticks\":\"\"}},\"type\":\"scattergeo\"}],\"scattergl\":[{\"marker\":{\"colorbar\":{\"outlinewidth\":0,\"ticks\":\"\"}},\"type\":\"scattergl\"}],\"scattermapbox\":[{\"marker\":{\"colorbar\":{\"outlinewidth\":0,\"ticks\":\"\"}},\"type\":\"scattermapbox\"}],\"scatterpolar\":[{\"marker\":{\"colorbar\":{\"outlinewidth\":0,\"ticks\":\"\"}},\"type\":\"scatterpolar\"}],\"scatterpolargl\":[{\"marker\":{\"colorbar\":{\"outlinewidth\":0,\"ticks\":\"\"}},\"type\":\"scatterpolargl\"}],\"scatterternary\":[{\"marker\":{\"colorbar\":{\"outlinewidth\":0,\"ticks\":\"\"}},\"type\":\"scatterternary\"}],\"surface\":[{\"colorbar\":{\"outlinewidth\":0,\"ticks\":\"\"},\"colorscale\":[[0.0,\"#0d0887\"],[0.1111111111111111,\"#46039f\"],[0.2222222222222222,\"#7201a8\"],[0.3333333333333333,\"#9c179e\"],[0.4444444444444444,\"#bd3786\"],[0.5555555555555556,\"#d8576b\"],[0.6666666666666666,\"#ed7953\"],[0.7777777777777778,\"#fb9f3a\"],[0.8888888888888888,\"#fdca26\"],[1.0,\"#f0f921\"]],\"type\":\"surface\"}],\"table\":[{\"cells\":{\"fill\":{\"color\":\"#EBF0F8\"},\"line\":{\"color\":\"white\"}},\"header\":{\"fill\":{\"color\":\"#C8D4E3\"},\"line\":{\"color\":\"white\"}},\"type\":\"table\"}]},\"layout\":{\"annotationdefaults\":{\"arrowcolor\":\"#2a3f5f\",\"arrowhead\":0,\"arrowwidth\":1},\"autotypenumbers\":\"strict\",\"coloraxis\":{\"colorbar\":{\"outlinewidth\":0,\"ticks\":\"\"}},\"colorscale\":{\"diverging\":[[0,\"#8e0152\"],[0.1,\"#c51b7d\"],[0.2,\"#de77ae\"],[0.3,\"#f1b6da\"],[0.4,\"#fde0ef\"],[0.5,\"#f7f7f7\"],[0.6,\"#e6f5d0\"],[0.7,\"#b8e186\"],[0.8,\"#7fbc41\"],[0.9,\"#4d9221\"],[1,\"#276419\"]],\"sequential\":[[0.0,\"#0d0887\"],[0.1111111111111111,\"#46039f\"],[0.2222222222222222,\"#7201a8\"],[0.3333333333333333,\"#9c179e\"],[0.4444444444444444,\"#bd3786\"],[0.5555555555555556,\"#d8576b\"],[0.6666666666666666,\"#ed7953\"],[0.7777777777777778,\"#fb9f3a\"],[0.8888888888888888,\"#fdca26\"],[1.0,\"#f0f921\"]],\"sequentialminus\":[[0.0,\"#0d0887\"],[0.1111111111111111,\"#46039f\"],[0.2222222222222222,\"#7201a8\"],[0.3333333333333333,\"#9c179e\"],[0.4444444444444444,\"#bd3786\"],[0.5555555555555556,\"#d8576b\"],[0.6666666666666666,\"#ed7953\"],[0.7777777777777778,\"#fb9f3a\"],[0.8888888888888888,\"#fdca26\"],[1.0,\"#f0f921\"]]},\"colorway\":[\"#636efa\",\"#EF553B\",\"#00cc96\",\"#ab63fa\",\"#FFA15A\",\"#19d3f3\",\"#FF6692\",\"#B6E880\",\"#FF97FF\",\"#FECB52\"],\"font\":{\"color\":\"#2a3f5f\"},\"geo\":{\"bgcolor\":\"white\",\"lakecolor\":\"white\",\"landcolor\":\"#E5ECF6\",\"showlakes\":true,\"showland\":true,\"subunitcolor\":\"white\"},\"hoverlabel\":{\"align\":\"left\"},\"hovermode\":\"closest\",\"mapbox\":{\"style\":\"light\"},\"paper_bgcolor\":\"white\",\"plot_bgcolor\":\"#E5ECF6\",\"polar\":{\"angularaxis\":{\"gridcolor\":\"white\",\"linecolor\":\"white\",\"ticks\":\"\"},\"bgcolor\":\"#E5ECF6\",\"radialaxis\":{\"gridcolor\":\"white\",\"linecolor\":\"white\",\"ticks\":\"\"}},\"scene\":{\"xaxis\":{\"backgroundcolor\":\"#E5ECF6\",\"gridcolor\":\"white\",\"gridwidth\":2,\"linecolor\":\"white\",\"showbackground\":true,\"ticks\":\"\",\"zerolinecolor\":\"white\"},\"yaxis\":{\"backgroundcolor\":\"#E5ECF6\",\"gridcolor\":\"white\",\"gridwidth\":2,\"linecolor\":\"white\",\"showbackground\":true,\"ticks\":\"\",\"zerolinecolor\":\"white\"},\"zaxis\":{\"backgroundcolor\":\"#E5ECF6\",\"gridcolor\":\"white\",\"gridwidth\":2,\"linecolor\":\"white\",\"showbackground\":true,\"ticks\":\"\",\"zerolinecolor\":\"white\"}},\"shapedefaults\":{\"line\":{\"color\":\"#2a3f5f\"}},\"ternary\":{\"aaxis\":{\"gridcolor\":\"white\",\"linecolor\":\"white\",\"ticks\":\"\"},\"baxis\":{\"gridcolor\":\"white\",\"linecolor\":\"white\",\"ticks\":\"\"},\"bgcolor\":\"#E5ECF6\",\"caxis\":{\"gridcolor\":\"white\",\"linecolor\":\"white\",\"ticks\":\"\"}},\"title\":{\"x\":0.05},\"xaxis\":{\"automargin\":true,\"gridcolor\":\"white\",\"linecolor\":\"white\",\"ticks\":\"\",\"title\":{\"standoff\":15},\"zerolinecolor\":\"white\",\"zerolinewidth\":2},\"yaxis\":{\"automargin\":true,\"gridcolor\":\"white\",\"linecolor\":\"white\",\"ticks\":\"\",\"title\":{\"standoff\":15},\"zerolinecolor\":\"white\",\"zerolinewidth\":2}}},\"yaxis\":{\"title\":{\"text\":\"root length\"}},\"boxmode\":\"group\"},                        {\"responsive\": true}                    ).then(function(){\n",
              "                            \n",
              "var gd = document.getElementById('23e23b86-91da-4ed7-9ecd-4b662d557ba5');\n",
              "var x = new MutationObserver(function (mutations, observer) {{\n",
              "        var display = window.getComputedStyle(gd).display;\n",
              "        if (!display || display === 'none') {{\n",
              "            console.log([gd, 'removed!']);\n",
              "            Plotly.purge(gd);\n",
              "            observer.disconnect();\n",
              "        }}\n",
              "}});\n",
              "\n",
              "// Listen for the removal of the full notebook cells\n",
              "var notebookContainer = gd.closest('#notebook-container');\n",
              "if (notebookContainer) {{\n",
              "    x.observe(notebookContainer, {childList: true});\n",
              "}}\n",
              "\n",
              "// Listen for the clearing of the current output cell\n",
              "var outputEl = gd.closest('.output');\n",
              "if (outputEl) {{\n",
              "    x.observe(outputEl, {childList: true});\n",
              "}}\n",
              "\n",
              "                        })                };                            </script>        </div>\n",
              "</body>\n",
              "</html>"
            ]
          },
          "metadata": {}
        }
      ]
    },
    {
      "cell_type": "code",
      "source": [
        "fig = go.Figure()\n",
        "\n",
        "fig.add_trace(go.Box(\n",
        "    y=ws_len['length'],\n",
        "    x=ws_len['Spaceflight Treatment'],\n",
        "    name='WS',\n",
        "))\n",
        "fig.add_trace(go.Box(\n",
        "    y=phyd_len['length'],\n",
        "    x=phyd_len['Spaceflight Treatment'],\n",
        "    name='PhyD',\n",
        "))\n",
        "fig.add_trace(go.Box(\n",
        "    y=col_len['length'],\n",
        "    x=col_len['Spaceflight Treatment'],\n",
        "    name='Col',\n",
        "))\n",
        "\n",
        "\n",
        "fig.update_layout(\n",
        "    yaxis_title='root length',\n",
        "    boxmode='group' # group together boxes of the different traces for each value of x\n",
        ")\n",
        "fig.show()\n"
      ],
      "metadata": {
        "colab": {
          "base_uri": "https://localhost:8080/",
          "height": 0
        },
        "id": "Z939ndPNacMu",
        "outputId": "9c551861-ae3a-42c7-f03c-a3648245884f"
      },
      "execution_count": 31,
      "outputs": [
        {
          "output_type": "display_data",
          "data": {
            "text/html": [
              "<html>\n",
              "<head><meta charset=\"utf-8\" /></head>\n",
              "<body>\n",
              "    <div>            <script src=\"https://cdnjs.cloudflare.com/ajax/libs/mathjax/2.7.5/MathJax.js?config=TeX-AMS-MML_SVG\"></script><script type=\"text/javascript\">if (window.MathJax) {MathJax.Hub.Config({SVG: {font: \"STIX-Web\"}});}</script>                <script type=\"text/javascript\">window.PlotlyConfig = {MathJaxConfig: 'local'};</script>\n",
              "        <script src=\"https://cdn.plot.ly/plotly-2.8.3.min.js\"></script>                <div id=\"f3f3d385-5582-42ac-94e1-4317cae68e0e\" class=\"plotly-graph-div\" style=\"height:525px; width:100%;\"></div>            <script type=\"text/javascript\">                                    window.PLOTLYENV=window.PLOTLYENV || {};                                    if (document.getElementById(\"f3f3d385-5582-42ac-94e1-4317cae68e0e\")) {                    Plotly.newPlot(                        \"f3f3d385-5582-42ac-94e1-4317cae68e0e\",                        [{\"name\":\"WS\",\"x\":[\"Fl\",\"Fl\",\"Fl\",\"Fl\",\"Fl\",\"Fl\",\"Fl\",\"Fl\",\"Fl\",\"Fl\",\"Fl\",\"Fl\",\"Fl\",\"Fl\",\"Fl\",\"Fl\",\"Fl\",\"Fl\",\"Fl\",\"Fl\",\"Fl\",\"Fl\",\"Fl\",\"Fl\",\"Fl\",\"Fl\",\"Fl\",\"Fl\",\"Fl\",\"Fl\",\"Fl\",\"Gr\",\"Gr\",\"Gr\",\"Gr\",\"Gr\",\"Gr\",\"Gr\",\"Gr\",\"Gr\",\"Gr\",\"Gr\",\"Gr\",\"Gr\",\"Gr\",\"Gr\",\"Gr\",\"Gr\",\"Gr\",\"Gr\",\"Gr\",\"Gr\",\"Gr\",\"Gr\",\"Gr\",\"Gr\",\"Gr\",\"Gr\",\"Gr\",\"Gr\"],\"y\":[3.035,3.056,5.079,4.237,3.734,3.027,3.571,2.038,2.018,4.001,4.358,3.284,3.927,3.41,2.286,3.349,3.361,4.452,3.852,4.264,2.777,2.66,3.747,3.387,2.749,3.434,2.793,3.367,3.027,3.44,3.359,3.035,3.125,3.633,3.504,3.857,4.132,4.462,4.473,4.232,3.842,3.396,3.717,4.008,3.508,3.823,4.134,3.812,2.993,3.511,4.018,3.485,3.711,3.696,2.155,2.607,2.814,2.618,2.522,2.798],\"type\":\"box\"},{\"name\":\"PhyD\",\"x\":[\"Fl\",\"Fl\",\"Fl\",\"Fl\",\"Fl\",\"Fl\",\"Fl\",\"Fl\",\"Fl\",\"Fl\",\"Fl\",\"Fl\",\"Fl\",\"Fl\",\"Fl\",\"Fl\",\"Fl\",\"Fl\",\"Fl\",\"Fl\",\"Fl\",\"Fl\",\"Fl\",\"Fl\",\"Fl\",\"Fl\",\"Fl\",\"Fl\",\"Fl\",\"Fl\",\"Fl\",\"Gr\",\"Gr\",\"Gr\",\"Gr\",\"Gr\",\"Gr\",\"Gr\",\"Gr\",\"Gr\",\"Gr\",\"Gr\",\"Gr\",\"Gr\",\"Gr\",\"Gr\",\"Gr\",\"Gr\",\"Gr\",\"Gr\",\"Gr\",\"Gr\",\"Gr\",\"Gr\",\"Gr\",\"Gr\",\"Gr\",\"Gr\",\"Gr\",\"Gr\",\"Gr\"],\"y\":[3.958,1.918,3.381,3.168,4.652,2.779,1.505,2.092,2.67,3.227,4.258,3.013,2.686,3.962,3.147,2.97,3.692,3.571,2.975,3.262,3.351,2.929,2.839,3.486,3.499,3.848,2.504,2.846,2.748,3.176,2.813,3.058,3.447,3.435,4.104,4.701,4.589,4.958,1.808,3.013,4.026,4.292,4.177,3.277,3.259,2.948,3.149,3.314,3.784,3.444,4.001,2.773,3.766,3.459,3.102,3.105,3.245,3.181,3.026,3.062,3.311],\"type\":\"box\"},{\"name\":\"Col\",\"x\":[\"Fl\",\"Fl\",\"Fl\",\"Fl\",\"Fl\",\"Fl\",\"Fl\",\"Fl\",\"Fl\",\"Fl\",\"Fl\",\"Fl\",\"Fl\",\"Fl\",\"Fl\",\"Fl\",\"Fl\",\"Fl\",\"Fl\",\"Fl\",\"Fl\",\"Fl\",\"Fl\",\"Fl\",\"Fl\",\"Fl\",\"Fl\",\"Fl\",\"Fl\",\"Fl\",\"Fl\",\"Fl\",\"Fl\",\"Gr\",\"Gr\",\"Gr\",\"Gr\",\"Gr\",\"Gr\",\"Gr\",\"Gr\",\"Gr\",\"Gr\",\"Gr\",\"Gr\",\"Gr\",\"Gr\",\"Gr\",\"Gr\",\"Gr\",\"Gr\",\"Gr\",\"Gr\",\"Gr\",\"Gr\",\"Gr\",\"Gr\",\"Gr\",\"Gr\",\"Gr\",\"Gr\",\"Gr\"],\"y\":[3.375,3.232,3.398,5.754,2.354,4.304,2.605,3.167,3.077,4.586,3.193,4.546,3.562,4.313,3.174,3.025,3.048,2.361,2.384,3.281,2.852,3.852,2.172,2.17,2.971,2.712,2.105,2.75,1.582,1.45,1.744,1.857,1.201,3.788,4.247,3.566,2.132,3.559,3.643,3.068,3.205,3.156,4.479,3.706,3.686,3.529,4.63,3.777,2.909,3.349,3.94,3.136,2.625,2.454,2.983,2.751,3.688,3.54,3.329,2.839,4.191,3.063],\"type\":\"box\"}],                        {\"template\":{\"data\":{\"bar\":[{\"error_x\":{\"color\":\"#2a3f5f\"},\"error_y\":{\"color\":\"#2a3f5f\"},\"marker\":{\"line\":{\"color\":\"#E5ECF6\",\"width\":0.5},\"pattern\":{\"fillmode\":\"overlay\",\"size\":10,\"solidity\":0.2}},\"type\":\"bar\"}],\"barpolar\":[{\"marker\":{\"line\":{\"color\":\"#E5ECF6\",\"width\":0.5},\"pattern\":{\"fillmode\":\"overlay\",\"size\":10,\"solidity\":0.2}},\"type\":\"barpolar\"}],\"carpet\":[{\"aaxis\":{\"endlinecolor\":\"#2a3f5f\",\"gridcolor\":\"white\",\"linecolor\":\"white\",\"minorgridcolor\":\"white\",\"startlinecolor\":\"#2a3f5f\"},\"baxis\":{\"endlinecolor\":\"#2a3f5f\",\"gridcolor\":\"white\",\"linecolor\":\"white\",\"minorgridcolor\":\"white\",\"startlinecolor\":\"#2a3f5f\"},\"type\":\"carpet\"}],\"choropleth\":[{\"colorbar\":{\"outlinewidth\":0,\"ticks\":\"\"},\"type\":\"choropleth\"}],\"contour\":[{\"colorbar\":{\"outlinewidth\":0,\"ticks\":\"\"},\"colorscale\":[[0.0,\"#0d0887\"],[0.1111111111111111,\"#46039f\"],[0.2222222222222222,\"#7201a8\"],[0.3333333333333333,\"#9c179e\"],[0.4444444444444444,\"#bd3786\"],[0.5555555555555556,\"#d8576b\"],[0.6666666666666666,\"#ed7953\"],[0.7777777777777778,\"#fb9f3a\"],[0.8888888888888888,\"#fdca26\"],[1.0,\"#f0f921\"]],\"type\":\"contour\"}],\"contourcarpet\":[{\"colorbar\":{\"outlinewidth\":0,\"ticks\":\"\"},\"type\":\"contourcarpet\"}],\"heatmap\":[{\"colorbar\":{\"outlinewidth\":0,\"ticks\":\"\"},\"colorscale\":[[0.0,\"#0d0887\"],[0.1111111111111111,\"#46039f\"],[0.2222222222222222,\"#7201a8\"],[0.3333333333333333,\"#9c179e\"],[0.4444444444444444,\"#bd3786\"],[0.5555555555555556,\"#d8576b\"],[0.6666666666666666,\"#ed7953\"],[0.7777777777777778,\"#fb9f3a\"],[0.8888888888888888,\"#fdca26\"],[1.0,\"#f0f921\"]],\"type\":\"heatmap\"}],\"heatmapgl\":[{\"colorbar\":{\"outlinewidth\":0,\"ticks\":\"\"},\"colorscale\":[[0.0,\"#0d0887\"],[0.1111111111111111,\"#46039f\"],[0.2222222222222222,\"#7201a8\"],[0.3333333333333333,\"#9c179e\"],[0.4444444444444444,\"#bd3786\"],[0.5555555555555556,\"#d8576b\"],[0.6666666666666666,\"#ed7953\"],[0.7777777777777778,\"#fb9f3a\"],[0.8888888888888888,\"#fdca26\"],[1.0,\"#f0f921\"]],\"type\":\"heatmapgl\"}],\"histogram\":[{\"marker\":{\"pattern\":{\"fillmode\":\"overlay\",\"size\":10,\"solidity\":0.2}},\"type\":\"histogram\"}],\"histogram2d\":[{\"colorbar\":{\"outlinewidth\":0,\"ticks\":\"\"},\"colorscale\":[[0.0,\"#0d0887\"],[0.1111111111111111,\"#46039f\"],[0.2222222222222222,\"#7201a8\"],[0.3333333333333333,\"#9c179e\"],[0.4444444444444444,\"#bd3786\"],[0.5555555555555556,\"#d8576b\"],[0.6666666666666666,\"#ed7953\"],[0.7777777777777778,\"#fb9f3a\"],[0.8888888888888888,\"#fdca26\"],[1.0,\"#f0f921\"]],\"type\":\"histogram2d\"}],\"histogram2dcontour\":[{\"colorbar\":{\"outlinewidth\":0,\"ticks\":\"\"},\"colorscale\":[[0.0,\"#0d0887\"],[0.1111111111111111,\"#46039f\"],[0.2222222222222222,\"#7201a8\"],[0.3333333333333333,\"#9c179e\"],[0.4444444444444444,\"#bd3786\"],[0.5555555555555556,\"#d8576b\"],[0.6666666666666666,\"#ed7953\"],[0.7777777777777778,\"#fb9f3a\"],[0.8888888888888888,\"#fdca26\"],[1.0,\"#f0f921\"]],\"type\":\"histogram2dcontour\"}],\"mesh3d\":[{\"colorbar\":{\"outlinewidth\":0,\"ticks\":\"\"},\"type\":\"mesh3d\"}],\"parcoords\":[{\"line\":{\"colorbar\":{\"outlinewidth\":0,\"ticks\":\"\"}},\"type\":\"parcoords\"}],\"pie\":[{\"automargin\":true,\"type\":\"pie\"}],\"scatter\":[{\"marker\":{\"colorbar\":{\"outlinewidth\":0,\"ticks\":\"\"}},\"type\":\"scatter\"}],\"scatter3d\":[{\"line\":{\"colorbar\":{\"outlinewidth\":0,\"ticks\":\"\"}},\"marker\":{\"colorbar\":{\"outlinewidth\":0,\"ticks\":\"\"}},\"type\":\"scatter3d\"}],\"scattercarpet\":[{\"marker\":{\"colorbar\":{\"outlinewidth\":0,\"ticks\":\"\"}},\"type\":\"scattercarpet\"}],\"scattergeo\":[{\"marker\":{\"colorbar\":{\"outlinewidth\":0,\"ticks\":\"\"}},\"type\":\"scattergeo\"}],\"scattergl\":[{\"marker\":{\"colorbar\":{\"outlinewidth\":0,\"ticks\":\"\"}},\"type\":\"scattergl\"}],\"scattermapbox\":[{\"marker\":{\"colorbar\":{\"outlinewidth\":0,\"ticks\":\"\"}},\"type\":\"scattermapbox\"}],\"scatterpolar\":[{\"marker\":{\"colorbar\":{\"outlinewidth\":0,\"ticks\":\"\"}},\"type\":\"scatterpolar\"}],\"scatterpolargl\":[{\"marker\":{\"colorbar\":{\"outlinewidth\":0,\"ticks\":\"\"}},\"type\":\"scatterpolargl\"}],\"scatterternary\":[{\"marker\":{\"colorbar\":{\"outlinewidth\":0,\"ticks\":\"\"}},\"type\":\"scatterternary\"}],\"surface\":[{\"colorbar\":{\"outlinewidth\":0,\"ticks\":\"\"},\"colorscale\":[[0.0,\"#0d0887\"],[0.1111111111111111,\"#46039f\"],[0.2222222222222222,\"#7201a8\"],[0.3333333333333333,\"#9c179e\"],[0.4444444444444444,\"#bd3786\"],[0.5555555555555556,\"#d8576b\"],[0.6666666666666666,\"#ed7953\"],[0.7777777777777778,\"#fb9f3a\"],[0.8888888888888888,\"#fdca26\"],[1.0,\"#f0f921\"]],\"type\":\"surface\"}],\"table\":[{\"cells\":{\"fill\":{\"color\":\"#EBF0F8\"},\"line\":{\"color\":\"white\"}},\"header\":{\"fill\":{\"color\":\"#C8D4E3\"},\"line\":{\"color\":\"white\"}},\"type\":\"table\"}]},\"layout\":{\"annotationdefaults\":{\"arrowcolor\":\"#2a3f5f\",\"arrowhead\":0,\"arrowwidth\":1},\"autotypenumbers\":\"strict\",\"coloraxis\":{\"colorbar\":{\"outlinewidth\":0,\"ticks\":\"\"}},\"colorscale\":{\"diverging\":[[0,\"#8e0152\"],[0.1,\"#c51b7d\"],[0.2,\"#de77ae\"],[0.3,\"#f1b6da\"],[0.4,\"#fde0ef\"],[0.5,\"#f7f7f7\"],[0.6,\"#e6f5d0\"],[0.7,\"#b8e186\"],[0.8,\"#7fbc41\"],[0.9,\"#4d9221\"],[1,\"#276419\"]],\"sequential\":[[0.0,\"#0d0887\"],[0.1111111111111111,\"#46039f\"],[0.2222222222222222,\"#7201a8\"],[0.3333333333333333,\"#9c179e\"],[0.4444444444444444,\"#bd3786\"],[0.5555555555555556,\"#d8576b\"],[0.6666666666666666,\"#ed7953\"],[0.7777777777777778,\"#fb9f3a\"],[0.8888888888888888,\"#fdca26\"],[1.0,\"#f0f921\"]],\"sequentialminus\":[[0.0,\"#0d0887\"],[0.1111111111111111,\"#46039f\"],[0.2222222222222222,\"#7201a8\"],[0.3333333333333333,\"#9c179e\"],[0.4444444444444444,\"#bd3786\"],[0.5555555555555556,\"#d8576b\"],[0.6666666666666666,\"#ed7953\"],[0.7777777777777778,\"#fb9f3a\"],[0.8888888888888888,\"#fdca26\"],[1.0,\"#f0f921\"]]},\"colorway\":[\"#636efa\",\"#EF553B\",\"#00cc96\",\"#ab63fa\",\"#FFA15A\",\"#19d3f3\",\"#FF6692\",\"#B6E880\",\"#FF97FF\",\"#FECB52\"],\"font\":{\"color\":\"#2a3f5f\"},\"geo\":{\"bgcolor\":\"white\",\"lakecolor\":\"white\",\"landcolor\":\"#E5ECF6\",\"showlakes\":true,\"showland\":true,\"subunitcolor\":\"white\"},\"hoverlabel\":{\"align\":\"left\"},\"hovermode\":\"closest\",\"mapbox\":{\"style\":\"light\"},\"paper_bgcolor\":\"white\",\"plot_bgcolor\":\"#E5ECF6\",\"polar\":{\"angularaxis\":{\"gridcolor\":\"white\",\"linecolor\":\"white\",\"ticks\":\"\"},\"bgcolor\":\"#E5ECF6\",\"radialaxis\":{\"gridcolor\":\"white\",\"linecolor\":\"white\",\"ticks\":\"\"}},\"scene\":{\"xaxis\":{\"backgroundcolor\":\"#E5ECF6\",\"gridcolor\":\"white\",\"gridwidth\":2,\"linecolor\":\"white\",\"showbackground\":true,\"ticks\":\"\",\"zerolinecolor\":\"white\"},\"yaxis\":{\"backgroundcolor\":\"#E5ECF6\",\"gridcolor\":\"white\",\"gridwidth\":2,\"linecolor\":\"white\",\"showbackground\":true,\"ticks\":\"\",\"zerolinecolor\":\"white\"},\"zaxis\":{\"backgroundcolor\":\"#E5ECF6\",\"gridcolor\":\"white\",\"gridwidth\":2,\"linecolor\":\"white\",\"showbackground\":true,\"ticks\":\"\",\"zerolinecolor\":\"white\"}},\"shapedefaults\":{\"line\":{\"color\":\"#2a3f5f\"}},\"ternary\":{\"aaxis\":{\"gridcolor\":\"white\",\"linecolor\":\"white\",\"ticks\":\"\"},\"baxis\":{\"gridcolor\":\"white\",\"linecolor\":\"white\",\"ticks\":\"\"},\"bgcolor\":\"#E5ECF6\",\"caxis\":{\"gridcolor\":\"white\",\"linecolor\":\"white\",\"ticks\":\"\"}},\"title\":{\"x\":0.05},\"xaxis\":{\"automargin\":true,\"gridcolor\":\"white\",\"linecolor\":\"white\",\"ticks\":\"\",\"title\":{\"standoff\":15},\"zerolinecolor\":\"white\",\"zerolinewidth\":2},\"yaxis\":{\"automargin\":true,\"gridcolor\":\"white\",\"linecolor\":\"white\",\"ticks\":\"\",\"title\":{\"standoff\":15},\"zerolinecolor\":\"white\",\"zerolinewidth\":2}}},\"yaxis\":{\"title\":{\"text\":\"root length\"}},\"boxmode\":\"group\"},                        {\"responsive\": true}                    ).then(function(){\n",
              "                            \n",
              "var gd = document.getElementById('f3f3d385-5582-42ac-94e1-4317cae68e0e');\n",
              "var x = new MutationObserver(function (mutations, observer) {{\n",
              "        var display = window.getComputedStyle(gd).display;\n",
              "        if (!display || display === 'none') {{\n",
              "            console.log([gd, 'removed!']);\n",
              "            Plotly.purge(gd);\n",
              "            observer.disconnect();\n",
              "        }}\n",
              "}});\n",
              "\n",
              "// Listen for the removal of the full notebook cells\n",
              "var notebookContainer = gd.closest('#notebook-container');\n",
              "if (notebookContainer) {{\n",
              "    x.observe(notebookContainer, {childList: true});\n",
              "}}\n",
              "\n",
              "// Listen for the clearing of the current output cell\n",
              "var outputEl = gd.closest('.output');\n",
              "if (outputEl) {{\n",
              "    x.observe(outputEl, {childList: true});\n",
              "}}\n",
              "\n",
              "                        })                };                            </script>        </div>\n",
              "</body>\n",
              "</html>"
            ]
          },
          "metadata": {}
        }
      ]
    },
    {
      "cell_type": "markdown",
      "source": [
        "### Root Volume"
      ],
      "metadata": {
        "id": "OPBSVM4jinZv"
      }
    },
    {
      "cell_type": "code",
      "source": [
        "# Summary Statistics by the Gravitational environment\n",
        "fig = px.box(root_11, x=\"Ecotype/Genotype\", y=\"volume\", color=\"Spaceflight Treatment\")\n",
        "fig.update_traces(quartilemethod=\"exclusive\") # or \"inclusive\", or \"linear\" by default\n",
        "fig.show()"
      ],
      "metadata": {
        "colab": {
          "base_uri": "https://localhost:8080/",
          "height": 0
        },
        "id": "GY04utQXiz1T",
        "outputId": "f63a4938-7d78-4487-8ca1-576a44a4af8f"
      },
      "execution_count": 34,
      "outputs": [
        {
          "output_type": "display_data",
          "data": {
            "text/html": [
              "<html>\n",
              "<head><meta charset=\"utf-8\" /></head>\n",
              "<body>\n",
              "    <div>            <script src=\"https://cdnjs.cloudflare.com/ajax/libs/mathjax/2.7.5/MathJax.js?config=TeX-AMS-MML_SVG\"></script><script type=\"text/javascript\">if (window.MathJax) {MathJax.Hub.Config({SVG: {font: \"STIX-Web\"}});}</script>                <script type=\"text/javascript\">window.PlotlyConfig = {MathJaxConfig: 'local'};</script>\n",
              "        <script src=\"https://cdn.plot.ly/plotly-2.8.3.min.js\"></script>                <div id=\"6bc90728-b1b6-4c25-a37e-da727788ee17\" class=\"plotly-graph-div\" style=\"height:525px; width:100%;\"></div>            <script type=\"text/javascript\">                                    window.PLOTLYENV=window.PLOTLYENV || {};                                    if (document.getElementById(\"6bc90728-b1b6-4c25-a37e-da727788ee17\")) {                    Plotly.newPlot(                        \"6bc90728-b1b6-4c25-a37e-da727788ee17\",                        [{\"alignmentgroup\":\"True\",\"hovertemplate\":\"Spaceflight Treatment=Fl<br>Ecotype/Genotype=%{x}<br>volume=%{y}<extra></extra>\",\"legendgroup\":\"Fl\",\"marker\":{\"color\":\"#636efa\"},\"name\":\"Fl\",\"notched\":false,\"offsetgroup\":\"Fl\",\"orientation\":\"v\",\"showlegend\":true,\"x\":[\"WS\",\"WS\",\"WS\",\"WS\",\"WS\",\"Col\",\"Col\",\"Col\",\"Col\",\"Col\",\"PhyD\",\"PhyD\",\"PhyD\",\"PhyD\",\"PhyD\",\"WS\",\"WS\",\"WS\",\"WS\",\"WS\",\"Col\",\"Col\",\"Col\",\"Col\",\"Col\",\"PhyD\",\"PhyD\",\"PhyD\",\"PhyD\",\"PhyD\",\"WS\",\"WS\",\"WS\",\"WS\",\"WS\",\"WS\",\"Col\",\"Col\",\"Col\",\"Col\",\"Col\",\"Col\",\"PhyD\",\"PhyD\",\"PhyD\",\"PhyD\",\"PhyD\",\"PhyD\",\"WS\",\"WS\",\"WS\",\"WS\",\"WS\",\"Col\",\"Col\",\"Col\",\"Col\",\"Col\",\"Col\",\"PhyD\",\"PhyD\",\"PhyD\",\"PhyD\",\"PhyD\",\"WS\",\"WS\",\"WS\",\"WS\",\"WS\",\"Col\",\"Col\",\"Col\",\"Col\",\"Col\",\"Col\",\"PhyD\",\"PhyD\",\"PhyD\",\"PhyD\",\"PhyD\",\"WS\",\"WS\",\"WS\",\"WS\",\"WS\",\"Col\",\"Col\",\"Col\",\"Col\",\"Col\",\"PhyD\",\"PhyD\",\"PhyD\",\"PhyD\",\"PhyD\"],\"x0\":\" \",\"xaxis\":\"x\",\"y\":[0.007,0.006,0.008,0.007,0.009,0.005,0.004,0.011,0.008,0.008,0.013,0.009,0.006,0.006,0.009,0.004,0.006,0.003,0.005,0.009,0.004,0.007,0.004,0.006,0.005,0.004,0.006,0.004,0.004,0.007,0.005,0.004,0.009,0.006,0.003,0.006,0.003,0.011,0.01,0.011,0.005,0.006,0.006,0.003,0.004,0.005,0.004,0.005,0.004,0.009,0.007,0.012,0.007,0.014,0.009,0.004,0.005,0.009,0.014,0.019,0.015,0.016,0.013,0.016,0.004,0.004,0.003,0.003,0.007,0.006,0.003,0.008,0.004,0.004,0.006,0.011,0.006,0.023,0.006,0.021,0.007,0.008,0.011,0.012,0.007,0.008,0.003,0.003,0.003,0.003,0.016,0.015,0.009,0.007,0.005],\"y0\":\" \",\"yaxis\":\"y\",\"type\":\"box\",\"quartilemethod\":\"exclusive\"},{\"alignmentgroup\":\"True\",\"hovertemplate\":\"Spaceflight Treatment=Gr<br>Ecotype/Genotype=%{x}<br>volume=%{y}<extra></extra>\",\"legendgroup\":\"Gr\",\"marker\":{\"color\":\"#EF553B\"},\"name\":\"Gr\",\"notched\":false,\"offsetgroup\":\"Gr\",\"orientation\":\"v\",\"showlegend\":true,\"x\":[\"Col\",\"Col\",\"Col\",\"Col\",\"Col\",\"Col\",\"PhyD\",\"PhyD\",\"PhyD\",\"PhyD\",\"PhyD\",\"PhyD\",\"WS\",\"WS\",\"WS\",\"WS\",\"WS\",\"WS\",\"Col\",\"Col\",\"Col\",\"Col\",\"Col\",\"Col\",\"PhyD\",\"PhyD\",\"PhyD\",\"PhyD\",\"PhyD\",\"PhyD\",\"WS\",\"WS\",\"WS\",\"WS\",\"WS\",\"WS\",\"Col\",\"Col\",\"Col\",\"Col\",\"Col\",\"Col\",\"PhyD\",\"PhyD\",\"PhyD\",\"PhyD\",\"PhyD\",\"PhyD\",\"WS\",\"WS\",\"WS\",\"WS\",\"WS\",\"Col\",\"Col\",\"Col\",\"Col\",\"Col\",\"PhyD\",\"PhyD\",\"PhyD\",\"PhyD\",\"PhyD\",\"PhyD\",\"Col\",\"Col\",\"Col\",\"Col\",\"Col\",\"Col\",\"PhyD\",\"PhyD\",\"PhyD\",\"PhyD\",\"PhyD\",\"PhyD\",\"WS\",\"WS\",\"WS\",\"WS\",\"WS\",\"WS\",\"WS\",\"WS\",\"WS\",\"WS\",\"WS\",\"WS\"],\"x0\":\" \",\"xaxis\":\"x\",\"y\":[0.023,0.03,0.006,0.004,0.02,0.008,0.012,0.013,0.008,0.018,0.01,0.009,0.006,0.006,0.006,0.005,0.005,0.009,0.005,0.009,0.011,0.008,0.006,0.01,0.034,0.006,0.006,0.009,0.009,0.017,0.008,0.011,0.011,0.011,0.006,0.006,0.012,0.018,0.008,0.006,0.009,0.01,0.007,0.012,0.007,0.012,0.012,0.007,0.011,0.012,0.007,0.011,0.009,0.009,0.006,0.008,0.005,0.004,0.005,0.014,0.007,0.008,0.008,0.007,0.006,0.007,0.007,0.008,0.007,0.006,0.005,0.007,0.011,0.008,0.008,0.015,0.011,0.006,0.008,0.008,0.009,0.006,0.009,0.007,0.007,0.005,0.005,0.007],\"y0\":\" \",\"yaxis\":\"y\",\"type\":\"box\",\"quartilemethod\":\"exclusive\"}],                        {\"template\":{\"data\":{\"bar\":[{\"error_x\":{\"color\":\"#2a3f5f\"},\"error_y\":{\"color\":\"#2a3f5f\"},\"marker\":{\"line\":{\"color\":\"#E5ECF6\",\"width\":0.5},\"pattern\":{\"fillmode\":\"overlay\",\"size\":10,\"solidity\":0.2}},\"type\":\"bar\"}],\"barpolar\":[{\"marker\":{\"line\":{\"color\":\"#E5ECF6\",\"width\":0.5},\"pattern\":{\"fillmode\":\"overlay\",\"size\":10,\"solidity\":0.2}},\"type\":\"barpolar\"}],\"carpet\":[{\"aaxis\":{\"endlinecolor\":\"#2a3f5f\",\"gridcolor\":\"white\",\"linecolor\":\"white\",\"minorgridcolor\":\"white\",\"startlinecolor\":\"#2a3f5f\"},\"baxis\":{\"endlinecolor\":\"#2a3f5f\",\"gridcolor\":\"white\",\"linecolor\":\"white\",\"minorgridcolor\":\"white\",\"startlinecolor\":\"#2a3f5f\"},\"type\":\"carpet\"}],\"choropleth\":[{\"colorbar\":{\"outlinewidth\":0,\"ticks\":\"\"},\"type\":\"choropleth\"}],\"contour\":[{\"colorbar\":{\"outlinewidth\":0,\"ticks\":\"\"},\"colorscale\":[[0.0,\"#0d0887\"],[0.1111111111111111,\"#46039f\"],[0.2222222222222222,\"#7201a8\"],[0.3333333333333333,\"#9c179e\"],[0.4444444444444444,\"#bd3786\"],[0.5555555555555556,\"#d8576b\"],[0.6666666666666666,\"#ed7953\"],[0.7777777777777778,\"#fb9f3a\"],[0.8888888888888888,\"#fdca26\"],[1.0,\"#f0f921\"]],\"type\":\"contour\"}],\"contourcarpet\":[{\"colorbar\":{\"outlinewidth\":0,\"ticks\":\"\"},\"type\":\"contourcarpet\"}],\"heatmap\":[{\"colorbar\":{\"outlinewidth\":0,\"ticks\":\"\"},\"colorscale\":[[0.0,\"#0d0887\"],[0.1111111111111111,\"#46039f\"],[0.2222222222222222,\"#7201a8\"],[0.3333333333333333,\"#9c179e\"],[0.4444444444444444,\"#bd3786\"],[0.5555555555555556,\"#d8576b\"],[0.6666666666666666,\"#ed7953\"],[0.7777777777777778,\"#fb9f3a\"],[0.8888888888888888,\"#fdca26\"],[1.0,\"#f0f921\"]],\"type\":\"heatmap\"}],\"heatmapgl\":[{\"colorbar\":{\"outlinewidth\":0,\"ticks\":\"\"},\"colorscale\":[[0.0,\"#0d0887\"],[0.1111111111111111,\"#46039f\"],[0.2222222222222222,\"#7201a8\"],[0.3333333333333333,\"#9c179e\"],[0.4444444444444444,\"#bd3786\"],[0.5555555555555556,\"#d8576b\"],[0.6666666666666666,\"#ed7953\"],[0.7777777777777778,\"#fb9f3a\"],[0.8888888888888888,\"#fdca26\"],[1.0,\"#f0f921\"]],\"type\":\"heatmapgl\"}],\"histogram\":[{\"marker\":{\"pattern\":{\"fillmode\":\"overlay\",\"size\":10,\"solidity\":0.2}},\"type\":\"histogram\"}],\"histogram2d\":[{\"colorbar\":{\"outlinewidth\":0,\"ticks\":\"\"},\"colorscale\":[[0.0,\"#0d0887\"],[0.1111111111111111,\"#46039f\"],[0.2222222222222222,\"#7201a8\"],[0.3333333333333333,\"#9c179e\"],[0.4444444444444444,\"#bd3786\"],[0.5555555555555556,\"#d8576b\"],[0.6666666666666666,\"#ed7953\"],[0.7777777777777778,\"#fb9f3a\"],[0.8888888888888888,\"#fdca26\"],[1.0,\"#f0f921\"]],\"type\":\"histogram2d\"}],\"histogram2dcontour\":[{\"colorbar\":{\"outlinewidth\":0,\"ticks\":\"\"},\"colorscale\":[[0.0,\"#0d0887\"],[0.1111111111111111,\"#46039f\"],[0.2222222222222222,\"#7201a8\"],[0.3333333333333333,\"#9c179e\"],[0.4444444444444444,\"#bd3786\"],[0.5555555555555556,\"#d8576b\"],[0.6666666666666666,\"#ed7953\"],[0.7777777777777778,\"#fb9f3a\"],[0.8888888888888888,\"#fdca26\"],[1.0,\"#f0f921\"]],\"type\":\"histogram2dcontour\"}],\"mesh3d\":[{\"colorbar\":{\"outlinewidth\":0,\"ticks\":\"\"},\"type\":\"mesh3d\"}],\"parcoords\":[{\"line\":{\"colorbar\":{\"outlinewidth\":0,\"ticks\":\"\"}},\"type\":\"parcoords\"}],\"pie\":[{\"automargin\":true,\"type\":\"pie\"}],\"scatter\":[{\"marker\":{\"colorbar\":{\"outlinewidth\":0,\"ticks\":\"\"}},\"type\":\"scatter\"}],\"scatter3d\":[{\"line\":{\"colorbar\":{\"outlinewidth\":0,\"ticks\":\"\"}},\"marker\":{\"colorbar\":{\"outlinewidth\":0,\"ticks\":\"\"}},\"type\":\"scatter3d\"}],\"scattercarpet\":[{\"marker\":{\"colorbar\":{\"outlinewidth\":0,\"ticks\":\"\"}},\"type\":\"scattercarpet\"}],\"scattergeo\":[{\"marker\":{\"colorbar\":{\"outlinewidth\":0,\"ticks\":\"\"}},\"type\":\"scattergeo\"}],\"scattergl\":[{\"marker\":{\"colorbar\":{\"outlinewidth\":0,\"ticks\":\"\"}},\"type\":\"scattergl\"}],\"scattermapbox\":[{\"marker\":{\"colorbar\":{\"outlinewidth\":0,\"ticks\":\"\"}},\"type\":\"scattermapbox\"}],\"scatterpolar\":[{\"marker\":{\"colorbar\":{\"outlinewidth\":0,\"ticks\":\"\"}},\"type\":\"scatterpolar\"}],\"scatterpolargl\":[{\"marker\":{\"colorbar\":{\"outlinewidth\":0,\"ticks\":\"\"}},\"type\":\"scatterpolargl\"}],\"scatterternary\":[{\"marker\":{\"colorbar\":{\"outlinewidth\":0,\"ticks\":\"\"}},\"type\":\"scatterternary\"}],\"surface\":[{\"colorbar\":{\"outlinewidth\":0,\"ticks\":\"\"},\"colorscale\":[[0.0,\"#0d0887\"],[0.1111111111111111,\"#46039f\"],[0.2222222222222222,\"#7201a8\"],[0.3333333333333333,\"#9c179e\"],[0.4444444444444444,\"#bd3786\"],[0.5555555555555556,\"#d8576b\"],[0.6666666666666666,\"#ed7953\"],[0.7777777777777778,\"#fb9f3a\"],[0.8888888888888888,\"#fdca26\"],[1.0,\"#f0f921\"]],\"type\":\"surface\"}],\"table\":[{\"cells\":{\"fill\":{\"color\":\"#EBF0F8\"},\"line\":{\"color\":\"white\"}},\"header\":{\"fill\":{\"color\":\"#C8D4E3\"},\"line\":{\"color\":\"white\"}},\"type\":\"table\"}]},\"layout\":{\"annotationdefaults\":{\"arrowcolor\":\"#2a3f5f\",\"arrowhead\":0,\"arrowwidth\":1},\"autotypenumbers\":\"strict\",\"coloraxis\":{\"colorbar\":{\"outlinewidth\":0,\"ticks\":\"\"}},\"colorscale\":{\"diverging\":[[0,\"#8e0152\"],[0.1,\"#c51b7d\"],[0.2,\"#de77ae\"],[0.3,\"#f1b6da\"],[0.4,\"#fde0ef\"],[0.5,\"#f7f7f7\"],[0.6,\"#e6f5d0\"],[0.7,\"#b8e186\"],[0.8,\"#7fbc41\"],[0.9,\"#4d9221\"],[1,\"#276419\"]],\"sequential\":[[0.0,\"#0d0887\"],[0.1111111111111111,\"#46039f\"],[0.2222222222222222,\"#7201a8\"],[0.3333333333333333,\"#9c179e\"],[0.4444444444444444,\"#bd3786\"],[0.5555555555555556,\"#d8576b\"],[0.6666666666666666,\"#ed7953\"],[0.7777777777777778,\"#fb9f3a\"],[0.8888888888888888,\"#fdca26\"],[1.0,\"#f0f921\"]],\"sequentialminus\":[[0.0,\"#0d0887\"],[0.1111111111111111,\"#46039f\"],[0.2222222222222222,\"#7201a8\"],[0.3333333333333333,\"#9c179e\"],[0.4444444444444444,\"#bd3786\"],[0.5555555555555556,\"#d8576b\"],[0.6666666666666666,\"#ed7953\"],[0.7777777777777778,\"#fb9f3a\"],[0.8888888888888888,\"#fdca26\"],[1.0,\"#f0f921\"]]},\"colorway\":[\"#636efa\",\"#EF553B\",\"#00cc96\",\"#ab63fa\",\"#FFA15A\",\"#19d3f3\",\"#FF6692\",\"#B6E880\",\"#FF97FF\",\"#FECB52\"],\"font\":{\"color\":\"#2a3f5f\"},\"geo\":{\"bgcolor\":\"white\",\"lakecolor\":\"white\",\"landcolor\":\"#E5ECF6\",\"showlakes\":true,\"showland\":true,\"subunitcolor\":\"white\"},\"hoverlabel\":{\"align\":\"left\"},\"hovermode\":\"closest\",\"mapbox\":{\"style\":\"light\"},\"paper_bgcolor\":\"white\",\"plot_bgcolor\":\"#E5ECF6\",\"polar\":{\"angularaxis\":{\"gridcolor\":\"white\",\"linecolor\":\"white\",\"ticks\":\"\"},\"bgcolor\":\"#E5ECF6\",\"radialaxis\":{\"gridcolor\":\"white\",\"linecolor\":\"white\",\"ticks\":\"\"}},\"scene\":{\"xaxis\":{\"backgroundcolor\":\"#E5ECF6\",\"gridcolor\":\"white\",\"gridwidth\":2,\"linecolor\":\"white\",\"showbackground\":true,\"ticks\":\"\",\"zerolinecolor\":\"white\"},\"yaxis\":{\"backgroundcolor\":\"#E5ECF6\",\"gridcolor\":\"white\",\"gridwidth\":2,\"linecolor\":\"white\",\"showbackground\":true,\"ticks\":\"\",\"zerolinecolor\":\"white\"},\"zaxis\":{\"backgroundcolor\":\"#E5ECF6\",\"gridcolor\":\"white\",\"gridwidth\":2,\"linecolor\":\"white\",\"showbackground\":true,\"ticks\":\"\",\"zerolinecolor\":\"white\"}},\"shapedefaults\":{\"line\":{\"color\":\"#2a3f5f\"}},\"ternary\":{\"aaxis\":{\"gridcolor\":\"white\",\"linecolor\":\"white\",\"ticks\":\"\"},\"baxis\":{\"gridcolor\":\"white\",\"linecolor\":\"white\",\"ticks\":\"\"},\"bgcolor\":\"#E5ECF6\",\"caxis\":{\"gridcolor\":\"white\",\"linecolor\":\"white\",\"ticks\":\"\"}},\"title\":{\"x\":0.05},\"xaxis\":{\"automargin\":true,\"gridcolor\":\"white\",\"linecolor\":\"white\",\"ticks\":\"\",\"title\":{\"standoff\":15},\"zerolinecolor\":\"white\",\"zerolinewidth\":2},\"yaxis\":{\"automargin\":true,\"gridcolor\":\"white\",\"linecolor\":\"white\",\"ticks\":\"\",\"title\":{\"standoff\":15},\"zerolinecolor\":\"white\",\"zerolinewidth\":2}}},\"xaxis\":{\"anchor\":\"y\",\"domain\":[0.0,1.0],\"title\":{\"text\":\"Ecotype/Genotype\"}},\"yaxis\":{\"anchor\":\"x\",\"domain\":[0.0,1.0],\"title\":{\"text\":\"volume\"}},\"legend\":{\"title\":{\"text\":\"Spaceflight Treatment\"},\"tracegroupgap\":0},\"margin\":{\"t\":60},\"boxmode\":\"group\"},                        {\"responsive\": true}                    ).then(function(){\n",
              "                            \n",
              "var gd = document.getElementById('6bc90728-b1b6-4c25-a37e-da727788ee17');\n",
              "var x = new MutationObserver(function (mutations, observer) {{\n",
              "        var display = window.getComputedStyle(gd).display;\n",
              "        if (!display || display === 'none') {{\n",
              "            console.log([gd, 'removed!']);\n",
              "            Plotly.purge(gd);\n",
              "            observer.disconnect();\n",
              "        }}\n",
              "}});\n",
              "\n",
              "// Listen for the removal of the full notebook cells\n",
              "var notebookContainer = gd.closest('#notebook-container');\n",
              "if (notebookContainer) {{\n",
              "    x.observe(notebookContainer, {childList: true});\n",
              "}}\n",
              "\n",
              "// Listen for the clearing of the current output cell\n",
              "var outputEl = gd.closest('.output');\n",
              "if (outputEl) {{\n",
              "    x.observe(outputEl, {childList: true});\n",
              "}}\n",
              "\n",
              "                        })                };                            </script>        </div>\n",
              "</body>\n",
              "</html>"
            ]
          },
          "metadata": {}
        }
      ]
    },
    {
      "cell_type": "code",
      "source": [
        "# Summary Statistics by the Gravitational environment\n",
        "fig = px.box(root_11, x=\"Illumination trestment 2\", y=\"volume\", color=\"Spaceflight Treatment\")\n",
        "fig.update_traces(quartilemethod=\"exclusive\") # or \"inclusive\", or \"linear\" by default\n",
        "fig.show()"
      ],
      "metadata": {
        "colab": {
          "base_uri": "https://localhost:8080/",
          "height": 0
        },
        "id": "N2ByEMsYi4gy",
        "outputId": "44592b84-9151-4101-ed4d-328f9c3acaff"
      },
      "execution_count": 35,
      "outputs": [
        {
          "output_type": "display_data",
          "data": {
            "text/html": [
              "<html>\n",
              "<head><meta charset=\"utf-8\" /></head>\n",
              "<body>\n",
              "    <div>            <script src=\"https://cdnjs.cloudflare.com/ajax/libs/mathjax/2.7.5/MathJax.js?config=TeX-AMS-MML_SVG\"></script><script type=\"text/javascript\">if (window.MathJax) {MathJax.Hub.Config({SVG: {font: \"STIX-Web\"}});}</script>                <script type=\"text/javascript\">window.PlotlyConfig = {MathJaxConfig: 'local'};</script>\n",
              "        <script src=\"https://cdn.plot.ly/plotly-2.8.3.min.js\"></script>                <div id=\"09fd04de-7c46-463b-8a6f-74914cd0b6c8\" class=\"plotly-graph-div\" style=\"height:525px; width:100%;\"></div>            <script type=\"text/javascript\">                                    window.PLOTLYENV=window.PLOTLYENV || {};                                    if (document.getElementById(\"09fd04de-7c46-463b-8a6f-74914cd0b6c8\")) {                    Plotly.newPlot(                        \"09fd04de-7c46-463b-8a6f-74914cd0b6c8\",                        [{\"alignmentgroup\":\"True\",\"hovertemplate\":\"Spaceflight Treatment=Fl<br>Illumination trestment 2=%{x}<br>volume=%{y}<extra></extra>\",\"legendgroup\":\"Fl\",\"marker\":{\"color\":\"#636efa\"},\"name\":\"Fl\",\"notched\":false,\"offsetgroup\":\"Fl\",\"orientation\":\"v\",\"showlegend\":true,\"x\":[\"Dark\",\"Dark\",\"Dark\",\"Dark\",\"Dark\",\"Dark\",\"Dark\",\"Dark\",\"Dark\",\"Dark\",\"Dark\",\"Dark\",\"Dark\",\"Dark\",\"Dark\",\"Dark\",\"Dark\",\"Dark\",\"Dark\",\"Dark\",\"Dark\",\"Dark\",\"Dark\",\"Dark\",\"Dark\",\"Dark\",\"Dark\",\"Dark\",\"Dark\",\"Dark\",\"Dark\",\"Dark\",\"Dark\",\"Dark\",\"Dark\",\"Dark\",\"Dark\",\"Dark\",\"Dark\",\"Dark\",\"Dark\",\"Dark\",\"Dark\",\"Dark\",\"Dark\",\"Dark\",\"Dark\",\"Dark\",\"Light\",\"Light\",\"Light\",\"Light\",\"Light\",\"Light\",\"Light\",\"Light\",\"Light\",\"Light\",\"Light\",\"Light\",\"Light\",\"Light\",\"Light\",\"Light\",\"Light\",\"Light\",\"Light\",\"Light\",\"Light\",\"Light\",\"Light\",\"Light\",\"Light\",\"Light\",\"Light\",\"Light\",\"Light\",\"Light\",\"Light\",\"Light\",\"Light\",\"Light\",\"Light\",\"Light\",\"Light\",\"Light\",\"Light\",\"Light\",\"Light\",\"Light\",\"Light\",\"Light\",\"Light\",\"Light\",\"Light\"],\"x0\":\" \",\"xaxis\":\"x\",\"y\":[0.007,0.006,0.008,0.007,0.009,0.005,0.004,0.011,0.008,0.008,0.013,0.009,0.006,0.006,0.009,0.004,0.006,0.003,0.005,0.009,0.004,0.007,0.004,0.006,0.005,0.004,0.006,0.004,0.004,0.007,0.005,0.004,0.009,0.006,0.003,0.006,0.003,0.011,0.01,0.011,0.005,0.006,0.006,0.003,0.004,0.005,0.004,0.005,0.004,0.009,0.007,0.012,0.007,0.014,0.009,0.004,0.005,0.009,0.014,0.019,0.015,0.016,0.013,0.016,0.004,0.004,0.003,0.003,0.007,0.006,0.003,0.008,0.004,0.004,0.006,0.011,0.006,0.023,0.006,0.021,0.007,0.008,0.011,0.012,0.007,0.008,0.003,0.003,0.003,0.003,0.016,0.015,0.009,0.007,0.005],\"y0\":\" \",\"yaxis\":\"y\",\"type\":\"box\",\"quartilemethod\":\"exclusive\"},{\"alignmentgroup\":\"True\",\"hovertemplate\":\"Spaceflight Treatment=Gr<br>Illumination trestment 2=%{x}<br>volume=%{y}<extra></extra>\",\"legendgroup\":\"Gr\",\"marker\":{\"color\":\"#EF553B\"},\"name\":\"Gr\",\"notched\":false,\"offsetgroup\":\"Gr\",\"orientation\":\"v\",\"showlegend\":true,\"x\":[\"Dark\",\"Dark\",\"Dark\",\"Dark\",\"Dark\",\"Dark\",\"Dark\",\"Dark\",\"Dark\",\"Dark\",\"Dark\",\"Dark\",\"Dark\",\"Dark\",\"Dark\",\"Dark\",\"Dark\",\"Dark\",\"Dark\",\"Dark\",\"Dark\",\"Dark\",\"Dark\",\"Dark\",\"Dark\",\"Dark\",\"Dark\",\"Dark\",\"Dark\",\"Dark\",\"Dark\",\"Dark\",\"Dark\",\"Dark\",\"Dark\",\"Dark\",\"Dark\",\"Dark\",\"Dark\",\"Dark\",\"Dark\",\"Dark\",\"Dark\",\"Dark\",\"Dark\",\"Dark\",\"Dark\",\"Dark\",\"Light\",\"Light\",\"Light\",\"Light\",\"Light\",\"Light\",\"Light\",\"Light\",\"Light\",\"Light\",\"Light\",\"Light\",\"Light\",\"Light\",\"Light\",\"Light\",\"Light\",\"Light\",\"Light\",\"Light\",\"Light\",\"Light\",\"Light\",\"Light\",\"Light\",\"Light\",\"Light\",\"Light\",\"Light\",\"Light\",\"Light\",\"Light\",\"Light\",\"Light\",\"Light\",\"Light\",\"Light\",\"Light\",\"Light\",\"Light\"],\"x0\":\" \",\"xaxis\":\"x\",\"y\":[0.023,0.03,0.006,0.004,0.02,0.008,0.012,0.013,0.008,0.018,0.01,0.009,0.006,0.006,0.006,0.005,0.005,0.009,0.005,0.009,0.011,0.008,0.006,0.01,0.034,0.006,0.006,0.009,0.009,0.017,0.008,0.011,0.011,0.011,0.006,0.006,0.012,0.018,0.008,0.006,0.009,0.01,0.007,0.012,0.007,0.012,0.012,0.007,0.011,0.012,0.007,0.011,0.009,0.009,0.006,0.008,0.005,0.004,0.005,0.014,0.007,0.008,0.008,0.007,0.006,0.007,0.007,0.008,0.007,0.006,0.005,0.007,0.011,0.008,0.008,0.015,0.011,0.006,0.008,0.008,0.009,0.006,0.009,0.007,0.007,0.005,0.005,0.007],\"y0\":\" \",\"yaxis\":\"y\",\"type\":\"box\",\"quartilemethod\":\"exclusive\"}],                        {\"template\":{\"data\":{\"bar\":[{\"error_x\":{\"color\":\"#2a3f5f\"},\"error_y\":{\"color\":\"#2a3f5f\"},\"marker\":{\"line\":{\"color\":\"#E5ECF6\",\"width\":0.5},\"pattern\":{\"fillmode\":\"overlay\",\"size\":10,\"solidity\":0.2}},\"type\":\"bar\"}],\"barpolar\":[{\"marker\":{\"line\":{\"color\":\"#E5ECF6\",\"width\":0.5},\"pattern\":{\"fillmode\":\"overlay\",\"size\":10,\"solidity\":0.2}},\"type\":\"barpolar\"}],\"carpet\":[{\"aaxis\":{\"endlinecolor\":\"#2a3f5f\",\"gridcolor\":\"white\",\"linecolor\":\"white\",\"minorgridcolor\":\"white\",\"startlinecolor\":\"#2a3f5f\"},\"baxis\":{\"endlinecolor\":\"#2a3f5f\",\"gridcolor\":\"white\",\"linecolor\":\"white\",\"minorgridcolor\":\"white\",\"startlinecolor\":\"#2a3f5f\"},\"type\":\"carpet\"}],\"choropleth\":[{\"colorbar\":{\"outlinewidth\":0,\"ticks\":\"\"},\"type\":\"choropleth\"}],\"contour\":[{\"colorbar\":{\"outlinewidth\":0,\"ticks\":\"\"},\"colorscale\":[[0.0,\"#0d0887\"],[0.1111111111111111,\"#46039f\"],[0.2222222222222222,\"#7201a8\"],[0.3333333333333333,\"#9c179e\"],[0.4444444444444444,\"#bd3786\"],[0.5555555555555556,\"#d8576b\"],[0.6666666666666666,\"#ed7953\"],[0.7777777777777778,\"#fb9f3a\"],[0.8888888888888888,\"#fdca26\"],[1.0,\"#f0f921\"]],\"type\":\"contour\"}],\"contourcarpet\":[{\"colorbar\":{\"outlinewidth\":0,\"ticks\":\"\"},\"type\":\"contourcarpet\"}],\"heatmap\":[{\"colorbar\":{\"outlinewidth\":0,\"ticks\":\"\"},\"colorscale\":[[0.0,\"#0d0887\"],[0.1111111111111111,\"#46039f\"],[0.2222222222222222,\"#7201a8\"],[0.3333333333333333,\"#9c179e\"],[0.4444444444444444,\"#bd3786\"],[0.5555555555555556,\"#d8576b\"],[0.6666666666666666,\"#ed7953\"],[0.7777777777777778,\"#fb9f3a\"],[0.8888888888888888,\"#fdca26\"],[1.0,\"#f0f921\"]],\"type\":\"heatmap\"}],\"heatmapgl\":[{\"colorbar\":{\"outlinewidth\":0,\"ticks\":\"\"},\"colorscale\":[[0.0,\"#0d0887\"],[0.1111111111111111,\"#46039f\"],[0.2222222222222222,\"#7201a8\"],[0.3333333333333333,\"#9c179e\"],[0.4444444444444444,\"#bd3786\"],[0.5555555555555556,\"#d8576b\"],[0.6666666666666666,\"#ed7953\"],[0.7777777777777778,\"#fb9f3a\"],[0.8888888888888888,\"#fdca26\"],[1.0,\"#f0f921\"]],\"type\":\"heatmapgl\"}],\"histogram\":[{\"marker\":{\"pattern\":{\"fillmode\":\"overlay\",\"size\":10,\"solidity\":0.2}},\"type\":\"histogram\"}],\"histogram2d\":[{\"colorbar\":{\"outlinewidth\":0,\"ticks\":\"\"},\"colorscale\":[[0.0,\"#0d0887\"],[0.1111111111111111,\"#46039f\"],[0.2222222222222222,\"#7201a8\"],[0.3333333333333333,\"#9c179e\"],[0.4444444444444444,\"#bd3786\"],[0.5555555555555556,\"#d8576b\"],[0.6666666666666666,\"#ed7953\"],[0.7777777777777778,\"#fb9f3a\"],[0.8888888888888888,\"#fdca26\"],[1.0,\"#f0f921\"]],\"type\":\"histogram2d\"}],\"histogram2dcontour\":[{\"colorbar\":{\"outlinewidth\":0,\"ticks\":\"\"},\"colorscale\":[[0.0,\"#0d0887\"],[0.1111111111111111,\"#46039f\"],[0.2222222222222222,\"#7201a8\"],[0.3333333333333333,\"#9c179e\"],[0.4444444444444444,\"#bd3786\"],[0.5555555555555556,\"#d8576b\"],[0.6666666666666666,\"#ed7953\"],[0.7777777777777778,\"#fb9f3a\"],[0.8888888888888888,\"#fdca26\"],[1.0,\"#f0f921\"]],\"type\":\"histogram2dcontour\"}],\"mesh3d\":[{\"colorbar\":{\"outlinewidth\":0,\"ticks\":\"\"},\"type\":\"mesh3d\"}],\"parcoords\":[{\"line\":{\"colorbar\":{\"outlinewidth\":0,\"ticks\":\"\"}},\"type\":\"parcoords\"}],\"pie\":[{\"automargin\":true,\"type\":\"pie\"}],\"scatter\":[{\"marker\":{\"colorbar\":{\"outlinewidth\":0,\"ticks\":\"\"}},\"type\":\"scatter\"}],\"scatter3d\":[{\"line\":{\"colorbar\":{\"outlinewidth\":0,\"ticks\":\"\"}},\"marker\":{\"colorbar\":{\"outlinewidth\":0,\"ticks\":\"\"}},\"type\":\"scatter3d\"}],\"scattercarpet\":[{\"marker\":{\"colorbar\":{\"outlinewidth\":0,\"ticks\":\"\"}},\"type\":\"scattercarpet\"}],\"scattergeo\":[{\"marker\":{\"colorbar\":{\"outlinewidth\":0,\"ticks\":\"\"}},\"type\":\"scattergeo\"}],\"scattergl\":[{\"marker\":{\"colorbar\":{\"outlinewidth\":0,\"ticks\":\"\"}},\"type\":\"scattergl\"}],\"scattermapbox\":[{\"marker\":{\"colorbar\":{\"outlinewidth\":0,\"ticks\":\"\"}},\"type\":\"scattermapbox\"}],\"scatterpolar\":[{\"marker\":{\"colorbar\":{\"outlinewidth\":0,\"ticks\":\"\"}},\"type\":\"scatterpolar\"}],\"scatterpolargl\":[{\"marker\":{\"colorbar\":{\"outlinewidth\":0,\"ticks\":\"\"}},\"type\":\"scatterpolargl\"}],\"scatterternary\":[{\"marker\":{\"colorbar\":{\"outlinewidth\":0,\"ticks\":\"\"}},\"type\":\"scatterternary\"}],\"surface\":[{\"colorbar\":{\"outlinewidth\":0,\"ticks\":\"\"},\"colorscale\":[[0.0,\"#0d0887\"],[0.1111111111111111,\"#46039f\"],[0.2222222222222222,\"#7201a8\"],[0.3333333333333333,\"#9c179e\"],[0.4444444444444444,\"#bd3786\"],[0.5555555555555556,\"#d8576b\"],[0.6666666666666666,\"#ed7953\"],[0.7777777777777778,\"#fb9f3a\"],[0.8888888888888888,\"#fdca26\"],[1.0,\"#f0f921\"]],\"type\":\"surface\"}],\"table\":[{\"cells\":{\"fill\":{\"color\":\"#EBF0F8\"},\"line\":{\"color\":\"white\"}},\"header\":{\"fill\":{\"color\":\"#C8D4E3\"},\"line\":{\"color\":\"white\"}},\"type\":\"table\"}]},\"layout\":{\"annotationdefaults\":{\"arrowcolor\":\"#2a3f5f\",\"arrowhead\":0,\"arrowwidth\":1},\"autotypenumbers\":\"strict\",\"coloraxis\":{\"colorbar\":{\"outlinewidth\":0,\"ticks\":\"\"}},\"colorscale\":{\"diverging\":[[0,\"#8e0152\"],[0.1,\"#c51b7d\"],[0.2,\"#de77ae\"],[0.3,\"#f1b6da\"],[0.4,\"#fde0ef\"],[0.5,\"#f7f7f7\"],[0.6,\"#e6f5d0\"],[0.7,\"#b8e186\"],[0.8,\"#7fbc41\"],[0.9,\"#4d9221\"],[1,\"#276419\"]],\"sequential\":[[0.0,\"#0d0887\"],[0.1111111111111111,\"#46039f\"],[0.2222222222222222,\"#7201a8\"],[0.3333333333333333,\"#9c179e\"],[0.4444444444444444,\"#bd3786\"],[0.5555555555555556,\"#d8576b\"],[0.6666666666666666,\"#ed7953\"],[0.7777777777777778,\"#fb9f3a\"],[0.8888888888888888,\"#fdca26\"],[1.0,\"#f0f921\"]],\"sequentialminus\":[[0.0,\"#0d0887\"],[0.1111111111111111,\"#46039f\"],[0.2222222222222222,\"#7201a8\"],[0.3333333333333333,\"#9c179e\"],[0.4444444444444444,\"#bd3786\"],[0.5555555555555556,\"#d8576b\"],[0.6666666666666666,\"#ed7953\"],[0.7777777777777778,\"#fb9f3a\"],[0.8888888888888888,\"#fdca26\"],[1.0,\"#f0f921\"]]},\"colorway\":[\"#636efa\",\"#EF553B\",\"#00cc96\",\"#ab63fa\",\"#FFA15A\",\"#19d3f3\",\"#FF6692\",\"#B6E880\",\"#FF97FF\",\"#FECB52\"],\"font\":{\"color\":\"#2a3f5f\"},\"geo\":{\"bgcolor\":\"white\",\"lakecolor\":\"white\",\"landcolor\":\"#E5ECF6\",\"showlakes\":true,\"showland\":true,\"subunitcolor\":\"white\"},\"hoverlabel\":{\"align\":\"left\"},\"hovermode\":\"closest\",\"mapbox\":{\"style\":\"light\"},\"paper_bgcolor\":\"white\",\"plot_bgcolor\":\"#E5ECF6\",\"polar\":{\"angularaxis\":{\"gridcolor\":\"white\",\"linecolor\":\"white\",\"ticks\":\"\"},\"bgcolor\":\"#E5ECF6\",\"radialaxis\":{\"gridcolor\":\"white\",\"linecolor\":\"white\",\"ticks\":\"\"}},\"scene\":{\"xaxis\":{\"backgroundcolor\":\"#E5ECF6\",\"gridcolor\":\"white\",\"gridwidth\":2,\"linecolor\":\"white\",\"showbackground\":true,\"ticks\":\"\",\"zerolinecolor\":\"white\"},\"yaxis\":{\"backgroundcolor\":\"#E5ECF6\",\"gridcolor\":\"white\",\"gridwidth\":2,\"linecolor\":\"white\",\"showbackground\":true,\"ticks\":\"\",\"zerolinecolor\":\"white\"},\"zaxis\":{\"backgroundcolor\":\"#E5ECF6\",\"gridcolor\":\"white\",\"gridwidth\":2,\"linecolor\":\"white\",\"showbackground\":true,\"ticks\":\"\",\"zerolinecolor\":\"white\"}},\"shapedefaults\":{\"line\":{\"color\":\"#2a3f5f\"}},\"ternary\":{\"aaxis\":{\"gridcolor\":\"white\",\"linecolor\":\"white\",\"ticks\":\"\"},\"baxis\":{\"gridcolor\":\"white\",\"linecolor\":\"white\",\"ticks\":\"\"},\"bgcolor\":\"#E5ECF6\",\"caxis\":{\"gridcolor\":\"white\",\"linecolor\":\"white\",\"ticks\":\"\"}},\"title\":{\"x\":0.05},\"xaxis\":{\"automargin\":true,\"gridcolor\":\"white\",\"linecolor\":\"white\",\"ticks\":\"\",\"title\":{\"standoff\":15},\"zerolinecolor\":\"white\",\"zerolinewidth\":2},\"yaxis\":{\"automargin\":true,\"gridcolor\":\"white\",\"linecolor\":\"white\",\"ticks\":\"\",\"title\":{\"standoff\":15},\"zerolinecolor\":\"white\",\"zerolinewidth\":2}}},\"xaxis\":{\"anchor\":\"y\",\"domain\":[0.0,1.0],\"title\":{\"text\":\"Illumination trestment 2\"}},\"yaxis\":{\"anchor\":\"x\",\"domain\":[0.0,1.0],\"title\":{\"text\":\"volume\"}},\"legend\":{\"title\":{\"text\":\"Spaceflight Treatment\"},\"tracegroupgap\":0},\"margin\":{\"t\":60},\"boxmode\":\"group\"},                        {\"responsive\": true}                    ).then(function(){\n",
              "                            \n",
              "var gd = document.getElementById('09fd04de-7c46-463b-8a6f-74914cd0b6c8');\n",
              "var x = new MutationObserver(function (mutations, observer) {{\n",
              "        var display = window.getComputedStyle(gd).display;\n",
              "        if (!display || display === 'none') {{\n",
              "            console.log([gd, 'removed!']);\n",
              "            Plotly.purge(gd);\n",
              "            observer.disconnect();\n",
              "        }}\n",
              "}});\n",
              "\n",
              "// Listen for the removal of the full notebook cells\n",
              "var notebookContainer = gd.closest('#notebook-container');\n",
              "if (notebookContainer) {{\n",
              "    x.observe(notebookContainer, {childList: true});\n",
              "}}\n",
              "\n",
              "// Listen for the clearing of the current output cell\n",
              "var outputEl = gd.closest('.output');\n",
              "if (outputEl) {{\n",
              "    x.observe(outputEl, {childList: true});\n",
              "}}\n",
              "\n",
              "                        })                };                            </script>        </div>\n",
              "</body>\n",
              "</html>"
            ]
          },
          "metadata": {}
        }
      ]
    },
    {
      "cell_type": "code",
      "source": [
        "fig = go.Figure()\n",
        "\n",
        "fig.add_trace(go.Box(\n",
        "    y=ws_vol['volume'],\n",
        "    x=ws_vol['Illumination trestment 2'],\n",
        "    name='WS',\n",
        "))\n",
        "fig.add_trace(go.Box(\n",
        "    y=phyd_vol['volume'],\n",
        "    x=phyd_vol['Illumination trestment 2'],\n",
        "    name='PhyD',\n",
        "))\n",
        "fig.add_trace(go.Box(\n",
        "    y=col_vol['volume'],\n",
        "    x=col_vol['Illumination trestment 2'],\n",
        "    name='Col',\n",
        "))\n",
        "\n",
        "\n",
        "fig.update_layout(\n",
        "    yaxis_title='root volume',\n",
        "    boxmode='group' # group together boxes of the different traces for each value of x\n",
        ")\n",
        "fig.show()\n"
      ],
      "metadata": {
        "colab": {
          "base_uri": "https://localhost:8080/",
          "height": 0
        },
        "id": "f5zR58hUi8YB",
        "outputId": "0fa5d14e-e050-43c5-bd93-72c465ea33e4"
      },
      "execution_count": 37,
      "outputs": [
        {
          "output_type": "display_data",
          "data": {
            "text/html": [
              "<html>\n",
              "<head><meta charset=\"utf-8\" /></head>\n",
              "<body>\n",
              "    <div>            <script src=\"https://cdnjs.cloudflare.com/ajax/libs/mathjax/2.7.5/MathJax.js?config=TeX-AMS-MML_SVG\"></script><script type=\"text/javascript\">if (window.MathJax) {MathJax.Hub.Config({SVG: {font: \"STIX-Web\"}});}</script>                <script type=\"text/javascript\">window.PlotlyConfig = {MathJaxConfig: 'local'};</script>\n",
              "        <script src=\"https://cdn.plot.ly/plotly-2.8.3.min.js\"></script>                <div id=\"89696186-89c8-47e5-b2dd-2db6f12c09aa\" class=\"plotly-graph-div\" style=\"height:525px; width:100%;\"></div>            <script type=\"text/javascript\">                                    window.PLOTLYENV=window.PLOTLYENV || {};                                    if (document.getElementById(\"89696186-89c8-47e5-b2dd-2db6f12c09aa\")) {                    Plotly.newPlot(                        \"89696186-89c8-47e5-b2dd-2db6f12c09aa\",                        [{\"name\":\"WS\",\"x\":[\"Dark\",\"Dark\",\"Dark\",\"Dark\",\"Dark\",\"Dark\",\"Dark\",\"Dark\",\"Dark\",\"Dark\",\"Dark\",\"Dark\",\"Dark\",\"Dark\",\"Dark\",\"Dark\",\"Light\",\"Light\",\"Light\",\"Light\",\"Light\",\"Light\",\"Light\",\"Light\",\"Light\",\"Light\",\"Light\",\"Light\",\"Light\",\"Light\",\"Light\",\"Dark\",\"Dark\",\"Dark\",\"Dark\",\"Dark\",\"Dark\",\"Dark\",\"Dark\",\"Dark\",\"Dark\",\"Dark\",\"Dark\",\"Light\",\"Light\",\"Light\",\"Light\",\"Light\",\"Light\",\"Light\",\"Light\",\"Light\",\"Light\",\"Light\",\"Light\",\"Light\",\"Light\",\"Light\",\"Light\",\"Light\"],\"y\":[0.007,0.006,0.008,0.007,0.009,0.004,0.006,0.003,0.005,0.009,0.005,0.004,0.009,0.006,0.003,0.006,0.004,0.009,0.007,0.012,0.007,0.004,0.004,0.003,0.003,0.007,0.007,0.008,0.011,0.012,0.007,0.006,0.006,0.006,0.005,0.005,0.009,0.008,0.011,0.011,0.011,0.006,0.006,0.011,0.012,0.007,0.011,0.009,0.011,0.006,0.008,0.008,0.009,0.006,0.009,0.007,0.007,0.005,0.005,0.007],\"type\":\"box\"},{\"name\":\"PhyD\",\"x\":[\"Dark\",\"Dark\",\"Dark\",\"Dark\",\"Dark\",\"Dark\",\"Dark\",\"Dark\",\"Dark\",\"Dark\",\"Dark\",\"Dark\",\"Dark\",\"Dark\",\"Dark\",\"Dark\",\"Light\",\"Light\",\"Light\",\"Light\",\"Light\",\"Light\",\"Light\",\"Light\",\"Light\",\"Light\",\"Light\",\"Light\",\"Light\",\"Light\",\"Light\",\"Dark\",\"Dark\",\"Dark\",\"Dark\",\"Dark\",\"Dark\",\"Dark\",\"Dark\",\"Dark\",\"Dark\",\"Dark\",\"Dark\",\"Dark\",\"Dark\",\"Dark\",\"Dark\",\"Dark\",\"Dark\",\"Light\",\"Light\",\"Light\",\"Light\",\"Light\",\"Light\",\"Light\",\"Light\",\"Light\",\"Light\",\"Light\",\"Light\"],\"y\":[0.013,0.009,0.006,0.006,0.009,0.004,0.006,0.004,0.004,0.007,0.006,0.003,0.004,0.005,0.004,0.005,0.019,0.015,0.016,0.013,0.016,0.011,0.006,0.023,0.006,0.021,0.016,0.015,0.009,0.007,0.005,0.012,0.013,0.008,0.018,0.01,0.009,0.034,0.006,0.006,0.009,0.009,0.017,0.007,0.012,0.007,0.012,0.012,0.007,0.005,0.014,0.007,0.008,0.008,0.007,0.005,0.007,0.011,0.008,0.008,0.015],\"type\":\"box\"},{\"name\":\"Col\",\"x\":[\"Dark\",\"Dark\",\"Dark\",\"Dark\",\"Dark\",\"Dark\",\"Dark\",\"Dark\",\"Dark\",\"Dark\",\"Dark\",\"Dark\",\"Dark\",\"Dark\",\"Dark\",\"Dark\",\"Light\",\"Light\",\"Light\",\"Light\",\"Light\",\"Light\",\"Light\",\"Light\",\"Light\",\"Light\",\"Light\",\"Light\",\"Light\",\"Light\",\"Light\",\"Light\",\"Light\",\"Dark\",\"Dark\",\"Dark\",\"Dark\",\"Dark\",\"Dark\",\"Dark\",\"Dark\",\"Dark\",\"Dark\",\"Dark\",\"Dark\",\"Dark\",\"Dark\",\"Dark\",\"Dark\",\"Dark\",\"Dark\",\"Light\",\"Light\",\"Light\",\"Light\",\"Light\",\"Light\",\"Light\",\"Light\",\"Light\",\"Light\",\"Light\"],\"y\":[0.005,0.004,0.011,0.008,0.008,0.004,0.007,0.004,0.006,0.005,0.003,0.011,0.01,0.011,0.005,0.006,0.014,0.009,0.004,0.005,0.009,0.014,0.006,0.003,0.008,0.004,0.004,0.006,0.008,0.003,0.003,0.003,0.003,0.023,0.03,0.006,0.004,0.02,0.008,0.005,0.009,0.011,0.008,0.006,0.01,0.012,0.018,0.008,0.006,0.009,0.01,0.009,0.006,0.008,0.005,0.004,0.006,0.007,0.007,0.008,0.007,0.006],\"type\":\"box\"}],                        {\"template\":{\"data\":{\"bar\":[{\"error_x\":{\"color\":\"#2a3f5f\"},\"error_y\":{\"color\":\"#2a3f5f\"},\"marker\":{\"line\":{\"color\":\"#E5ECF6\",\"width\":0.5},\"pattern\":{\"fillmode\":\"overlay\",\"size\":10,\"solidity\":0.2}},\"type\":\"bar\"}],\"barpolar\":[{\"marker\":{\"line\":{\"color\":\"#E5ECF6\",\"width\":0.5},\"pattern\":{\"fillmode\":\"overlay\",\"size\":10,\"solidity\":0.2}},\"type\":\"barpolar\"}],\"carpet\":[{\"aaxis\":{\"endlinecolor\":\"#2a3f5f\",\"gridcolor\":\"white\",\"linecolor\":\"white\",\"minorgridcolor\":\"white\",\"startlinecolor\":\"#2a3f5f\"},\"baxis\":{\"endlinecolor\":\"#2a3f5f\",\"gridcolor\":\"white\",\"linecolor\":\"white\",\"minorgridcolor\":\"white\",\"startlinecolor\":\"#2a3f5f\"},\"type\":\"carpet\"}],\"choropleth\":[{\"colorbar\":{\"outlinewidth\":0,\"ticks\":\"\"},\"type\":\"choropleth\"}],\"contour\":[{\"colorbar\":{\"outlinewidth\":0,\"ticks\":\"\"},\"colorscale\":[[0.0,\"#0d0887\"],[0.1111111111111111,\"#46039f\"],[0.2222222222222222,\"#7201a8\"],[0.3333333333333333,\"#9c179e\"],[0.4444444444444444,\"#bd3786\"],[0.5555555555555556,\"#d8576b\"],[0.6666666666666666,\"#ed7953\"],[0.7777777777777778,\"#fb9f3a\"],[0.8888888888888888,\"#fdca26\"],[1.0,\"#f0f921\"]],\"type\":\"contour\"}],\"contourcarpet\":[{\"colorbar\":{\"outlinewidth\":0,\"ticks\":\"\"},\"type\":\"contourcarpet\"}],\"heatmap\":[{\"colorbar\":{\"outlinewidth\":0,\"ticks\":\"\"},\"colorscale\":[[0.0,\"#0d0887\"],[0.1111111111111111,\"#46039f\"],[0.2222222222222222,\"#7201a8\"],[0.3333333333333333,\"#9c179e\"],[0.4444444444444444,\"#bd3786\"],[0.5555555555555556,\"#d8576b\"],[0.6666666666666666,\"#ed7953\"],[0.7777777777777778,\"#fb9f3a\"],[0.8888888888888888,\"#fdca26\"],[1.0,\"#f0f921\"]],\"type\":\"heatmap\"}],\"heatmapgl\":[{\"colorbar\":{\"outlinewidth\":0,\"ticks\":\"\"},\"colorscale\":[[0.0,\"#0d0887\"],[0.1111111111111111,\"#46039f\"],[0.2222222222222222,\"#7201a8\"],[0.3333333333333333,\"#9c179e\"],[0.4444444444444444,\"#bd3786\"],[0.5555555555555556,\"#d8576b\"],[0.6666666666666666,\"#ed7953\"],[0.7777777777777778,\"#fb9f3a\"],[0.8888888888888888,\"#fdca26\"],[1.0,\"#f0f921\"]],\"type\":\"heatmapgl\"}],\"histogram\":[{\"marker\":{\"pattern\":{\"fillmode\":\"overlay\",\"size\":10,\"solidity\":0.2}},\"type\":\"histogram\"}],\"histogram2d\":[{\"colorbar\":{\"outlinewidth\":0,\"ticks\":\"\"},\"colorscale\":[[0.0,\"#0d0887\"],[0.1111111111111111,\"#46039f\"],[0.2222222222222222,\"#7201a8\"],[0.3333333333333333,\"#9c179e\"],[0.4444444444444444,\"#bd3786\"],[0.5555555555555556,\"#d8576b\"],[0.6666666666666666,\"#ed7953\"],[0.7777777777777778,\"#fb9f3a\"],[0.8888888888888888,\"#fdca26\"],[1.0,\"#f0f921\"]],\"type\":\"histogram2d\"}],\"histogram2dcontour\":[{\"colorbar\":{\"outlinewidth\":0,\"ticks\":\"\"},\"colorscale\":[[0.0,\"#0d0887\"],[0.1111111111111111,\"#46039f\"],[0.2222222222222222,\"#7201a8\"],[0.3333333333333333,\"#9c179e\"],[0.4444444444444444,\"#bd3786\"],[0.5555555555555556,\"#d8576b\"],[0.6666666666666666,\"#ed7953\"],[0.7777777777777778,\"#fb9f3a\"],[0.8888888888888888,\"#fdca26\"],[1.0,\"#f0f921\"]],\"type\":\"histogram2dcontour\"}],\"mesh3d\":[{\"colorbar\":{\"outlinewidth\":0,\"ticks\":\"\"},\"type\":\"mesh3d\"}],\"parcoords\":[{\"line\":{\"colorbar\":{\"outlinewidth\":0,\"ticks\":\"\"}},\"type\":\"parcoords\"}],\"pie\":[{\"automargin\":true,\"type\":\"pie\"}],\"scatter\":[{\"marker\":{\"colorbar\":{\"outlinewidth\":0,\"ticks\":\"\"}},\"type\":\"scatter\"}],\"scatter3d\":[{\"line\":{\"colorbar\":{\"outlinewidth\":0,\"ticks\":\"\"}},\"marker\":{\"colorbar\":{\"outlinewidth\":0,\"ticks\":\"\"}},\"type\":\"scatter3d\"}],\"scattercarpet\":[{\"marker\":{\"colorbar\":{\"outlinewidth\":0,\"ticks\":\"\"}},\"type\":\"scattercarpet\"}],\"scattergeo\":[{\"marker\":{\"colorbar\":{\"outlinewidth\":0,\"ticks\":\"\"}},\"type\":\"scattergeo\"}],\"scattergl\":[{\"marker\":{\"colorbar\":{\"outlinewidth\":0,\"ticks\":\"\"}},\"type\":\"scattergl\"}],\"scattermapbox\":[{\"marker\":{\"colorbar\":{\"outlinewidth\":0,\"ticks\":\"\"}},\"type\":\"scattermapbox\"}],\"scatterpolar\":[{\"marker\":{\"colorbar\":{\"outlinewidth\":0,\"ticks\":\"\"}},\"type\":\"scatterpolar\"}],\"scatterpolargl\":[{\"marker\":{\"colorbar\":{\"outlinewidth\":0,\"ticks\":\"\"}},\"type\":\"scatterpolargl\"}],\"scatterternary\":[{\"marker\":{\"colorbar\":{\"outlinewidth\":0,\"ticks\":\"\"}},\"type\":\"scatterternary\"}],\"surface\":[{\"colorbar\":{\"outlinewidth\":0,\"ticks\":\"\"},\"colorscale\":[[0.0,\"#0d0887\"],[0.1111111111111111,\"#46039f\"],[0.2222222222222222,\"#7201a8\"],[0.3333333333333333,\"#9c179e\"],[0.4444444444444444,\"#bd3786\"],[0.5555555555555556,\"#d8576b\"],[0.6666666666666666,\"#ed7953\"],[0.7777777777777778,\"#fb9f3a\"],[0.8888888888888888,\"#fdca26\"],[1.0,\"#f0f921\"]],\"type\":\"surface\"}],\"table\":[{\"cells\":{\"fill\":{\"color\":\"#EBF0F8\"},\"line\":{\"color\":\"white\"}},\"header\":{\"fill\":{\"color\":\"#C8D4E3\"},\"line\":{\"color\":\"white\"}},\"type\":\"table\"}]},\"layout\":{\"annotationdefaults\":{\"arrowcolor\":\"#2a3f5f\",\"arrowhead\":0,\"arrowwidth\":1},\"autotypenumbers\":\"strict\",\"coloraxis\":{\"colorbar\":{\"outlinewidth\":0,\"ticks\":\"\"}},\"colorscale\":{\"diverging\":[[0,\"#8e0152\"],[0.1,\"#c51b7d\"],[0.2,\"#de77ae\"],[0.3,\"#f1b6da\"],[0.4,\"#fde0ef\"],[0.5,\"#f7f7f7\"],[0.6,\"#e6f5d0\"],[0.7,\"#b8e186\"],[0.8,\"#7fbc41\"],[0.9,\"#4d9221\"],[1,\"#276419\"]],\"sequential\":[[0.0,\"#0d0887\"],[0.1111111111111111,\"#46039f\"],[0.2222222222222222,\"#7201a8\"],[0.3333333333333333,\"#9c179e\"],[0.4444444444444444,\"#bd3786\"],[0.5555555555555556,\"#d8576b\"],[0.6666666666666666,\"#ed7953\"],[0.7777777777777778,\"#fb9f3a\"],[0.8888888888888888,\"#fdca26\"],[1.0,\"#f0f921\"]],\"sequentialminus\":[[0.0,\"#0d0887\"],[0.1111111111111111,\"#46039f\"],[0.2222222222222222,\"#7201a8\"],[0.3333333333333333,\"#9c179e\"],[0.4444444444444444,\"#bd3786\"],[0.5555555555555556,\"#d8576b\"],[0.6666666666666666,\"#ed7953\"],[0.7777777777777778,\"#fb9f3a\"],[0.8888888888888888,\"#fdca26\"],[1.0,\"#f0f921\"]]},\"colorway\":[\"#636efa\",\"#EF553B\",\"#00cc96\",\"#ab63fa\",\"#FFA15A\",\"#19d3f3\",\"#FF6692\",\"#B6E880\",\"#FF97FF\",\"#FECB52\"],\"font\":{\"color\":\"#2a3f5f\"},\"geo\":{\"bgcolor\":\"white\",\"lakecolor\":\"white\",\"landcolor\":\"#E5ECF6\",\"showlakes\":true,\"showland\":true,\"subunitcolor\":\"white\"},\"hoverlabel\":{\"align\":\"left\"},\"hovermode\":\"closest\",\"mapbox\":{\"style\":\"light\"},\"paper_bgcolor\":\"white\",\"plot_bgcolor\":\"#E5ECF6\",\"polar\":{\"angularaxis\":{\"gridcolor\":\"white\",\"linecolor\":\"white\",\"ticks\":\"\"},\"bgcolor\":\"#E5ECF6\",\"radialaxis\":{\"gridcolor\":\"white\",\"linecolor\":\"white\",\"ticks\":\"\"}},\"scene\":{\"xaxis\":{\"backgroundcolor\":\"#E5ECF6\",\"gridcolor\":\"white\",\"gridwidth\":2,\"linecolor\":\"white\",\"showbackground\":true,\"ticks\":\"\",\"zerolinecolor\":\"white\"},\"yaxis\":{\"backgroundcolor\":\"#E5ECF6\",\"gridcolor\":\"white\",\"gridwidth\":2,\"linecolor\":\"white\",\"showbackground\":true,\"ticks\":\"\",\"zerolinecolor\":\"white\"},\"zaxis\":{\"backgroundcolor\":\"#E5ECF6\",\"gridcolor\":\"white\",\"gridwidth\":2,\"linecolor\":\"white\",\"showbackground\":true,\"ticks\":\"\",\"zerolinecolor\":\"white\"}},\"shapedefaults\":{\"line\":{\"color\":\"#2a3f5f\"}},\"ternary\":{\"aaxis\":{\"gridcolor\":\"white\",\"linecolor\":\"white\",\"ticks\":\"\"},\"baxis\":{\"gridcolor\":\"white\",\"linecolor\":\"white\",\"ticks\":\"\"},\"bgcolor\":\"#E5ECF6\",\"caxis\":{\"gridcolor\":\"white\",\"linecolor\":\"white\",\"ticks\":\"\"}},\"title\":{\"x\":0.05},\"xaxis\":{\"automargin\":true,\"gridcolor\":\"white\",\"linecolor\":\"white\",\"ticks\":\"\",\"title\":{\"standoff\":15},\"zerolinecolor\":\"white\",\"zerolinewidth\":2},\"yaxis\":{\"automargin\":true,\"gridcolor\":\"white\",\"linecolor\":\"white\",\"ticks\":\"\",\"title\":{\"standoff\":15},\"zerolinecolor\":\"white\",\"zerolinewidth\":2}}},\"yaxis\":{\"title\":{\"text\":\"root volume\"}},\"boxmode\":\"group\"},                        {\"responsive\": true}                    ).then(function(){\n",
              "                            \n",
              "var gd = document.getElementById('89696186-89c8-47e5-b2dd-2db6f12c09aa');\n",
              "var x = new MutationObserver(function (mutations, observer) {{\n",
              "        var display = window.getComputedStyle(gd).display;\n",
              "        if (!display || display === 'none') {{\n",
              "            console.log([gd, 'removed!']);\n",
              "            Plotly.purge(gd);\n",
              "            observer.disconnect();\n",
              "        }}\n",
              "}});\n",
              "\n",
              "// Listen for the removal of the full notebook cells\n",
              "var notebookContainer = gd.closest('#notebook-container');\n",
              "if (notebookContainer) {{\n",
              "    x.observe(notebookContainer, {childList: true});\n",
              "}}\n",
              "\n",
              "// Listen for the clearing of the current output cell\n",
              "var outputEl = gd.closest('.output');\n",
              "if (outputEl) {{\n",
              "    x.observe(outputEl, {childList: true});\n",
              "}}\n",
              "\n",
              "                        })                };                            </script>        </div>\n",
              "</body>\n",
              "</html>"
            ]
          },
          "metadata": {}
        }
      ]
    },
    {
      "cell_type": "code",
      "source": [
        "fig = go.Figure()\n",
        "\n",
        "fig.add_trace(go.Box(\n",
        "    y=ws_vol['volume'],\n",
        "    x=ws_vol['Spaceflight Treatment'],\n",
        "    name='WS',\n",
        "))\n",
        "fig.add_trace(go.Box(\n",
        "    y=phyd_vol['volume'],\n",
        "    x=phyd_vol['Spaceflight Treatment'],\n",
        "    name='PhyD',\n",
        "))\n",
        "fig.add_trace(go.Box(\n",
        "    y=col_vol['volume'],\n",
        "    x=col_vol['Spaceflight Treatment'],\n",
        "    name='Col',\n",
        "))\n",
        "\n",
        "\n",
        "fig.update_layout(\n",
        "    yaxis_title='root volume',\n",
        "    boxmode='group' # group together boxes of the different traces for each value of x\n",
        ")\n",
        "fig.show()\n"
      ],
      "metadata": {
        "colab": {
          "base_uri": "https://localhost:8080/",
          "height": 0
        },
        "id": "Ghox4LwjjGSZ",
        "outputId": "0672d5d4-3a7f-43e1-99f3-34c2ecabeaae"
      },
      "execution_count": 39,
      "outputs": [
        {
          "output_type": "display_data",
          "data": {
            "text/html": [
              "<html>\n",
              "<head><meta charset=\"utf-8\" /></head>\n",
              "<body>\n",
              "    <div>            <script src=\"https://cdnjs.cloudflare.com/ajax/libs/mathjax/2.7.5/MathJax.js?config=TeX-AMS-MML_SVG\"></script><script type=\"text/javascript\">if (window.MathJax) {MathJax.Hub.Config({SVG: {font: \"STIX-Web\"}});}</script>                <script type=\"text/javascript\">window.PlotlyConfig = {MathJaxConfig: 'local'};</script>\n",
              "        <script src=\"https://cdn.plot.ly/plotly-2.8.3.min.js\"></script>                <div id=\"34147b8e-4e75-4fb8-ac4b-135202696623\" class=\"plotly-graph-div\" style=\"height:525px; width:100%;\"></div>            <script type=\"text/javascript\">                                    window.PLOTLYENV=window.PLOTLYENV || {};                                    if (document.getElementById(\"34147b8e-4e75-4fb8-ac4b-135202696623\")) {                    Plotly.newPlot(                        \"34147b8e-4e75-4fb8-ac4b-135202696623\",                        [{\"name\":\"WS\",\"x\":[\"Fl\",\"Fl\",\"Fl\",\"Fl\",\"Fl\",\"Fl\",\"Fl\",\"Fl\",\"Fl\",\"Fl\",\"Fl\",\"Fl\",\"Fl\",\"Fl\",\"Fl\",\"Fl\",\"Fl\",\"Fl\",\"Fl\",\"Fl\",\"Fl\",\"Fl\",\"Fl\",\"Fl\",\"Fl\",\"Fl\",\"Fl\",\"Fl\",\"Fl\",\"Fl\",\"Fl\",\"Gr\",\"Gr\",\"Gr\",\"Gr\",\"Gr\",\"Gr\",\"Gr\",\"Gr\",\"Gr\",\"Gr\",\"Gr\",\"Gr\",\"Gr\",\"Gr\",\"Gr\",\"Gr\",\"Gr\",\"Gr\",\"Gr\",\"Gr\",\"Gr\",\"Gr\",\"Gr\",\"Gr\",\"Gr\",\"Gr\",\"Gr\",\"Gr\",\"Gr\"],\"y\":[0.007,0.006,0.008,0.007,0.009,0.004,0.006,0.003,0.005,0.009,0.005,0.004,0.009,0.006,0.003,0.006,0.004,0.009,0.007,0.012,0.007,0.004,0.004,0.003,0.003,0.007,0.007,0.008,0.011,0.012,0.007,0.006,0.006,0.006,0.005,0.005,0.009,0.008,0.011,0.011,0.011,0.006,0.006,0.011,0.012,0.007,0.011,0.009,0.011,0.006,0.008,0.008,0.009,0.006,0.009,0.007,0.007,0.005,0.005,0.007],\"type\":\"box\"},{\"name\":\"PhyD\",\"x\":[\"Fl\",\"Fl\",\"Fl\",\"Fl\",\"Fl\",\"Fl\",\"Fl\",\"Fl\",\"Fl\",\"Fl\",\"Fl\",\"Fl\",\"Fl\",\"Fl\",\"Fl\",\"Fl\",\"Fl\",\"Fl\",\"Fl\",\"Fl\",\"Fl\",\"Fl\",\"Fl\",\"Fl\",\"Fl\",\"Fl\",\"Fl\",\"Fl\",\"Fl\",\"Fl\",\"Fl\",\"Gr\",\"Gr\",\"Gr\",\"Gr\",\"Gr\",\"Gr\",\"Gr\",\"Gr\",\"Gr\",\"Gr\",\"Gr\",\"Gr\",\"Gr\",\"Gr\",\"Gr\",\"Gr\",\"Gr\",\"Gr\",\"Gr\",\"Gr\",\"Gr\",\"Gr\",\"Gr\",\"Gr\",\"Gr\",\"Gr\",\"Gr\",\"Gr\",\"Gr\",\"Gr\"],\"y\":[0.013,0.009,0.006,0.006,0.009,0.004,0.006,0.004,0.004,0.007,0.006,0.003,0.004,0.005,0.004,0.005,0.019,0.015,0.016,0.013,0.016,0.011,0.006,0.023,0.006,0.021,0.016,0.015,0.009,0.007,0.005,0.012,0.013,0.008,0.018,0.01,0.009,0.034,0.006,0.006,0.009,0.009,0.017,0.007,0.012,0.007,0.012,0.012,0.007,0.005,0.014,0.007,0.008,0.008,0.007,0.005,0.007,0.011,0.008,0.008,0.015],\"type\":\"box\"},{\"name\":\"Col\",\"x\":[\"Fl\",\"Fl\",\"Fl\",\"Fl\",\"Fl\",\"Fl\",\"Fl\",\"Fl\",\"Fl\",\"Fl\",\"Fl\",\"Fl\",\"Fl\",\"Fl\",\"Fl\",\"Fl\",\"Fl\",\"Fl\",\"Fl\",\"Fl\",\"Fl\",\"Fl\",\"Fl\",\"Fl\",\"Fl\",\"Fl\",\"Fl\",\"Fl\",\"Fl\",\"Fl\",\"Fl\",\"Fl\",\"Fl\",\"Gr\",\"Gr\",\"Gr\",\"Gr\",\"Gr\",\"Gr\",\"Gr\",\"Gr\",\"Gr\",\"Gr\",\"Gr\",\"Gr\",\"Gr\",\"Gr\",\"Gr\",\"Gr\",\"Gr\",\"Gr\",\"Gr\",\"Gr\",\"Gr\",\"Gr\",\"Gr\",\"Gr\",\"Gr\",\"Gr\",\"Gr\",\"Gr\",\"Gr\"],\"y\":[0.005,0.004,0.011,0.008,0.008,0.004,0.007,0.004,0.006,0.005,0.003,0.011,0.01,0.011,0.005,0.006,0.014,0.009,0.004,0.005,0.009,0.014,0.006,0.003,0.008,0.004,0.004,0.006,0.008,0.003,0.003,0.003,0.003,0.023,0.03,0.006,0.004,0.02,0.008,0.005,0.009,0.011,0.008,0.006,0.01,0.012,0.018,0.008,0.006,0.009,0.01,0.009,0.006,0.008,0.005,0.004,0.006,0.007,0.007,0.008,0.007,0.006],\"type\":\"box\"}],                        {\"template\":{\"data\":{\"bar\":[{\"error_x\":{\"color\":\"#2a3f5f\"},\"error_y\":{\"color\":\"#2a3f5f\"},\"marker\":{\"line\":{\"color\":\"#E5ECF6\",\"width\":0.5},\"pattern\":{\"fillmode\":\"overlay\",\"size\":10,\"solidity\":0.2}},\"type\":\"bar\"}],\"barpolar\":[{\"marker\":{\"line\":{\"color\":\"#E5ECF6\",\"width\":0.5},\"pattern\":{\"fillmode\":\"overlay\",\"size\":10,\"solidity\":0.2}},\"type\":\"barpolar\"}],\"carpet\":[{\"aaxis\":{\"endlinecolor\":\"#2a3f5f\",\"gridcolor\":\"white\",\"linecolor\":\"white\",\"minorgridcolor\":\"white\",\"startlinecolor\":\"#2a3f5f\"},\"baxis\":{\"endlinecolor\":\"#2a3f5f\",\"gridcolor\":\"white\",\"linecolor\":\"white\",\"minorgridcolor\":\"white\",\"startlinecolor\":\"#2a3f5f\"},\"type\":\"carpet\"}],\"choropleth\":[{\"colorbar\":{\"outlinewidth\":0,\"ticks\":\"\"},\"type\":\"choropleth\"}],\"contour\":[{\"colorbar\":{\"outlinewidth\":0,\"ticks\":\"\"},\"colorscale\":[[0.0,\"#0d0887\"],[0.1111111111111111,\"#46039f\"],[0.2222222222222222,\"#7201a8\"],[0.3333333333333333,\"#9c179e\"],[0.4444444444444444,\"#bd3786\"],[0.5555555555555556,\"#d8576b\"],[0.6666666666666666,\"#ed7953\"],[0.7777777777777778,\"#fb9f3a\"],[0.8888888888888888,\"#fdca26\"],[1.0,\"#f0f921\"]],\"type\":\"contour\"}],\"contourcarpet\":[{\"colorbar\":{\"outlinewidth\":0,\"ticks\":\"\"},\"type\":\"contourcarpet\"}],\"heatmap\":[{\"colorbar\":{\"outlinewidth\":0,\"ticks\":\"\"},\"colorscale\":[[0.0,\"#0d0887\"],[0.1111111111111111,\"#46039f\"],[0.2222222222222222,\"#7201a8\"],[0.3333333333333333,\"#9c179e\"],[0.4444444444444444,\"#bd3786\"],[0.5555555555555556,\"#d8576b\"],[0.6666666666666666,\"#ed7953\"],[0.7777777777777778,\"#fb9f3a\"],[0.8888888888888888,\"#fdca26\"],[1.0,\"#f0f921\"]],\"type\":\"heatmap\"}],\"heatmapgl\":[{\"colorbar\":{\"outlinewidth\":0,\"ticks\":\"\"},\"colorscale\":[[0.0,\"#0d0887\"],[0.1111111111111111,\"#46039f\"],[0.2222222222222222,\"#7201a8\"],[0.3333333333333333,\"#9c179e\"],[0.4444444444444444,\"#bd3786\"],[0.5555555555555556,\"#d8576b\"],[0.6666666666666666,\"#ed7953\"],[0.7777777777777778,\"#fb9f3a\"],[0.8888888888888888,\"#fdca26\"],[1.0,\"#f0f921\"]],\"type\":\"heatmapgl\"}],\"histogram\":[{\"marker\":{\"pattern\":{\"fillmode\":\"overlay\",\"size\":10,\"solidity\":0.2}},\"type\":\"histogram\"}],\"histogram2d\":[{\"colorbar\":{\"outlinewidth\":0,\"ticks\":\"\"},\"colorscale\":[[0.0,\"#0d0887\"],[0.1111111111111111,\"#46039f\"],[0.2222222222222222,\"#7201a8\"],[0.3333333333333333,\"#9c179e\"],[0.4444444444444444,\"#bd3786\"],[0.5555555555555556,\"#d8576b\"],[0.6666666666666666,\"#ed7953\"],[0.7777777777777778,\"#fb9f3a\"],[0.8888888888888888,\"#fdca26\"],[1.0,\"#f0f921\"]],\"type\":\"histogram2d\"}],\"histogram2dcontour\":[{\"colorbar\":{\"outlinewidth\":0,\"ticks\":\"\"},\"colorscale\":[[0.0,\"#0d0887\"],[0.1111111111111111,\"#46039f\"],[0.2222222222222222,\"#7201a8\"],[0.3333333333333333,\"#9c179e\"],[0.4444444444444444,\"#bd3786\"],[0.5555555555555556,\"#d8576b\"],[0.6666666666666666,\"#ed7953\"],[0.7777777777777778,\"#fb9f3a\"],[0.8888888888888888,\"#fdca26\"],[1.0,\"#f0f921\"]],\"type\":\"histogram2dcontour\"}],\"mesh3d\":[{\"colorbar\":{\"outlinewidth\":0,\"ticks\":\"\"},\"type\":\"mesh3d\"}],\"parcoords\":[{\"line\":{\"colorbar\":{\"outlinewidth\":0,\"ticks\":\"\"}},\"type\":\"parcoords\"}],\"pie\":[{\"automargin\":true,\"type\":\"pie\"}],\"scatter\":[{\"marker\":{\"colorbar\":{\"outlinewidth\":0,\"ticks\":\"\"}},\"type\":\"scatter\"}],\"scatter3d\":[{\"line\":{\"colorbar\":{\"outlinewidth\":0,\"ticks\":\"\"}},\"marker\":{\"colorbar\":{\"outlinewidth\":0,\"ticks\":\"\"}},\"type\":\"scatter3d\"}],\"scattercarpet\":[{\"marker\":{\"colorbar\":{\"outlinewidth\":0,\"ticks\":\"\"}},\"type\":\"scattercarpet\"}],\"scattergeo\":[{\"marker\":{\"colorbar\":{\"outlinewidth\":0,\"ticks\":\"\"}},\"type\":\"scattergeo\"}],\"scattergl\":[{\"marker\":{\"colorbar\":{\"outlinewidth\":0,\"ticks\":\"\"}},\"type\":\"scattergl\"}],\"scattermapbox\":[{\"marker\":{\"colorbar\":{\"outlinewidth\":0,\"ticks\":\"\"}},\"type\":\"scattermapbox\"}],\"scatterpolar\":[{\"marker\":{\"colorbar\":{\"outlinewidth\":0,\"ticks\":\"\"}},\"type\":\"scatterpolar\"}],\"scatterpolargl\":[{\"marker\":{\"colorbar\":{\"outlinewidth\":0,\"ticks\":\"\"}},\"type\":\"scatterpolargl\"}],\"scatterternary\":[{\"marker\":{\"colorbar\":{\"outlinewidth\":0,\"ticks\":\"\"}},\"type\":\"scatterternary\"}],\"surface\":[{\"colorbar\":{\"outlinewidth\":0,\"ticks\":\"\"},\"colorscale\":[[0.0,\"#0d0887\"],[0.1111111111111111,\"#46039f\"],[0.2222222222222222,\"#7201a8\"],[0.3333333333333333,\"#9c179e\"],[0.4444444444444444,\"#bd3786\"],[0.5555555555555556,\"#d8576b\"],[0.6666666666666666,\"#ed7953\"],[0.7777777777777778,\"#fb9f3a\"],[0.8888888888888888,\"#fdca26\"],[1.0,\"#f0f921\"]],\"type\":\"surface\"}],\"table\":[{\"cells\":{\"fill\":{\"color\":\"#EBF0F8\"},\"line\":{\"color\":\"white\"}},\"header\":{\"fill\":{\"color\":\"#C8D4E3\"},\"line\":{\"color\":\"white\"}},\"type\":\"table\"}]},\"layout\":{\"annotationdefaults\":{\"arrowcolor\":\"#2a3f5f\",\"arrowhead\":0,\"arrowwidth\":1},\"autotypenumbers\":\"strict\",\"coloraxis\":{\"colorbar\":{\"outlinewidth\":0,\"ticks\":\"\"}},\"colorscale\":{\"diverging\":[[0,\"#8e0152\"],[0.1,\"#c51b7d\"],[0.2,\"#de77ae\"],[0.3,\"#f1b6da\"],[0.4,\"#fde0ef\"],[0.5,\"#f7f7f7\"],[0.6,\"#e6f5d0\"],[0.7,\"#b8e186\"],[0.8,\"#7fbc41\"],[0.9,\"#4d9221\"],[1,\"#276419\"]],\"sequential\":[[0.0,\"#0d0887\"],[0.1111111111111111,\"#46039f\"],[0.2222222222222222,\"#7201a8\"],[0.3333333333333333,\"#9c179e\"],[0.4444444444444444,\"#bd3786\"],[0.5555555555555556,\"#d8576b\"],[0.6666666666666666,\"#ed7953\"],[0.7777777777777778,\"#fb9f3a\"],[0.8888888888888888,\"#fdca26\"],[1.0,\"#f0f921\"]],\"sequentialminus\":[[0.0,\"#0d0887\"],[0.1111111111111111,\"#46039f\"],[0.2222222222222222,\"#7201a8\"],[0.3333333333333333,\"#9c179e\"],[0.4444444444444444,\"#bd3786\"],[0.5555555555555556,\"#d8576b\"],[0.6666666666666666,\"#ed7953\"],[0.7777777777777778,\"#fb9f3a\"],[0.8888888888888888,\"#fdca26\"],[1.0,\"#f0f921\"]]},\"colorway\":[\"#636efa\",\"#EF553B\",\"#00cc96\",\"#ab63fa\",\"#FFA15A\",\"#19d3f3\",\"#FF6692\",\"#B6E880\",\"#FF97FF\",\"#FECB52\"],\"font\":{\"color\":\"#2a3f5f\"},\"geo\":{\"bgcolor\":\"white\",\"lakecolor\":\"white\",\"landcolor\":\"#E5ECF6\",\"showlakes\":true,\"showland\":true,\"subunitcolor\":\"white\"},\"hoverlabel\":{\"align\":\"left\"},\"hovermode\":\"closest\",\"mapbox\":{\"style\":\"light\"},\"paper_bgcolor\":\"white\",\"plot_bgcolor\":\"#E5ECF6\",\"polar\":{\"angularaxis\":{\"gridcolor\":\"white\",\"linecolor\":\"white\",\"ticks\":\"\"},\"bgcolor\":\"#E5ECF6\",\"radialaxis\":{\"gridcolor\":\"white\",\"linecolor\":\"white\",\"ticks\":\"\"}},\"scene\":{\"xaxis\":{\"backgroundcolor\":\"#E5ECF6\",\"gridcolor\":\"white\",\"gridwidth\":2,\"linecolor\":\"white\",\"showbackground\":true,\"ticks\":\"\",\"zerolinecolor\":\"white\"},\"yaxis\":{\"backgroundcolor\":\"#E5ECF6\",\"gridcolor\":\"white\",\"gridwidth\":2,\"linecolor\":\"white\",\"showbackground\":true,\"ticks\":\"\",\"zerolinecolor\":\"white\"},\"zaxis\":{\"backgroundcolor\":\"#E5ECF6\",\"gridcolor\":\"white\",\"gridwidth\":2,\"linecolor\":\"white\",\"showbackground\":true,\"ticks\":\"\",\"zerolinecolor\":\"white\"}},\"shapedefaults\":{\"line\":{\"color\":\"#2a3f5f\"}},\"ternary\":{\"aaxis\":{\"gridcolor\":\"white\",\"linecolor\":\"white\",\"ticks\":\"\"},\"baxis\":{\"gridcolor\":\"white\",\"linecolor\":\"white\",\"ticks\":\"\"},\"bgcolor\":\"#E5ECF6\",\"caxis\":{\"gridcolor\":\"white\",\"linecolor\":\"white\",\"ticks\":\"\"}},\"title\":{\"x\":0.05},\"xaxis\":{\"automargin\":true,\"gridcolor\":\"white\",\"linecolor\":\"white\",\"ticks\":\"\",\"title\":{\"standoff\":15},\"zerolinecolor\":\"white\",\"zerolinewidth\":2},\"yaxis\":{\"automargin\":true,\"gridcolor\":\"white\",\"linecolor\":\"white\",\"ticks\":\"\",\"title\":{\"standoff\":15},\"zerolinecolor\":\"white\",\"zerolinewidth\":2}}},\"yaxis\":{\"title\":{\"text\":\"root volume\"}},\"boxmode\":\"group\"},                        {\"responsive\": true}                    ).then(function(){\n",
              "                            \n",
              "var gd = document.getElementById('34147b8e-4e75-4fb8-ac4b-135202696623');\n",
              "var x = new MutationObserver(function (mutations, observer) {{\n",
              "        var display = window.getComputedStyle(gd).display;\n",
              "        if (!display || display === 'none') {{\n",
              "            console.log([gd, 'removed!']);\n",
              "            Plotly.purge(gd);\n",
              "            observer.disconnect();\n",
              "        }}\n",
              "}});\n",
              "\n",
              "// Listen for the removal of the full notebook cells\n",
              "var notebookContainer = gd.closest('#notebook-container');\n",
              "if (notebookContainer) {{\n",
              "    x.observe(notebookContainer, {childList: true});\n",
              "}}\n",
              "\n",
              "// Listen for the clearing of the current output cell\n",
              "var outputEl = gd.closest('.output');\n",
              "if (outputEl) {{\n",
              "    x.observe(outputEl, {childList: true});\n",
              "}}\n",
              "\n",
              "                        })                };                            </script>        </div>\n",
              "</body>\n",
              "</html>"
            ]
          },
          "metadata": {}
        }
      ]
    },
    {
      "cell_type": "markdown",
      "source": [
        "### Root Diameter"
      ],
      "metadata": {
        "id": "VIntvkl8iw85"
      }
    },
    {
      "cell_type": "code",
      "source": [
        "# Summary Statistics by the Gravitational environment\n",
        "fig = px.box(root_11, x=\"Ecotype/Genotype\", y=\"diameter\", color=\"Spaceflight Treatment\")\n",
        "fig.update_traces(quartilemethod=\"exclusive\") # or \"inclusive\", or \"linear\" by default\n",
        "fig.show()"
      ],
      "metadata": {
        "colab": {
          "base_uri": "https://localhost:8080/",
          "height": 542
        },
        "id": "lx8Q3nEci0k0",
        "outputId": "e90c1e31-85bc-48b1-b53b-d750d882b8f0"
      },
      "execution_count": 40,
      "outputs": [
        {
          "output_type": "display_data",
          "data": {
            "text/html": [
              "<html>\n",
              "<head><meta charset=\"utf-8\" /></head>\n",
              "<body>\n",
              "    <div>            <script src=\"https://cdnjs.cloudflare.com/ajax/libs/mathjax/2.7.5/MathJax.js?config=TeX-AMS-MML_SVG\"></script><script type=\"text/javascript\">if (window.MathJax) {MathJax.Hub.Config({SVG: {font: \"STIX-Web\"}});}</script>                <script type=\"text/javascript\">window.PlotlyConfig = {MathJaxConfig: 'local'};</script>\n",
              "        <script src=\"https://cdn.plot.ly/plotly-2.8.3.min.js\"></script>                <div id=\"5dfdf7c3-ddb2-42e8-ac23-1c4244c84055\" class=\"plotly-graph-div\" style=\"height:525px; width:100%;\"></div>            <script type=\"text/javascript\">                                    window.PLOTLYENV=window.PLOTLYENV || {};                                    if (document.getElementById(\"5dfdf7c3-ddb2-42e8-ac23-1c4244c84055\")) {                    Plotly.newPlot(                        \"5dfdf7c3-ddb2-42e8-ac23-1c4244c84055\",                        [{\"alignmentgroup\":\"True\",\"hovertemplate\":\"Spaceflight Treatment=Fl<br>Ecotype/Genotype=%{x}<br>diameter=%{y}<extra></extra>\",\"legendgroup\":\"Fl\",\"marker\":{\"color\":\"#636efa\"},\"name\":\"Fl\",\"notched\":false,\"offsetgroup\":\"Fl\",\"orientation\":\"v\",\"showlegend\":true,\"x\":[\"WS\",\"WS\",\"WS\",\"WS\",\"WS\",\"Col\",\"Col\",\"Col\",\"Col\",\"Col\",\"PhyD\",\"PhyD\",\"PhyD\",\"PhyD\",\"PhyD\",\"WS\",\"WS\",\"WS\",\"WS\",\"WS\",\"Col\",\"Col\",\"Col\",\"Col\",\"Col\",\"PhyD\",\"PhyD\",\"PhyD\",\"PhyD\",\"PhyD\",\"WS\",\"WS\",\"WS\",\"WS\",\"WS\",\"WS\",\"Col\",\"Col\",\"Col\",\"Col\",\"Col\",\"Col\",\"PhyD\",\"PhyD\",\"PhyD\",\"PhyD\",\"PhyD\",\"PhyD\",\"WS\",\"WS\",\"WS\",\"WS\",\"WS\",\"Col\",\"Col\",\"Col\",\"Col\",\"Col\",\"Col\",\"PhyD\",\"PhyD\",\"PhyD\",\"PhyD\",\"PhyD\",\"WS\",\"WS\",\"WS\",\"WS\",\"WS\",\"Col\",\"Col\",\"Col\",\"Col\",\"Col\",\"Col\",\"PhyD\",\"PhyD\",\"PhyD\",\"PhyD\",\"PhyD\",\"WS\",\"WS\",\"WS\",\"WS\",\"WS\",\"Col\",\"Col\",\"Col\",\"Col\",\"Col\",\"PhyD\",\"PhyD\",\"PhyD\",\"PhyD\",\"PhyD\"],\"x0\":\" \",\"xaxis\":\"x\",\"y\":[0.051,0.049,0.044,0.047,0.058,0.045,0.045,0.063,0.043,0.064,0.062,0.062,0.047,0.05,0.05,0.036,0.042,0.041,0.055,0.051,0.036,0.054,0.04,0.048,0.035,0.049,0.064,0.046,0.048,0.051,0.036,0.042,0.056,0.051,0.044,0.047,0.038,0.053,0.069,0.056,0.041,0.049,0.04,0.035,0.047,0.037,0.041,0.042,0.037,0.046,0.048,0.048,0.055,0.069,0.068,0.044,0.046,0.06,0.068,0.077,0.073,0.082,0.071,0.079,0.041,0.038,0.036,0.036,0.049,0.054,0.044,0.051,0.044,0.046,0.05,0.068,0.054,0.072,0.046,0.076,0.047,0.05,0.067,0.066,0.048,0.06,0.055,0.048,0.045,0.055,0.062,0.08,0.057,0.051,0.045],\"y0\":\" \",\"yaxis\":\"y\",\"type\":\"box\",\"quartilemethod\":\"exclusive\"},{\"alignmentgroup\":\"True\",\"hovertemplate\":\"Spaceflight Treatment=Gr<br>Ecotype/Genotype=%{x}<br>diameter=%{y}<extra></extra>\",\"legendgroup\":\"Gr\",\"marker\":{\"color\":\"#EF553B\"},\"name\":\"Gr\",\"notched\":false,\"offsetgroup\":\"Gr\",\"orientation\":\"v\",\"showlegend\":true,\"x\":[\"Col\",\"Col\",\"Col\",\"Col\",\"Col\",\"Col\",\"PhyD\",\"PhyD\",\"PhyD\",\"PhyD\",\"PhyD\",\"PhyD\",\"WS\",\"WS\",\"WS\",\"WS\",\"WS\",\"WS\",\"Col\",\"Col\",\"Col\",\"Col\",\"Col\",\"Col\",\"PhyD\",\"PhyD\",\"PhyD\",\"PhyD\",\"PhyD\",\"PhyD\",\"WS\",\"WS\",\"WS\",\"WS\",\"WS\",\"WS\",\"Col\",\"Col\",\"Col\",\"Col\",\"Col\",\"Col\",\"PhyD\",\"PhyD\",\"PhyD\",\"PhyD\",\"PhyD\",\"PhyD\",\"WS\",\"WS\",\"WS\",\"WS\",\"WS\",\"Col\",\"Col\",\"Col\",\"Col\",\"Col\",\"PhyD\",\"PhyD\",\"PhyD\",\"PhyD\",\"PhyD\",\"PhyD\",\"Col\",\"Col\",\"Col\",\"Col\",\"Col\",\"Col\",\"PhyD\",\"PhyD\",\"PhyD\",\"PhyD\",\"PhyD\",\"PhyD\",\"WS\",\"WS\",\"WS\",\"WS\",\"WS\",\"WS\",\"WS\",\"WS\",\"WS\",\"WS\",\"WS\",\"WS\"],\"x0\":\" \",\"xaxis\":\"x\",\"y\":[0.076,0.077,0.047,0.052,0.077,0.051,0.069,0.064,0.06,0.068,0.053,0.052,0.055,0.049,0.047,0.047,0.043,0.054,0.048,0.066,0.058,0.049,0.046,0.055,0.084,0.062,0.05,0.052,0.05,0.058,0.048,0.055,0.06,0.055,0.049,0.049,0.065,0.068,0.049,0.054,0.056,0.054,0.052,0.063,0.054,0.069,0.063,0.053,0.05,0.062,0.049,0.057,0.053,0.054,0.055,0.056,0.046,0.046,0.045,0.055,0.056,0.051,0.054,0.052,0.044,0.051,0.05,0.06,0.047,0.05,0.049,0.051,0.068,0.059,0.055,0.07,0.073,0.049,0.051,0.055,0.053,0.045,0.074,0.057,0.055,0.051,0.05,0.057],\"y0\":\" \",\"yaxis\":\"y\",\"type\":\"box\",\"quartilemethod\":\"exclusive\"}],                        {\"template\":{\"data\":{\"bar\":[{\"error_x\":{\"color\":\"#2a3f5f\"},\"error_y\":{\"color\":\"#2a3f5f\"},\"marker\":{\"line\":{\"color\":\"#E5ECF6\",\"width\":0.5},\"pattern\":{\"fillmode\":\"overlay\",\"size\":10,\"solidity\":0.2}},\"type\":\"bar\"}],\"barpolar\":[{\"marker\":{\"line\":{\"color\":\"#E5ECF6\",\"width\":0.5},\"pattern\":{\"fillmode\":\"overlay\",\"size\":10,\"solidity\":0.2}},\"type\":\"barpolar\"}],\"carpet\":[{\"aaxis\":{\"endlinecolor\":\"#2a3f5f\",\"gridcolor\":\"white\",\"linecolor\":\"white\",\"minorgridcolor\":\"white\",\"startlinecolor\":\"#2a3f5f\"},\"baxis\":{\"endlinecolor\":\"#2a3f5f\",\"gridcolor\":\"white\",\"linecolor\":\"white\",\"minorgridcolor\":\"white\",\"startlinecolor\":\"#2a3f5f\"},\"type\":\"carpet\"}],\"choropleth\":[{\"colorbar\":{\"outlinewidth\":0,\"ticks\":\"\"},\"type\":\"choropleth\"}],\"contour\":[{\"colorbar\":{\"outlinewidth\":0,\"ticks\":\"\"},\"colorscale\":[[0.0,\"#0d0887\"],[0.1111111111111111,\"#46039f\"],[0.2222222222222222,\"#7201a8\"],[0.3333333333333333,\"#9c179e\"],[0.4444444444444444,\"#bd3786\"],[0.5555555555555556,\"#d8576b\"],[0.6666666666666666,\"#ed7953\"],[0.7777777777777778,\"#fb9f3a\"],[0.8888888888888888,\"#fdca26\"],[1.0,\"#f0f921\"]],\"type\":\"contour\"}],\"contourcarpet\":[{\"colorbar\":{\"outlinewidth\":0,\"ticks\":\"\"},\"type\":\"contourcarpet\"}],\"heatmap\":[{\"colorbar\":{\"outlinewidth\":0,\"ticks\":\"\"},\"colorscale\":[[0.0,\"#0d0887\"],[0.1111111111111111,\"#46039f\"],[0.2222222222222222,\"#7201a8\"],[0.3333333333333333,\"#9c179e\"],[0.4444444444444444,\"#bd3786\"],[0.5555555555555556,\"#d8576b\"],[0.6666666666666666,\"#ed7953\"],[0.7777777777777778,\"#fb9f3a\"],[0.8888888888888888,\"#fdca26\"],[1.0,\"#f0f921\"]],\"type\":\"heatmap\"}],\"heatmapgl\":[{\"colorbar\":{\"outlinewidth\":0,\"ticks\":\"\"},\"colorscale\":[[0.0,\"#0d0887\"],[0.1111111111111111,\"#46039f\"],[0.2222222222222222,\"#7201a8\"],[0.3333333333333333,\"#9c179e\"],[0.4444444444444444,\"#bd3786\"],[0.5555555555555556,\"#d8576b\"],[0.6666666666666666,\"#ed7953\"],[0.7777777777777778,\"#fb9f3a\"],[0.8888888888888888,\"#fdca26\"],[1.0,\"#f0f921\"]],\"type\":\"heatmapgl\"}],\"histogram\":[{\"marker\":{\"pattern\":{\"fillmode\":\"overlay\",\"size\":10,\"solidity\":0.2}},\"type\":\"histogram\"}],\"histogram2d\":[{\"colorbar\":{\"outlinewidth\":0,\"ticks\":\"\"},\"colorscale\":[[0.0,\"#0d0887\"],[0.1111111111111111,\"#46039f\"],[0.2222222222222222,\"#7201a8\"],[0.3333333333333333,\"#9c179e\"],[0.4444444444444444,\"#bd3786\"],[0.5555555555555556,\"#d8576b\"],[0.6666666666666666,\"#ed7953\"],[0.7777777777777778,\"#fb9f3a\"],[0.8888888888888888,\"#fdca26\"],[1.0,\"#f0f921\"]],\"type\":\"histogram2d\"}],\"histogram2dcontour\":[{\"colorbar\":{\"outlinewidth\":0,\"ticks\":\"\"},\"colorscale\":[[0.0,\"#0d0887\"],[0.1111111111111111,\"#46039f\"],[0.2222222222222222,\"#7201a8\"],[0.3333333333333333,\"#9c179e\"],[0.4444444444444444,\"#bd3786\"],[0.5555555555555556,\"#d8576b\"],[0.6666666666666666,\"#ed7953\"],[0.7777777777777778,\"#fb9f3a\"],[0.8888888888888888,\"#fdca26\"],[1.0,\"#f0f921\"]],\"type\":\"histogram2dcontour\"}],\"mesh3d\":[{\"colorbar\":{\"outlinewidth\":0,\"ticks\":\"\"},\"type\":\"mesh3d\"}],\"parcoords\":[{\"line\":{\"colorbar\":{\"outlinewidth\":0,\"ticks\":\"\"}},\"type\":\"parcoords\"}],\"pie\":[{\"automargin\":true,\"type\":\"pie\"}],\"scatter\":[{\"marker\":{\"colorbar\":{\"outlinewidth\":0,\"ticks\":\"\"}},\"type\":\"scatter\"}],\"scatter3d\":[{\"line\":{\"colorbar\":{\"outlinewidth\":0,\"ticks\":\"\"}},\"marker\":{\"colorbar\":{\"outlinewidth\":0,\"ticks\":\"\"}},\"type\":\"scatter3d\"}],\"scattercarpet\":[{\"marker\":{\"colorbar\":{\"outlinewidth\":0,\"ticks\":\"\"}},\"type\":\"scattercarpet\"}],\"scattergeo\":[{\"marker\":{\"colorbar\":{\"outlinewidth\":0,\"ticks\":\"\"}},\"type\":\"scattergeo\"}],\"scattergl\":[{\"marker\":{\"colorbar\":{\"outlinewidth\":0,\"ticks\":\"\"}},\"type\":\"scattergl\"}],\"scattermapbox\":[{\"marker\":{\"colorbar\":{\"outlinewidth\":0,\"ticks\":\"\"}},\"type\":\"scattermapbox\"}],\"scatterpolar\":[{\"marker\":{\"colorbar\":{\"outlinewidth\":0,\"ticks\":\"\"}},\"type\":\"scatterpolar\"}],\"scatterpolargl\":[{\"marker\":{\"colorbar\":{\"outlinewidth\":0,\"ticks\":\"\"}},\"type\":\"scatterpolargl\"}],\"scatterternary\":[{\"marker\":{\"colorbar\":{\"outlinewidth\":0,\"ticks\":\"\"}},\"type\":\"scatterternary\"}],\"surface\":[{\"colorbar\":{\"outlinewidth\":0,\"ticks\":\"\"},\"colorscale\":[[0.0,\"#0d0887\"],[0.1111111111111111,\"#46039f\"],[0.2222222222222222,\"#7201a8\"],[0.3333333333333333,\"#9c179e\"],[0.4444444444444444,\"#bd3786\"],[0.5555555555555556,\"#d8576b\"],[0.6666666666666666,\"#ed7953\"],[0.7777777777777778,\"#fb9f3a\"],[0.8888888888888888,\"#fdca26\"],[1.0,\"#f0f921\"]],\"type\":\"surface\"}],\"table\":[{\"cells\":{\"fill\":{\"color\":\"#EBF0F8\"},\"line\":{\"color\":\"white\"}},\"header\":{\"fill\":{\"color\":\"#C8D4E3\"},\"line\":{\"color\":\"white\"}},\"type\":\"table\"}]},\"layout\":{\"annotationdefaults\":{\"arrowcolor\":\"#2a3f5f\",\"arrowhead\":0,\"arrowwidth\":1},\"autotypenumbers\":\"strict\",\"coloraxis\":{\"colorbar\":{\"outlinewidth\":0,\"ticks\":\"\"}},\"colorscale\":{\"diverging\":[[0,\"#8e0152\"],[0.1,\"#c51b7d\"],[0.2,\"#de77ae\"],[0.3,\"#f1b6da\"],[0.4,\"#fde0ef\"],[0.5,\"#f7f7f7\"],[0.6,\"#e6f5d0\"],[0.7,\"#b8e186\"],[0.8,\"#7fbc41\"],[0.9,\"#4d9221\"],[1,\"#276419\"]],\"sequential\":[[0.0,\"#0d0887\"],[0.1111111111111111,\"#46039f\"],[0.2222222222222222,\"#7201a8\"],[0.3333333333333333,\"#9c179e\"],[0.4444444444444444,\"#bd3786\"],[0.5555555555555556,\"#d8576b\"],[0.6666666666666666,\"#ed7953\"],[0.7777777777777778,\"#fb9f3a\"],[0.8888888888888888,\"#fdca26\"],[1.0,\"#f0f921\"]],\"sequentialminus\":[[0.0,\"#0d0887\"],[0.1111111111111111,\"#46039f\"],[0.2222222222222222,\"#7201a8\"],[0.3333333333333333,\"#9c179e\"],[0.4444444444444444,\"#bd3786\"],[0.5555555555555556,\"#d8576b\"],[0.6666666666666666,\"#ed7953\"],[0.7777777777777778,\"#fb9f3a\"],[0.8888888888888888,\"#fdca26\"],[1.0,\"#f0f921\"]]},\"colorway\":[\"#636efa\",\"#EF553B\",\"#00cc96\",\"#ab63fa\",\"#FFA15A\",\"#19d3f3\",\"#FF6692\",\"#B6E880\",\"#FF97FF\",\"#FECB52\"],\"font\":{\"color\":\"#2a3f5f\"},\"geo\":{\"bgcolor\":\"white\",\"lakecolor\":\"white\",\"landcolor\":\"#E5ECF6\",\"showlakes\":true,\"showland\":true,\"subunitcolor\":\"white\"},\"hoverlabel\":{\"align\":\"left\"},\"hovermode\":\"closest\",\"mapbox\":{\"style\":\"light\"},\"paper_bgcolor\":\"white\",\"plot_bgcolor\":\"#E5ECF6\",\"polar\":{\"angularaxis\":{\"gridcolor\":\"white\",\"linecolor\":\"white\",\"ticks\":\"\"},\"bgcolor\":\"#E5ECF6\",\"radialaxis\":{\"gridcolor\":\"white\",\"linecolor\":\"white\",\"ticks\":\"\"}},\"scene\":{\"xaxis\":{\"backgroundcolor\":\"#E5ECF6\",\"gridcolor\":\"white\",\"gridwidth\":2,\"linecolor\":\"white\",\"showbackground\":true,\"ticks\":\"\",\"zerolinecolor\":\"white\"},\"yaxis\":{\"backgroundcolor\":\"#E5ECF6\",\"gridcolor\":\"white\",\"gridwidth\":2,\"linecolor\":\"white\",\"showbackground\":true,\"ticks\":\"\",\"zerolinecolor\":\"white\"},\"zaxis\":{\"backgroundcolor\":\"#E5ECF6\",\"gridcolor\":\"white\",\"gridwidth\":2,\"linecolor\":\"white\",\"showbackground\":true,\"ticks\":\"\",\"zerolinecolor\":\"white\"}},\"shapedefaults\":{\"line\":{\"color\":\"#2a3f5f\"}},\"ternary\":{\"aaxis\":{\"gridcolor\":\"white\",\"linecolor\":\"white\",\"ticks\":\"\"},\"baxis\":{\"gridcolor\":\"white\",\"linecolor\":\"white\",\"ticks\":\"\"},\"bgcolor\":\"#E5ECF6\",\"caxis\":{\"gridcolor\":\"white\",\"linecolor\":\"white\",\"ticks\":\"\"}},\"title\":{\"x\":0.05},\"xaxis\":{\"automargin\":true,\"gridcolor\":\"white\",\"linecolor\":\"white\",\"ticks\":\"\",\"title\":{\"standoff\":15},\"zerolinecolor\":\"white\",\"zerolinewidth\":2},\"yaxis\":{\"automargin\":true,\"gridcolor\":\"white\",\"linecolor\":\"white\",\"ticks\":\"\",\"title\":{\"standoff\":15},\"zerolinecolor\":\"white\",\"zerolinewidth\":2}}},\"xaxis\":{\"anchor\":\"y\",\"domain\":[0.0,1.0],\"title\":{\"text\":\"Ecotype/Genotype\"}},\"yaxis\":{\"anchor\":\"x\",\"domain\":[0.0,1.0],\"title\":{\"text\":\"diameter\"}},\"legend\":{\"title\":{\"text\":\"Spaceflight Treatment\"},\"tracegroupgap\":0},\"margin\":{\"t\":60},\"boxmode\":\"group\"},                        {\"responsive\": true}                    ).then(function(){\n",
              "                            \n",
              "var gd = document.getElementById('5dfdf7c3-ddb2-42e8-ac23-1c4244c84055');\n",
              "var x = new MutationObserver(function (mutations, observer) {{\n",
              "        var display = window.getComputedStyle(gd).display;\n",
              "        if (!display || display === 'none') {{\n",
              "            console.log([gd, 'removed!']);\n",
              "            Plotly.purge(gd);\n",
              "            observer.disconnect();\n",
              "        }}\n",
              "}});\n",
              "\n",
              "// Listen for the removal of the full notebook cells\n",
              "var notebookContainer = gd.closest('#notebook-container');\n",
              "if (notebookContainer) {{\n",
              "    x.observe(notebookContainer, {childList: true});\n",
              "}}\n",
              "\n",
              "// Listen for the clearing of the current output cell\n",
              "var outputEl = gd.closest('.output');\n",
              "if (outputEl) {{\n",
              "    x.observe(outputEl, {childList: true});\n",
              "}}\n",
              "\n",
              "                        })                };                            </script>        </div>\n",
              "</body>\n",
              "</html>"
            ]
          },
          "metadata": {}
        }
      ]
    },
    {
      "cell_type": "code",
      "source": [
        "# Summary Statistics by the Gravitational environment\n",
        "fig = px.box(root_11, x=\"Illumination trestment 2\", y=\"diameter\", color=\"Spaceflight Treatment\")\n",
        "fig.update_traces(quartilemethod=\"exclusive\") # or \"inclusive\", or \"linear\" by default\n",
        "fig.show()"
      ],
      "metadata": {
        "colab": {
          "base_uri": "https://localhost:8080/",
          "height": 542
        },
        "id": "bSSE_JoZjfnE",
        "outputId": "76b24409-d6d7-4de3-baf6-c4e60f75efd0"
      },
      "execution_count": 41,
      "outputs": [
        {
          "output_type": "display_data",
          "data": {
            "text/html": [
              "<html>\n",
              "<head><meta charset=\"utf-8\" /></head>\n",
              "<body>\n",
              "    <div>            <script src=\"https://cdnjs.cloudflare.com/ajax/libs/mathjax/2.7.5/MathJax.js?config=TeX-AMS-MML_SVG\"></script><script type=\"text/javascript\">if (window.MathJax) {MathJax.Hub.Config({SVG: {font: \"STIX-Web\"}});}</script>                <script type=\"text/javascript\">window.PlotlyConfig = {MathJaxConfig: 'local'};</script>\n",
              "        <script src=\"https://cdn.plot.ly/plotly-2.8.3.min.js\"></script>                <div id=\"76a7cad6-396d-4356-a51a-3238b2b5d1c3\" class=\"plotly-graph-div\" style=\"height:525px; width:100%;\"></div>            <script type=\"text/javascript\">                                    window.PLOTLYENV=window.PLOTLYENV || {};                                    if (document.getElementById(\"76a7cad6-396d-4356-a51a-3238b2b5d1c3\")) {                    Plotly.newPlot(                        \"76a7cad6-396d-4356-a51a-3238b2b5d1c3\",                        [{\"alignmentgroup\":\"True\",\"hovertemplate\":\"Spaceflight Treatment=Fl<br>Illumination trestment 2=%{x}<br>diameter=%{y}<extra></extra>\",\"legendgroup\":\"Fl\",\"marker\":{\"color\":\"#636efa\"},\"name\":\"Fl\",\"notched\":false,\"offsetgroup\":\"Fl\",\"orientation\":\"v\",\"showlegend\":true,\"x\":[\"Dark\",\"Dark\",\"Dark\",\"Dark\",\"Dark\",\"Dark\",\"Dark\",\"Dark\",\"Dark\",\"Dark\",\"Dark\",\"Dark\",\"Dark\",\"Dark\",\"Dark\",\"Dark\",\"Dark\",\"Dark\",\"Dark\",\"Dark\",\"Dark\",\"Dark\",\"Dark\",\"Dark\",\"Dark\",\"Dark\",\"Dark\",\"Dark\",\"Dark\",\"Dark\",\"Dark\",\"Dark\",\"Dark\",\"Dark\",\"Dark\",\"Dark\",\"Dark\",\"Dark\",\"Dark\",\"Dark\",\"Dark\",\"Dark\",\"Dark\",\"Dark\",\"Dark\",\"Dark\",\"Dark\",\"Dark\",\"Light\",\"Light\",\"Light\",\"Light\",\"Light\",\"Light\",\"Light\",\"Light\",\"Light\",\"Light\",\"Light\",\"Light\",\"Light\",\"Light\",\"Light\",\"Light\",\"Light\",\"Light\",\"Light\",\"Light\",\"Light\",\"Light\",\"Light\",\"Light\",\"Light\",\"Light\",\"Light\",\"Light\",\"Light\",\"Light\",\"Light\",\"Light\",\"Light\",\"Light\",\"Light\",\"Light\",\"Light\",\"Light\",\"Light\",\"Light\",\"Light\",\"Light\",\"Light\",\"Light\",\"Light\",\"Light\",\"Light\"],\"x0\":\" \",\"xaxis\":\"x\",\"y\":[0.051,0.049,0.044,0.047,0.058,0.045,0.045,0.063,0.043,0.064,0.062,0.062,0.047,0.05,0.05,0.036,0.042,0.041,0.055,0.051,0.036,0.054,0.04,0.048,0.035,0.049,0.064,0.046,0.048,0.051,0.036,0.042,0.056,0.051,0.044,0.047,0.038,0.053,0.069,0.056,0.041,0.049,0.04,0.035,0.047,0.037,0.041,0.042,0.037,0.046,0.048,0.048,0.055,0.069,0.068,0.044,0.046,0.06,0.068,0.077,0.073,0.082,0.071,0.079,0.041,0.038,0.036,0.036,0.049,0.054,0.044,0.051,0.044,0.046,0.05,0.068,0.054,0.072,0.046,0.076,0.047,0.05,0.067,0.066,0.048,0.06,0.055,0.048,0.045,0.055,0.062,0.08,0.057,0.051,0.045],\"y0\":\" \",\"yaxis\":\"y\",\"type\":\"box\",\"quartilemethod\":\"exclusive\"},{\"alignmentgroup\":\"True\",\"hovertemplate\":\"Spaceflight Treatment=Gr<br>Illumination trestment 2=%{x}<br>diameter=%{y}<extra></extra>\",\"legendgroup\":\"Gr\",\"marker\":{\"color\":\"#EF553B\"},\"name\":\"Gr\",\"notched\":false,\"offsetgroup\":\"Gr\",\"orientation\":\"v\",\"showlegend\":true,\"x\":[\"Dark\",\"Dark\",\"Dark\",\"Dark\",\"Dark\",\"Dark\",\"Dark\",\"Dark\",\"Dark\",\"Dark\",\"Dark\",\"Dark\",\"Dark\",\"Dark\",\"Dark\",\"Dark\",\"Dark\",\"Dark\",\"Dark\",\"Dark\",\"Dark\",\"Dark\",\"Dark\",\"Dark\",\"Dark\",\"Dark\",\"Dark\",\"Dark\",\"Dark\",\"Dark\",\"Dark\",\"Dark\",\"Dark\",\"Dark\",\"Dark\",\"Dark\",\"Dark\",\"Dark\",\"Dark\",\"Dark\",\"Dark\",\"Dark\",\"Dark\",\"Dark\",\"Dark\",\"Dark\",\"Dark\",\"Dark\",\"Light\",\"Light\",\"Light\",\"Light\",\"Light\",\"Light\",\"Light\",\"Light\",\"Light\",\"Light\",\"Light\",\"Light\",\"Light\",\"Light\",\"Light\",\"Light\",\"Light\",\"Light\",\"Light\",\"Light\",\"Light\",\"Light\",\"Light\",\"Light\",\"Light\",\"Light\",\"Light\",\"Light\",\"Light\",\"Light\",\"Light\",\"Light\",\"Light\",\"Light\",\"Light\",\"Light\",\"Light\",\"Light\",\"Light\",\"Light\"],\"x0\":\" \",\"xaxis\":\"x\",\"y\":[0.076,0.077,0.047,0.052,0.077,0.051,0.069,0.064,0.06,0.068,0.053,0.052,0.055,0.049,0.047,0.047,0.043,0.054,0.048,0.066,0.058,0.049,0.046,0.055,0.084,0.062,0.05,0.052,0.05,0.058,0.048,0.055,0.06,0.055,0.049,0.049,0.065,0.068,0.049,0.054,0.056,0.054,0.052,0.063,0.054,0.069,0.063,0.053,0.05,0.062,0.049,0.057,0.053,0.054,0.055,0.056,0.046,0.046,0.045,0.055,0.056,0.051,0.054,0.052,0.044,0.051,0.05,0.06,0.047,0.05,0.049,0.051,0.068,0.059,0.055,0.07,0.073,0.049,0.051,0.055,0.053,0.045,0.074,0.057,0.055,0.051,0.05,0.057],\"y0\":\" \",\"yaxis\":\"y\",\"type\":\"box\",\"quartilemethod\":\"exclusive\"}],                        {\"template\":{\"data\":{\"bar\":[{\"error_x\":{\"color\":\"#2a3f5f\"},\"error_y\":{\"color\":\"#2a3f5f\"},\"marker\":{\"line\":{\"color\":\"#E5ECF6\",\"width\":0.5},\"pattern\":{\"fillmode\":\"overlay\",\"size\":10,\"solidity\":0.2}},\"type\":\"bar\"}],\"barpolar\":[{\"marker\":{\"line\":{\"color\":\"#E5ECF6\",\"width\":0.5},\"pattern\":{\"fillmode\":\"overlay\",\"size\":10,\"solidity\":0.2}},\"type\":\"barpolar\"}],\"carpet\":[{\"aaxis\":{\"endlinecolor\":\"#2a3f5f\",\"gridcolor\":\"white\",\"linecolor\":\"white\",\"minorgridcolor\":\"white\",\"startlinecolor\":\"#2a3f5f\"},\"baxis\":{\"endlinecolor\":\"#2a3f5f\",\"gridcolor\":\"white\",\"linecolor\":\"white\",\"minorgridcolor\":\"white\",\"startlinecolor\":\"#2a3f5f\"},\"type\":\"carpet\"}],\"choropleth\":[{\"colorbar\":{\"outlinewidth\":0,\"ticks\":\"\"},\"type\":\"choropleth\"}],\"contour\":[{\"colorbar\":{\"outlinewidth\":0,\"ticks\":\"\"},\"colorscale\":[[0.0,\"#0d0887\"],[0.1111111111111111,\"#46039f\"],[0.2222222222222222,\"#7201a8\"],[0.3333333333333333,\"#9c179e\"],[0.4444444444444444,\"#bd3786\"],[0.5555555555555556,\"#d8576b\"],[0.6666666666666666,\"#ed7953\"],[0.7777777777777778,\"#fb9f3a\"],[0.8888888888888888,\"#fdca26\"],[1.0,\"#f0f921\"]],\"type\":\"contour\"}],\"contourcarpet\":[{\"colorbar\":{\"outlinewidth\":0,\"ticks\":\"\"},\"type\":\"contourcarpet\"}],\"heatmap\":[{\"colorbar\":{\"outlinewidth\":0,\"ticks\":\"\"},\"colorscale\":[[0.0,\"#0d0887\"],[0.1111111111111111,\"#46039f\"],[0.2222222222222222,\"#7201a8\"],[0.3333333333333333,\"#9c179e\"],[0.4444444444444444,\"#bd3786\"],[0.5555555555555556,\"#d8576b\"],[0.6666666666666666,\"#ed7953\"],[0.7777777777777778,\"#fb9f3a\"],[0.8888888888888888,\"#fdca26\"],[1.0,\"#f0f921\"]],\"type\":\"heatmap\"}],\"heatmapgl\":[{\"colorbar\":{\"outlinewidth\":0,\"ticks\":\"\"},\"colorscale\":[[0.0,\"#0d0887\"],[0.1111111111111111,\"#46039f\"],[0.2222222222222222,\"#7201a8\"],[0.3333333333333333,\"#9c179e\"],[0.4444444444444444,\"#bd3786\"],[0.5555555555555556,\"#d8576b\"],[0.6666666666666666,\"#ed7953\"],[0.7777777777777778,\"#fb9f3a\"],[0.8888888888888888,\"#fdca26\"],[1.0,\"#f0f921\"]],\"type\":\"heatmapgl\"}],\"histogram\":[{\"marker\":{\"pattern\":{\"fillmode\":\"overlay\",\"size\":10,\"solidity\":0.2}},\"type\":\"histogram\"}],\"histogram2d\":[{\"colorbar\":{\"outlinewidth\":0,\"ticks\":\"\"},\"colorscale\":[[0.0,\"#0d0887\"],[0.1111111111111111,\"#46039f\"],[0.2222222222222222,\"#7201a8\"],[0.3333333333333333,\"#9c179e\"],[0.4444444444444444,\"#bd3786\"],[0.5555555555555556,\"#d8576b\"],[0.6666666666666666,\"#ed7953\"],[0.7777777777777778,\"#fb9f3a\"],[0.8888888888888888,\"#fdca26\"],[1.0,\"#f0f921\"]],\"type\":\"histogram2d\"}],\"histogram2dcontour\":[{\"colorbar\":{\"outlinewidth\":0,\"ticks\":\"\"},\"colorscale\":[[0.0,\"#0d0887\"],[0.1111111111111111,\"#46039f\"],[0.2222222222222222,\"#7201a8\"],[0.3333333333333333,\"#9c179e\"],[0.4444444444444444,\"#bd3786\"],[0.5555555555555556,\"#d8576b\"],[0.6666666666666666,\"#ed7953\"],[0.7777777777777778,\"#fb9f3a\"],[0.8888888888888888,\"#fdca26\"],[1.0,\"#f0f921\"]],\"type\":\"histogram2dcontour\"}],\"mesh3d\":[{\"colorbar\":{\"outlinewidth\":0,\"ticks\":\"\"},\"type\":\"mesh3d\"}],\"parcoords\":[{\"line\":{\"colorbar\":{\"outlinewidth\":0,\"ticks\":\"\"}},\"type\":\"parcoords\"}],\"pie\":[{\"automargin\":true,\"type\":\"pie\"}],\"scatter\":[{\"marker\":{\"colorbar\":{\"outlinewidth\":0,\"ticks\":\"\"}},\"type\":\"scatter\"}],\"scatter3d\":[{\"line\":{\"colorbar\":{\"outlinewidth\":0,\"ticks\":\"\"}},\"marker\":{\"colorbar\":{\"outlinewidth\":0,\"ticks\":\"\"}},\"type\":\"scatter3d\"}],\"scattercarpet\":[{\"marker\":{\"colorbar\":{\"outlinewidth\":0,\"ticks\":\"\"}},\"type\":\"scattercarpet\"}],\"scattergeo\":[{\"marker\":{\"colorbar\":{\"outlinewidth\":0,\"ticks\":\"\"}},\"type\":\"scattergeo\"}],\"scattergl\":[{\"marker\":{\"colorbar\":{\"outlinewidth\":0,\"ticks\":\"\"}},\"type\":\"scattergl\"}],\"scattermapbox\":[{\"marker\":{\"colorbar\":{\"outlinewidth\":0,\"ticks\":\"\"}},\"type\":\"scattermapbox\"}],\"scatterpolar\":[{\"marker\":{\"colorbar\":{\"outlinewidth\":0,\"ticks\":\"\"}},\"type\":\"scatterpolar\"}],\"scatterpolargl\":[{\"marker\":{\"colorbar\":{\"outlinewidth\":0,\"ticks\":\"\"}},\"type\":\"scatterpolargl\"}],\"scatterternary\":[{\"marker\":{\"colorbar\":{\"outlinewidth\":0,\"ticks\":\"\"}},\"type\":\"scatterternary\"}],\"surface\":[{\"colorbar\":{\"outlinewidth\":0,\"ticks\":\"\"},\"colorscale\":[[0.0,\"#0d0887\"],[0.1111111111111111,\"#46039f\"],[0.2222222222222222,\"#7201a8\"],[0.3333333333333333,\"#9c179e\"],[0.4444444444444444,\"#bd3786\"],[0.5555555555555556,\"#d8576b\"],[0.6666666666666666,\"#ed7953\"],[0.7777777777777778,\"#fb9f3a\"],[0.8888888888888888,\"#fdca26\"],[1.0,\"#f0f921\"]],\"type\":\"surface\"}],\"table\":[{\"cells\":{\"fill\":{\"color\":\"#EBF0F8\"},\"line\":{\"color\":\"white\"}},\"header\":{\"fill\":{\"color\":\"#C8D4E3\"},\"line\":{\"color\":\"white\"}},\"type\":\"table\"}]},\"layout\":{\"annotationdefaults\":{\"arrowcolor\":\"#2a3f5f\",\"arrowhead\":0,\"arrowwidth\":1},\"autotypenumbers\":\"strict\",\"coloraxis\":{\"colorbar\":{\"outlinewidth\":0,\"ticks\":\"\"}},\"colorscale\":{\"diverging\":[[0,\"#8e0152\"],[0.1,\"#c51b7d\"],[0.2,\"#de77ae\"],[0.3,\"#f1b6da\"],[0.4,\"#fde0ef\"],[0.5,\"#f7f7f7\"],[0.6,\"#e6f5d0\"],[0.7,\"#b8e186\"],[0.8,\"#7fbc41\"],[0.9,\"#4d9221\"],[1,\"#276419\"]],\"sequential\":[[0.0,\"#0d0887\"],[0.1111111111111111,\"#46039f\"],[0.2222222222222222,\"#7201a8\"],[0.3333333333333333,\"#9c179e\"],[0.4444444444444444,\"#bd3786\"],[0.5555555555555556,\"#d8576b\"],[0.6666666666666666,\"#ed7953\"],[0.7777777777777778,\"#fb9f3a\"],[0.8888888888888888,\"#fdca26\"],[1.0,\"#f0f921\"]],\"sequentialminus\":[[0.0,\"#0d0887\"],[0.1111111111111111,\"#46039f\"],[0.2222222222222222,\"#7201a8\"],[0.3333333333333333,\"#9c179e\"],[0.4444444444444444,\"#bd3786\"],[0.5555555555555556,\"#d8576b\"],[0.6666666666666666,\"#ed7953\"],[0.7777777777777778,\"#fb9f3a\"],[0.8888888888888888,\"#fdca26\"],[1.0,\"#f0f921\"]]},\"colorway\":[\"#636efa\",\"#EF553B\",\"#00cc96\",\"#ab63fa\",\"#FFA15A\",\"#19d3f3\",\"#FF6692\",\"#B6E880\",\"#FF97FF\",\"#FECB52\"],\"font\":{\"color\":\"#2a3f5f\"},\"geo\":{\"bgcolor\":\"white\",\"lakecolor\":\"white\",\"landcolor\":\"#E5ECF6\",\"showlakes\":true,\"showland\":true,\"subunitcolor\":\"white\"},\"hoverlabel\":{\"align\":\"left\"},\"hovermode\":\"closest\",\"mapbox\":{\"style\":\"light\"},\"paper_bgcolor\":\"white\",\"plot_bgcolor\":\"#E5ECF6\",\"polar\":{\"angularaxis\":{\"gridcolor\":\"white\",\"linecolor\":\"white\",\"ticks\":\"\"},\"bgcolor\":\"#E5ECF6\",\"radialaxis\":{\"gridcolor\":\"white\",\"linecolor\":\"white\",\"ticks\":\"\"}},\"scene\":{\"xaxis\":{\"backgroundcolor\":\"#E5ECF6\",\"gridcolor\":\"white\",\"gridwidth\":2,\"linecolor\":\"white\",\"showbackground\":true,\"ticks\":\"\",\"zerolinecolor\":\"white\"},\"yaxis\":{\"backgroundcolor\":\"#E5ECF6\",\"gridcolor\":\"white\",\"gridwidth\":2,\"linecolor\":\"white\",\"showbackground\":true,\"ticks\":\"\",\"zerolinecolor\":\"white\"},\"zaxis\":{\"backgroundcolor\":\"#E5ECF6\",\"gridcolor\":\"white\",\"gridwidth\":2,\"linecolor\":\"white\",\"showbackground\":true,\"ticks\":\"\",\"zerolinecolor\":\"white\"}},\"shapedefaults\":{\"line\":{\"color\":\"#2a3f5f\"}},\"ternary\":{\"aaxis\":{\"gridcolor\":\"white\",\"linecolor\":\"white\",\"ticks\":\"\"},\"baxis\":{\"gridcolor\":\"white\",\"linecolor\":\"white\",\"ticks\":\"\"},\"bgcolor\":\"#E5ECF6\",\"caxis\":{\"gridcolor\":\"white\",\"linecolor\":\"white\",\"ticks\":\"\"}},\"title\":{\"x\":0.05},\"xaxis\":{\"automargin\":true,\"gridcolor\":\"white\",\"linecolor\":\"white\",\"ticks\":\"\",\"title\":{\"standoff\":15},\"zerolinecolor\":\"white\",\"zerolinewidth\":2},\"yaxis\":{\"automargin\":true,\"gridcolor\":\"white\",\"linecolor\":\"white\",\"ticks\":\"\",\"title\":{\"standoff\":15},\"zerolinecolor\":\"white\",\"zerolinewidth\":2}}},\"xaxis\":{\"anchor\":\"y\",\"domain\":[0.0,1.0],\"title\":{\"text\":\"Illumination trestment 2\"}},\"yaxis\":{\"anchor\":\"x\",\"domain\":[0.0,1.0],\"title\":{\"text\":\"diameter\"}},\"legend\":{\"title\":{\"text\":\"Spaceflight Treatment\"},\"tracegroupgap\":0},\"margin\":{\"t\":60},\"boxmode\":\"group\"},                        {\"responsive\": true}                    ).then(function(){\n",
              "                            \n",
              "var gd = document.getElementById('76a7cad6-396d-4356-a51a-3238b2b5d1c3');\n",
              "var x = new MutationObserver(function (mutations, observer) {{\n",
              "        var display = window.getComputedStyle(gd).display;\n",
              "        if (!display || display === 'none') {{\n",
              "            console.log([gd, 'removed!']);\n",
              "            Plotly.purge(gd);\n",
              "            observer.disconnect();\n",
              "        }}\n",
              "}});\n",
              "\n",
              "// Listen for the removal of the full notebook cells\n",
              "var notebookContainer = gd.closest('#notebook-container');\n",
              "if (notebookContainer) {{\n",
              "    x.observe(notebookContainer, {childList: true});\n",
              "}}\n",
              "\n",
              "// Listen for the clearing of the current output cell\n",
              "var outputEl = gd.closest('.output');\n",
              "if (outputEl) {{\n",
              "    x.observe(outputEl, {childList: true});\n",
              "}}\n",
              "\n",
              "                        })                };                            </script>        </div>\n",
              "</body>\n",
              "</html>"
            ]
          },
          "metadata": {}
        }
      ]
    },
    {
      "cell_type": "code",
      "source": [
        "fig = go.Figure()\n",
        "\n",
        "fig.add_trace(go.Box(\n",
        "    y=ws_diameter['diameter'],\n",
        "    x=ws_diameter['Illumination trestment 2'],\n",
        "    name='WS',\n",
        "))\n",
        "fig.add_trace(go.Box(\n",
        "    y=phyd_diameter['diameter'],\n",
        "    x=phyd_diameter['Illumination trestment 2'],\n",
        "    name='PhyD',\n",
        "))\n",
        "fig.add_trace(go.Box(\n",
        "    y=col_diameter['diameter'],\n",
        "    x=col_diameter['Illumination trestment 2'],\n",
        "    name='Col',\n",
        "))\n",
        "\n",
        "\n",
        "fig.update_layout(\n",
        "    yaxis_title='root diameter',\n",
        "    boxmode='group' # group together boxes of the different traces for each value of x\n",
        ")\n",
        "fig.show()\n"
      ],
      "metadata": {
        "colab": {
          "base_uri": "https://localhost:8080/",
          "height": 542
        },
        "id": "dD7p2n6Ejoz3",
        "outputId": "c4c79351-b63d-4137-cb7f-d2524ae9c883"
      },
      "execution_count": 42,
      "outputs": [
        {
          "output_type": "display_data",
          "data": {
            "text/html": [
              "<html>\n",
              "<head><meta charset=\"utf-8\" /></head>\n",
              "<body>\n",
              "    <div>            <script src=\"https://cdnjs.cloudflare.com/ajax/libs/mathjax/2.7.5/MathJax.js?config=TeX-AMS-MML_SVG\"></script><script type=\"text/javascript\">if (window.MathJax) {MathJax.Hub.Config({SVG: {font: \"STIX-Web\"}});}</script>                <script type=\"text/javascript\">window.PlotlyConfig = {MathJaxConfig: 'local'};</script>\n",
              "        <script src=\"https://cdn.plot.ly/plotly-2.8.3.min.js\"></script>                <div id=\"ba451409-db57-4997-b5e9-46bbdcd1846f\" class=\"plotly-graph-div\" style=\"height:525px; width:100%;\"></div>            <script type=\"text/javascript\">                                    window.PLOTLYENV=window.PLOTLYENV || {};                                    if (document.getElementById(\"ba451409-db57-4997-b5e9-46bbdcd1846f\")) {                    Plotly.newPlot(                        \"ba451409-db57-4997-b5e9-46bbdcd1846f\",                        [{\"name\":\"WS\",\"x\":[\"Dark\",\"Dark\",\"Dark\",\"Dark\",\"Dark\",\"Dark\",\"Dark\",\"Dark\",\"Dark\",\"Dark\",\"Dark\",\"Dark\",\"Dark\",\"Dark\",\"Dark\",\"Dark\",\"Light\",\"Light\",\"Light\",\"Light\",\"Light\",\"Light\",\"Light\",\"Light\",\"Light\",\"Light\",\"Light\",\"Light\",\"Light\",\"Light\",\"Light\",\"Dark\",\"Dark\",\"Dark\",\"Dark\",\"Dark\",\"Dark\",\"Dark\",\"Dark\",\"Dark\",\"Dark\",\"Dark\",\"Dark\",\"Light\",\"Light\",\"Light\",\"Light\",\"Light\",\"Light\",\"Light\",\"Light\",\"Light\",\"Light\",\"Light\",\"Light\",\"Light\",\"Light\",\"Light\",\"Light\",\"Light\"],\"y\":[0.051,0.049,0.044,0.047,0.058,0.036,0.042,0.041,0.055,0.051,0.036,0.042,0.056,0.051,0.044,0.047,0.037,0.046,0.048,0.048,0.055,0.041,0.038,0.036,0.036,0.049,0.047,0.05,0.067,0.066,0.048,0.055,0.049,0.047,0.047,0.043,0.054,0.048,0.055,0.06,0.055,0.049,0.049,0.05,0.062,0.049,0.057,0.053,0.073,0.049,0.051,0.055,0.053,0.045,0.074,0.057,0.055,0.051,0.05,0.057],\"type\":\"box\"},{\"name\":\"PhyD\",\"x\":[\"Dark\",\"Dark\",\"Dark\",\"Dark\",\"Dark\",\"Dark\",\"Dark\",\"Dark\",\"Dark\",\"Dark\",\"Dark\",\"Dark\",\"Dark\",\"Dark\",\"Dark\",\"Dark\",\"Light\",\"Light\",\"Light\",\"Light\",\"Light\",\"Light\",\"Light\",\"Light\",\"Light\",\"Light\",\"Light\",\"Light\",\"Light\",\"Light\",\"Light\",\"Dark\",\"Dark\",\"Dark\",\"Dark\",\"Dark\",\"Dark\",\"Dark\",\"Dark\",\"Dark\",\"Dark\",\"Dark\",\"Dark\",\"Dark\",\"Dark\",\"Dark\",\"Dark\",\"Dark\",\"Dark\",\"Light\",\"Light\",\"Light\",\"Light\",\"Light\",\"Light\",\"Light\",\"Light\",\"Light\",\"Light\",\"Light\",\"Light\"],\"y\":[0.062,0.062,0.047,0.05,0.05,0.049,0.064,0.046,0.048,0.051,0.04,0.035,0.047,0.037,0.041,0.042,0.077,0.073,0.082,0.071,0.079,0.068,0.054,0.072,0.046,0.076,0.062,0.08,0.057,0.051,0.045,0.069,0.064,0.06,0.068,0.053,0.052,0.084,0.062,0.05,0.052,0.05,0.058,0.052,0.063,0.054,0.069,0.063,0.053,0.045,0.055,0.056,0.051,0.054,0.052,0.049,0.051,0.068,0.059,0.055,0.07],\"type\":\"box\"},{\"name\":\"Col\",\"x\":[\"Dark\",\"Dark\",\"Dark\",\"Dark\",\"Dark\",\"Dark\",\"Dark\",\"Dark\",\"Dark\",\"Dark\",\"Dark\",\"Dark\",\"Dark\",\"Dark\",\"Dark\",\"Dark\",\"Light\",\"Light\",\"Light\",\"Light\",\"Light\",\"Light\",\"Light\",\"Light\",\"Light\",\"Light\",\"Light\",\"Light\",\"Light\",\"Light\",\"Light\",\"Light\",\"Light\",\"Dark\",\"Dark\",\"Dark\",\"Dark\",\"Dark\",\"Dark\",\"Dark\",\"Dark\",\"Dark\",\"Dark\",\"Dark\",\"Dark\",\"Dark\",\"Dark\",\"Dark\",\"Dark\",\"Dark\",\"Dark\",\"Light\",\"Light\",\"Light\",\"Light\",\"Light\",\"Light\",\"Light\",\"Light\",\"Light\",\"Light\",\"Light\"],\"y\":[0.045,0.045,0.063,0.043,0.064,0.036,0.054,0.04,0.048,0.035,0.038,0.053,0.069,0.056,0.041,0.049,0.069,0.068,0.044,0.046,0.06,0.068,0.054,0.044,0.051,0.044,0.046,0.05,0.06,0.055,0.048,0.045,0.055,0.076,0.077,0.047,0.052,0.077,0.051,0.048,0.066,0.058,0.049,0.046,0.055,0.065,0.068,0.049,0.054,0.056,0.054,0.054,0.055,0.056,0.046,0.046,0.044,0.051,0.05,0.06,0.047,0.05],\"type\":\"box\"}],                        {\"template\":{\"data\":{\"bar\":[{\"error_x\":{\"color\":\"#2a3f5f\"},\"error_y\":{\"color\":\"#2a3f5f\"},\"marker\":{\"line\":{\"color\":\"#E5ECF6\",\"width\":0.5},\"pattern\":{\"fillmode\":\"overlay\",\"size\":10,\"solidity\":0.2}},\"type\":\"bar\"}],\"barpolar\":[{\"marker\":{\"line\":{\"color\":\"#E5ECF6\",\"width\":0.5},\"pattern\":{\"fillmode\":\"overlay\",\"size\":10,\"solidity\":0.2}},\"type\":\"barpolar\"}],\"carpet\":[{\"aaxis\":{\"endlinecolor\":\"#2a3f5f\",\"gridcolor\":\"white\",\"linecolor\":\"white\",\"minorgridcolor\":\"white\",\"startlinecolor\":\"#2a3f5f\"},\"baxis\":{\"endlinecolor\":\"#2a3f5f\",\"gridcolor\":\"white\",\"linecolor\":\"white\",\"minorgridcolor\":\"white\",\"startlinecolor\":\"#2a3f5f\"},\"type\":\"carpet\"}],\"choropleth\":[{\"colorbar\":{\"outlinewidth\":0,\"ticks\":\"\"},\"type\":\"choropleth\"}],\"contour\":[{\"colorbar\":{\"outlinewidth\":0,\"ticks\":\"\"},\"colorscale\":[[0.0,\"#0d0887\"],[0.1111111111111111,\"#46039f\"],[0.2222222222222222,\"#7201a8\"],[0.3333333333333333,\"#9c179e\"],[0.4444444444444444,\"#bd3786\"],[0.5555555555555556,\"#d8576b\"],[0.6666666666666666,\"#ed7953\"],[0.7777777777777778,\"#fb9f3a\"],[0.8888888888888888,\"#fdca26\"],[1.0,\"#f0f921\"]],\"type\":\"contour\"}],\"contourcarpet\":[{\"colorbar\":{\"outlinewidth\":0,\"ticks\":\"\"},\"type\":\"contourcarpet\"}],\"heatmap\":[{\"colorbar\":{\"outlinewidth\":0,\"ticks\":\"\"},\"colorscale\":[[0.0,\"#0d0887\"],[0.1111111111111111,\"#46039f\"],[0.2222222222222222,\"#7201a8\"],[0.3333333333333333,\"#9c179e\"],[0.4444444444444444,\"#bd3786\"],[0.5555555555555556,\"#d8576b\"],[0.6666666666666666,\"#ed7953\"],[0.7777777777777778,\"#fb9f3a\"],[0.8888888888888888,\"#fdca26\"],[1.0,\"#f0f921\"]],\"type\":\"heatmap\"}],\"heatmapgl\":[{\"colorbar\":{\"outlinewidth\":0,\"ticks\":\"\"},\"colorscale\":[[0.0,\"#0d0887\"],[0.1111111111111111,\"#46039f\"],[0.2222222222222222,\"#7201a8\"],[0.3333333333333333,\"#9c179e\"],[0.4444444444444444,\"#bd3786\"],[0.5555555555555556,\"#d8576b\"],[0.6666666666666666,\"#ed7953\"],[0.7777777777777778,\"#fb9f3a\"],[0.8888888888888888,\"#fdca26\"],[1.0,\"#f0f921\"]],\"type\":\"heatmapgl\"}],\"histogram\":[{\"marker\":{\"pattern\":{\"fillmode\":\"overlay\",\"size\":10,\"solidity\":0.2}},\"type\":\"histogram\"}],\"histogram2d\":[{\"colorbar\":{\"outlinewidth\":0,\"ticks\":\"\"},\"colorscale\":[[0.0,\"#0d0887\"],[0.1111111111111111,\"#46039f\"],[0.2222222222222222,\"#7201a8\"],[0.3333333333333333,\"#9c179e\"],[0.4444444444444444,\"#bd3786\"],[0.5555555555555556,\"#d8576b\"],[0.6666666666666666,\"#ed7953\"],[0.7777777777777778,\"#fb9f3a\"],[0.8888888888888888,\"#fdca26\"],[1.0,\"#f0f921\"]],\"type\":\"histogram2d\"}],\"histogram2dcontour\":[{\"colorbar\":{\"outlinewidth\":0,\"ticks\":\"\"},\"colorscale\":[[0.0,\"#0d0887\"],[0.1111111111111111,\"#46039f\"],[0.2222222222222222,\"#7201a8\"],[0.3333333333333333,\"#9c179e\"],[0.4444444444444444,\"#bd3786\"],[0.5555555555555556,\"#d8576b\"],[0.6666666666666666,\"#ed7953\"],[0.7777777777777778,\"#fb9f3a\"],[0.8888888888888888,\"#fdca26\"],[1.0,\"#f0f921\"]],\"type\":\"histogram2dcontour\"}],\"mesh3d\":[{\"colorbar\":{\"outlinewidth\":0,\"ticks\":\"\"},\"type\":\"mesh3d\"}],\"parcoords\":[{\"line\":{\"colorbar\":{\"outlinewidth\":0,\"ticks\":\"\"}},\"type\":\"parcoords\"}],\"pie\":[{\"automargin\":true,\"type\":\"pie\"}],\"scatter\":[{\"marker\":{\"colorbar\":{\"outlinewidth\":0,\"ticks\":\"\"}},\"type\":\"scatter\"}],\"scatter3d\":[{\"line\":{\"colorbar\":{\"outlinewidth\":0,\"ticks\":\"\"}},\"marker\":{\"colorbar\":{\"outlinewidth\":0,\"ticks\":\"\"}},\"type\":\"scatter3d\"}],\"scattercarpet\":[{\"marker\":{\"colorbar\":{\"outlinewidth\":0,\"ticks\":\"\"}},\"type\":\"scattercarpet\"}],\"scattergeo\":[{\"marker\":{\"colorbar\":{\"outlinewidth\":0,\"ticks\":\"\"}},\"type\":\"scattergeo\"}],\"scattergl\":[{\"marker\":{\"colorbar\":{\"outlinewidth\":0,\"ticks\":\"\"}},\"type\":\"scattergl\"}],\"scattermapbox\":[{\"marker\":{\"colorbar\":{\"outlinewidth\":0,\"ticks\":\"\"}},\"type\":\"scattermapbox\"}],\"scatterpolar\":[{\"marker\":{\"colorbar\":{\"outlinewidth\":0,\"ticks\":\"\"}},\"type\":\"scatterpolar\"}],\"scatterpolargl\":[{\"marker\":{\"colorbar\":{\"outlinewidth\":0,\"ticks\":\"\"}},\"type\":\"scatterpolargl\"}],\"scatterternary\":[{\"marker\":{\"colorbar\":{\"outlinewidth\":0,\"ticks\":\"\"}},\"type\":\"scatterternary\"}],\"surface\":[{\"colorbar\":{\"outlinewidth\":0,\"ticks\":\"\"},\"colorscale\":[[0.0,\"#0d0887\"],[0.1111111111111111,\"#46039f\"],[0.2222222222222222,\"#7201a8\"],[0.3333333333333333,\"#9c179e\"],[0.4444444444444444,\"#bd3786\"],[0.5555555555555556,\"#d8576b\"],[0.6666666666666666,\"#ed7953\"],[0.7777777777777778,\"#fb9f3a\"],[0.8888888888888888,\"#fdca26\"],[1.0,\"#f0f921\"]],\"type\":\"surface\"}],\"table\":[{\"cells\":{\"fill\":{\"color\":\"#EBF0F8\"},\"line\":{\"color\":\"white\"}},\"header\":{\"fill\":{\"color\":\"#C8D4E3\"},\"line\":{\"color\":\"white\"}},\"type\":\"table\"}]},\"layout\":{\"annotationdefaults\":{\"arrowcolor\":\"#2a3f5f\",\"arrowhead\":0,\"arrowwidth\":1},\"autotypenumbers\":\"strict\",\"coloraxis\":{\"colorbar\":{\"outlinewidth\":0,\"ticks\":\"\"}},\"colorscale\":{\"diverging\":[[0,\"#8e0152\"],[0.1,\"#c51b7d\"],[0.2,\"#de77ae\"],[0.3,\"#f1b6da\"],[0.4,\"#fde0ef\"],[0.5,\"#f7f7f7\"],[0.6,\"#e6f5d0\"],[0.7,\"#b8e186\"],[0.8,\"#7fbc41\"],[0.9,\"#4d9221\"],[1,\"#276419\"]],\"sequential\":[[0.0,\"#0d0887\"],[0.1111111111111111,\"#46039f\"],[0.2222222222222222,\"#7201a8\"],[0.3333333333333333,\"#9c179e\"],[0.4444444444444444,\"#bd3786\"],[0.5555555555555556,\"#d8576b\"],[0.6666666666666666,\"#ed7953\"],[0.7777777777777778,\"#fb9f3a\"],[0.8888888888888888,\"#fdca26\"],[1.0,\"#f0f921\"]],\"sequentialminus\":[[0.0,\"#0d0887\"],[0.1111111111111111,\"#46039f\"],[0.2222222222222222,\"#7201a8\"],[0.3333333333333333,\"#9c179e\"],[0.4444444444444444,\"#bd3786\"],[0.5555555555555556,\"#d8576b\"],[0.6666666666666666,\"#ed7953\"],[0.7777777777777778,\"#fb9f3a\"],[0.8888888888888888,\"#fdca26\"],[1.0,\"#f0f921\"]]},\"colorway\":[\"#636efa\",\"#EF553B\",\"#00cc96\",\"#ab63fa\",\"#FFA15A\",\"#19d3f3\",\"#FF6692\",\"#B6E880\",\"#FF97FF\",\"#FECB52\"],\"font\":{\"color\":\"#2a3f5f\"},\"geo\":{\"bgcolor\":\"white\",\"lakecolor\":\"white\",\"landcolor\":\"#E5ECF6\",\"showlakes\":true,\"showland\":true,\"subunitcolor\":\"white\"},\"hoverlabel\":{\"align\":\"left\"},\"hovermode\":\"closest\",\"mapbox\":{\"style\":\"light\"},\"paper_bgcolor\":\"white\",\"plot_bgcolor\":\"#E5ECF6\",\"polar\":{\"angularaxis\":{\"gridcolor\":\"white\",\"linecolor\":\"white\",\"ticks\":\"\"},\"bgcolor\":\"#E5ECF6\",\"radialaxis\":{\"gridcolor\":\"white\",\"linecolor\":\"white\",\"ticks\":\"\"}},\"scene\":{\"xaxis\":{\"backgroundcolor\":\"#E5ECF6\",\"gridcolor\":\"white\",\"gridwidth\":2,\"linecolor\":\"white\",\"showbackground\":true,\"ticks\":\"\",\"zerolinecolor\":\"white\"},\"yaxis\":{\"backgroundcolor\":\"#E5ECF6\",\"gridcolor\":\"white\",\"gridwidth\":2,\"linecolor\":\"white\",\"showbackground\":true,\"ticks\":\"\",\"zerolinecolor\":\"white\"},\"zaxis\":{\"backgroundcolor\":\"#E5ECF6\",\"gridcolor\":\"white\",\"gridwidth\":2,\"linecolor\":\"white\",\"showbackground\":true,\"ticks\":\"\",\"zerolinecolor\":\"white\"}},\"shapedefaults\":{\"line\":{\"color\":\"#2a3f5f\"}},\"ternary\":{\"aaxis\":{\"gridcolor\":\"white\",\"linecolor\":\"white\",\"ticks\":\"\"},\"baxis\":{\"gridcolor\":\"white\",\"linecolor\":\"white\",\"ticks\":\"\"},\"bgcolor\":\"#E5ECF6\",\"caxis\":{\"gridcolor\":\"white\",\"linecolor\":\"white\",\"ticks\":\"\"}},\"title\":{\"x\":0.05},\"xaxis\":{\"automargin\":true,\"gridcolor\":\"white\",\"linecolor\":\"white\",\"ticks\":\"\",\"title\":{\"standoff\":15},\"zerolinecolor\":\"white\",\"zerolinewidth\":2},\"yaxis\":{\"automargin\":true,\"gridcolor\":\"white\",\"linecolor\":\"white\",\"ticks\":\"\",\"title\":{\"standoff\":15},\"zerolinecolor\":\"white\",\"zerolinewidth\":2}}},\"yaxis\":{\"title\":{\"text\":\"root diameter\"}},\"boxmode\":\"group\"},                        {\"responsive\": true}                    ).then(function(){\n",
              "                            \n",
              "var gd = document.getElementById('ba451409-db57-4997-b5e9-46bbdcd1846f');\n",
              "var x = new MutationObserver(function (mutations, observer) {{\n",
              "        var display = window.getComputedStyle(gd).display;\n",
              "        if (!display || display === 'none') {{\n",
              "            console.log([gd, 'removed!']);\n",
              "            Plotly.purge(gd);\n",
              "            observer.disconnect();\n",
              "        }}\n",
              "}});\n",
              "\n",
              "// Listen for the removal of the full notebook cells\n",
              "var notebookContainer = gd.closest('#notebook-container');\n",
              "if (notebookContainer) {{\n",
              "    x.observe(notebookContainer, {childList: true});\n",
              "}}\n",
              "\n",
              "// Listen for the clearing of the current output cell\n",
              "var outputEl = gd.closest('.output');\n",
              "if (outputEl) {{\n",
              "    x.observe(outputEl, {childList: true});\n",
              "}}\n",
              "\n",
              "                        })                };                            </script>        </div>\n",
              "</body>\n",
              "</html>"
            ]
          },
          "metadata": {}
        }
      ]
    },
    {
      "cell_type": "code",
      "source": [
        "fig = go.Figure()\n",
        "\n",
        "fig.add_trace(go.Box(\n",
        "    y=ws_diameter['diameter'],\n",
        "    x=ws_diameter['Spaceflight Treatment'],\n",
        "    name='WS',\n",
        "))\n",
        "fig.add_trace(go.Box(\n",
        "    y=phyd_diameter['diameter'],\n",
        "    x=phyd_diameter['Spaceflight Treatment'],\n",
        "    name='PhyD',\n",
        "))\n",
        "fig.add_trace(go.Box(\n",
        "    y=col_diameter['diameter'],\n",
        "    x=col_diameter['Spaceflight Treatment'],\n",
        "    name='Col',\n",
        "))\n",
        "\n",
        "\n",
        "fig.update_layout(\n",
        "    yaxis_title='root diameter',\n",
        "    boxmode='group' # group together boxes of the different traces for each value of x\n",
        ")\n",
        "fig.show()\n"
      ],
      "metadata": {
        "colab": {
          "base_uri": "https://localhost:8080/",
          "height": 542
        },
        "id": "FZQUVu7ej6OF",
        "outputId": "5d99865c-3f8a-4225-987c-f4cb92eba5d7"
      },
      "execution_count": 43,
      "outputs": [
        {
          "output_type": "display_data",
          "data": {
            "text/html": [
              "<html>\n",
              "<head><meta charset=\"utf-8\" /></head>\n",
              "<body>\n",
              "    <div>            <script src=\"https://cdnjs.cloudflare.com/ajax/libs/mathjax/2.7.5/MathJax.js?config=TeX-AMS-MML_SVG\"></script><script type=\"text/javascript\">if (window.MathJax) {MathJax.Hub.Config({SVG: {font: \"STIX-Web\"}});}</script>                <script type=\"text/javascript\">window.PlotlyConfig = {MathJaxConfig: 'local'};</script>\n",
              "        <script src=\"https://cdn.plot.ly/plotly-2.8.3.min.js\"></script>                <div id=\"dfdac283-5073-4ee3-8510-824ed615a1f5\" class=\"plotly-graph-div\" style=\"height:525px; width:100%;\"></div>            <script type=\"text/javascript\">                                    window.PLOTLYENV=window.PLOTLYENV || {};                                    if (document.getElementById(\"dfdac283-5073-4ee3-8510-824ed615a1f5\")) {                    Plotly.newPlot(                        \"dfdac283-5073-4ee3-8510-824ed615a1f5\",                        [{\"name\":\"WS\",\"x\":[\"Fl\",\"Fl\",\"Fl\",\"Fl\",\"Fl\",\"Fl\",\"Fl\",\"Fl\",\"Fl\",\"Fl\",\"Fl\",\"Fl\",\"Fl\",\"Fl\",\"Fl\",\"Fl\",\"Fl\",\"Fl\",\"Fl\",\"Fl\",\"Fl\",\"Fl\",\"Fl\",\"Fl\",\"Fl\",\"Fl\",\"Fl\",\"Fl\",\"Fl\",\"Fl\",\"Fl\",\"Gr\",\"Gr\",\"Gr\",\"Gr\",\"Gr\",\"Gr\",\"Gr\",\"Gr\",\"Gr\",\"Gr\",\"Gr\",\"Gr\",\"Gr\",\"Gr\",\"Gr\",\"Gr\",\"Gr\",\"Gr\",\"Gr\",\"Gr\",\"Gr\",\"Gr\",\"Gr\",\"Gr\",\"Gr\",\"Gr\",\"Gr\",\"Gr\",\"Gr\"],\"y\":[0.051,0.049,0.044,0.047,0.058,0.036,0.042,0.041,0.055,0.051,0.036,0.042,0.056,0.051,0.044,0.047,0.037,0.046,0.048,0.048,0.055,0.041,0.038,0.036,0.036,0.049,0.047,0.05,0.067,0.066,0.048,0.055,0.049,0.047,0.047,0.043,0.054,0.048,0.055,0.06,0.055,0.049,0.049,0.05,0.062,0.049,0.057,0.053,0.073,0.049,0.051,0.055,0.053,0.045,0.074,0.057,0.055,0.051,0.05,0.057],\"type\":\"box\"},{\"name\":\"PhyD\",\"x\":[\"Fl\",\"Fl\",\"Fl\",\"Fl\",\"Fl\",\"Fl\",\"Fl\",\"Fl\",\"Fl\",\"Fl\",\"Fl\",\"Fl\",\"Fl\",\"Fl\",\"Fl\",\"Fl\",\"Fl\",\"Fl\",\"Fl\",\"Fl\",\"Fl\",\"Fl\",\"Fl\",\"Fl\",\"Fl\",\"Fl\",\"Fl\",\"Fl\",\"Fl\",\"Fl\",\"Fl\",\"Gr\",\"Gr\",\"Gr\",\"Gr\",\"Gr\",\"Gr\",\"Gr\",\"Gr\",\"Gr\",\"Gr\",\"Gr\",\"Gr\",\"Gr\",\"Gr\",\"Gr\",\"Gr\",\"Gr\",\"Gr\",\"Gr\",\"Gr\",\"Gr\",\"Gr\",\"Gr\",\"Gr\",\"Gr\",\"Gr\",\"Gr\",\"Gr\",\"Gr\",\"Gr\"],\"y\":[0.062,0.062,0.047,0.05,0.05,0.049,0.064,0.046,0.048,0.051,0.04,0.035,0.047,0.037,0.041,0.042,0.077,0.073,0.082,0.071,0.079,0.068,0.054,0.072,0.046,0.076,0.062,0.08,0.057,0.051,0.045,0.069,0.064,0.06,0.068,0.053,0.052,0.084,0.062,0.05,0.052,0.05,0.058,0.052,0.063,0.054,0.069,0.063,0.053,0.045,0.055,0.056,0.051,0.054,0.052,0.049,0.051,0.068,0.059,0.055,0.07],\"type\":\"box\"},{\"name\":\"Col\",\"x\":[\"Fl\",\"Fl\",\"Fl\",\"Fl\",\"Fl\",\"Fl\",\"Fl\",\"Fl\",\"Fl\",\"Fl\",\"Fl\",\"Fl\",\"Fl\",\"Fl\",\"Fl\",\"Fl\",\"Fl\",\"Fl\",\"Fl\",\"Fl\",\"Fl\",\"Fl\",\"Fl\",\"Fl\",\"Fl\",\"Fl\",\"Fl\",\"Fl\",\"Fl\",\"Fl\",\"Fl\",\"Fl\",\"Fl\",\"Gr\",\"Gr\",\"Gr\",\"Gr\",\"Gr\",\"Gr\",\"Gr\",\"Gr\",\"Gr\",\"Gr\",\"Gr\",\"Gr\",\"Gr\",\"Gr\",\"Gr\",\"Gr\",\"Gr\",\"Gr\",\"Gr\",\"Gr\",\"Gr\",\"Gr\",\"Gr\",\"Gr\",\"Gr\",\"Gr\",\"Gr\",\"Gr\",\"Gr\"],\"y\":[0.045,0.045,0.063,0.043,0.064,0.036,0.054,0.04,0.048,0.035,0.038,0.053,0.069,0.056,0.041,0.049,0.069,0.068,0.044,0.046,0.06,0.068,0.054,0.044,0.051,0.044,0.046,0.05,0.06,0.055,0.048,0.045,0.055,0.076,0.077,0.047,0.052,0.077,0.051,0.048,0.066,0.058,0.049,0.046,0.055,0.065,0.068,0.049,0.054,0.056,0.054,0.054,0.055,0.056,0.046,0.046,0.044,0.051,0.05,0.06,0.047,0.05],\"type\":\"box\"}],                        {\"template\":{\"data\":{\"bar\":[{\"error_x\":{\"color\":\"#2a3f5f\"},\"error_y\":{\"color\":\"#2a3f5f\"},\"marker\":{\"line\":{\"color\":\"#E5ECF6\",\"width\":0.5},\"pattern\":{\"fillmode\":\"overlay\",\"size\":10,\"solidity\":0.2}},\"type\":\"bar\"}],\"barpolar\":[{\"marker\":{\"line\":{\"color\":\"#E5ECF6\",\"width\":0.5},\"pattern\":{\"fillmode\":\"overlay\",\"size\":10,\"solidity\":0.2}},\"type\":\"barpolar\"}],\"carpet\":[{\"aaxis\":{\"endlinecolor\":\"#2a3f5f\",\"gridcolor\":\"white\",\"linecolor\":\"white\",\"minorgridcolor\":\"white\",\"startlinecolor\":\"#2a3f5f\"},\"baxis\":{\"endlinecolor\":\"#2a3f5f\",\"gridcolor\":\"white\",\"linecolor\":\"white\",\"minorgridcolor\":\"white\",\"startlinecolor\":\"#2a3f5f\"},\"type\":\"carpet\"}],\"choropleth\":[{\"colorbar\":{\"outlinewidth\":0,\"ticks\":\"\"},\"type\":\"choropleth\"}],\"contour\":[{\"colorbar\":{\"outlinewidth\":0,\"ticks\":\"\"},\"colorscale\":[[0.0,\"#0d0887\"],[0.1111111111111111,\"#46039f\"],[0.2222222222222222,\"#7201a8\"],[0.3333333333333333,\"#9c179e\"],[0.4444444444444444,\"#bd3786\"],[0.5555555555555556,\"#d8576b\"],[0.6666666666666666,\"#ed7953\"],[0.7777777777777778,\"#fb9f3a\"],[0.8888888888888888,\"#fdca26\"],[1.0,\"#f0f921\"]],\"type\":\"contour\"}],\"contourcarpet\":[{\"colorbar\":{\"outlinewidth\":0,\"ticks\":\"\"},\"type\":\"contourcarpet\"}],\"heatmap\":[{\"colorbar\":{\"outlinewidth\":0,\"ticks\":\"\"},\"colorscale\":[[0.0,\"#0d0887\"],[0.1111111111111111,\"#46039f\"],[0.2222222222222222,\"#7201a8\"],[0.3333333333333333,\"#9c179e\"],[0.4444444444444444,\"#bd3786\"],[0.5555555555555556,\"#d8576b\"],[0.6666666666666666,\"#ed7953\"],[0.7777777777777778,\"#fb9f3a\"],[0.8888888888888888,\"#fdca26\"],[1.0,\"#f0f921\"]],\"type\":\"heatmap\"}],\"heatmapgl\":[{\"colorbar\":{\"outlinewidth\":0,\"ticks\":\"\"},\"colorscale\":[[0.0,\"#0d0887\"],[0.1111111111111111,\"#46039f\"],[0.2222222222222222,\"#7201a8\"],[0.3333333333333333,\"#9c179e\"],[0.4444444444444444,\"#bd3786\"],[0.5555555555555556,\"#d8576b\"],[0.6666666666666666,\"#ed7953\"],[0.7777777777777778,\"#fb9f3a\"],[0.8888888888888888,\"#fdca26\"],[1.0,\"#f0f921\"]],\"type\":\"heatmapgl\"}],\"histogram\":[{\"marker\":{\"pattern\":{\"fillmode\":\"overlay\",\"size\":10,\"solidity\":0.2}},\"type\":\"histogram\"}],\"histogram2d\":[{\"colorbar\":{\"outlinewidth\":0,\"ticks\":\"\"},\"colorscale\":[[0.0,\"#0d0887\"],[0.1111111111111111,\"#46039f\"],[0.2222222222222222,\"#7201a8\"],[0.3333333333333333,\"#9c179e\"],[0.4444444444444444,\"#bd3786\"],[0.5555555555555556,\"#d8576b\"],[0.6666666666666666,\"#ed7953\"],[0.7777777777777778,\"#fb9f3a\"],[0.8888888888888888,\"#fdca26\"],[1.0,\"#f0f921\"]],\"type\":\"histogram2d\"}],\"histogram2dcontour\":[{\"colorbar\":{\"outlinewidth\":0,\"ticks\":\"\"},\"colorscale\":[[0.0,\"#0d0887\"],[0.1111111111111111,\"#46039f\"],[0.2222222222222222,\"#7201a8\"],[0.3333333333333333,\"#9c179e\"],[0.4444444444444444,\"#bd3786\"],[0.5555555555555556,\"#d8576b\"],[0.6666666666666666,\"#ed7953\"],[0.7777777777777778,\"#fb9f3a\"],[0.8888888888888888,\"#fdca26\"],[1.0,\"#f0f921\"]],\"type\":\"histogram2dcontour\"}],\"mesh3d\":[{\"colorbar\":{\"outlinewidth\":0,\"ticks\":\"\"},\"type\":\"mesh3d\"}],\"parcoords\":[{\"line\":{\"colorbar\":{\"outlinewidth\":0,\"ticks\":\"\"}},\"type\":\"parcoords\"}],\"pie\":[{\"automargin\":true,\"type\":\"pie\"}],\"scatter\":[{\"marker\":{\"colorbar\":{\"outlinewidth\":0,\"ticks\":\"\"}},\"type\":\"scatter\"}],\"scatter3d\":[{\"line\":{\"colorbar\":{\"outlinewidth\":0,\"ticks\":\"\"}},\"marker\":{\"colorbar\":{\"outlinewidth\":0,\"ticks\":\"\"}},\"type\":\"scatter3d\"}],\"scattercarpet\":[{\"marker\":{\"colorbar\":{\"outlinewidth\":0,\"ticks\":\"\"}},\"type\":\"scattercarpet\"}],\"scattergeo\":[{\"marker\":{\"colorbar\":{\"outlinewidth\":0,\"ticks\":\"\"}},\"type\":\"scattergeo\"}],\"scattergl\":[{\"marker\":{\"colorbar\":{\"outlinewidth\":0,\"ticks\":\"\"}},\"type\":\"scattergl\"}],\"scattermapbox\":[{\"marker\":{\"colorbar\":{\"outlinewidth\":0,\"ticks\":\"\"}},\"type\":\"scattermapbox\"}],\"scatterpolar\":[{\"marker\":{\"colorbar\":{\"outlinewidth\":0,\"ticks\":\"\"}},\"type\":\"scatterpolar\"}],\"scatterpolargl\":[{\"marker\":{\"colorbar\":{\"outlinewidth\":0,\"ticks\":\"\"}},\"type\":\"scatterpolargl\"}],\"scatterternary\":[{\"marker\":{\"colorbar\":{\"outlinewidth\":0,\"ticks\":\"\"}},\"type\":\"scatterternary\"}],\"surface\":[{\"colorbar\":{\"outlinewidth\":0,\"ticks\":\"\"},\"colorscale\":[[0.0,\"#0d0887\"],[0.1111111111111111,\"#46039f\"],[0.2222222222222222,\"#7201a8\"],[0.3333333333333333,\"#9c179e\"],[0.4444444444444444,\"#bd3786\"],[0.5555555555555556,\"#d8576b\"],[0.6666666666666666,\"#ed7953\"],[0.7777777777777778,\"#fb9f3a\"],[0.8888888888888888,\"#fdca26\"],[1.0,\"#f0f921\"]],\"type\":\"surface\"}],\"table\":[{\"cells\":{\"fill\":{\"color\":\"#EBF0F8\"},\"line\":{\"color\":\"white\"}},\"header\":{\"fill\":{\"color\":\"#C8D4E3\"},\"line\":{\"color\":\"white\"}},\"type\":\"table\"}]},\"layout\":{\"annotationdefaults\":{\"arrowcolor\":\"#2a3f5f\",\"arrowhead\":0,\"arrowwidth\":1},\"autotypenumbers\":\"strict\",\"coloraxis\":{\"colorbar\":{\"outlinewidth\":0,\"ticks\":\"\"}},\"colorscale\":{\"diverging\":[[0,\"#8e0152\"],[0.1,\"#c51b7d\"],[0.2,\"#de77ae\"],[0.3,\"#f1b6da\"],[0.4,\"#fde0ef\"],[0.5,\"#f7f7f7\"],[0.6,\"#e6f5d0\"],[0.7,\"#b8e186\"],[0.8,\"#7fbc41\"],[0.9,\"#4d9221\"],[1,\"#276419\"]],\"sequential\":[[0.0,\"#0d0887\"],[0.1111111111111111,\"#46039f\"],[0.2222222222222222,\"#7201a8\"],[0.3333333333333333,\"#9c179e\"],[0.4444444444444444,\"#bd3786\"],[0.5555555555555556,\"#d8576b\"],[0.6666666666666666,\"#ed7953\"],[0.7777777777777778,\"#fb9f3a\"],[0.8888888888888888,\"#fdca26\"],[1.0,\"#f0f921\"]],\"sequentialminus\":[[0.0,\"#0d0887\"],[0.1111111111111111,\"#46039f\"],[0.2222222222222222,\"#7201a8\"],[0.3333333333333333,\"#9c179e\"],[0.4444444444444444,\"#bd3786\"],[0.5555555555555556,\"#d8576b\"],[0.6666666666666666,\"#ed7953\"],[0.7777777777777778,\"#fb9f3a\"],[0.8888888888888888,\"#fdca26\"],[1.0,\"#f0f921\"]]},\"colorway\":[\"#636efa\",\"#EF553B\",\"#00cc96\",\"#ab63fa\",\"#FFA15A\",\"#19d3f3\",\"#FF6692\",\"#B6E880\",\"#FF97FF\",\"#FECB52\"],\"font\":{\"color\":\"#2a3f5f\"},\"geo\":{\"bgcolor\":\"white\",\"lakecolor\":\"white\",\"landcolor\":\"#E5ECF6\",\"showlakes\":true,\"showland\":true,\"subunitcolor\":\"white\"},\"hoverlabel\":{\"align\":\"left\"},\"hovermode\":\"closest\",\"mapbox\":{\"style\":\"light\"},\"paper_bgcolor\":\"white\",\"plot_bgcolor\":\"#E5ECF6\",\"polar\":{\"angularaxis\":{\"gridcolor\":\"white\",\"linecolor\":\"white\",\"ticks\":\"\"},\"bgcolor\":\"#E5ECF6\",\"radialaxis\":{\"gridcolor\":\"white\",\"linecolor\":\"white\",\"ticks\":\"\"}},\"scene\":{\"xaxis\":{\"backgroundcolor\":\"#E5ECF6\",\"gridcolor\":\"white\",\"gridwidth\":2,\"linecolor\":\"white\",\"showbackground\":true,\"ticks\":\"\",\"zerolinecolor\":\"white\"},\"yaxis\":{\"backgroundcolor\":\"#E5ECF6\",\"gridcolor\":\"white\",\"gridwidth\":2,\"linecolor\":\"white\",\"showbackground\":true,\"ticks\":\"\",\"zerolinecolor\":\"white\"},\"zaxis\":{\"backgroundcolor\":\"#E5ECF6\",\"gridcolor\":\"white\",\"gridwidth\":2,\"linecolor\":\"white\",\"showbackground\":true,\"ticks\":\"\",\"zerolinecolor\":\"white\"}},\"shapedefaults\":{\"line\":{\"color\":\"#2a3f5f\"}},\"ternary\":{\"aaxis\":{\"gridcolor\":\"white\",\"linecolor\":\"white\",\"ticks\":\"\"},\"baxis\":{\"gridcolor\":\"white\",\"linecolor\":\"white\",\"ticks\":\"\"},\"bgcolor\":\"#E5ECF6\",\"caxis\":{\"gridcolor\":\"white\",\"linecolor\":\"white\",\"ticks\":\"\"}},\"title\":{\"x\":0.05},\"xaxis\":{\"automargin\":true,\"gridcolor\":\"white\",\"linecolor\":\"white\",\"ticks\":\"\",\"title\":{\"standoff\":15},\"zerolinecolor\":\"white\",\"zerolinewidth\":2},\"yaxis\":{\"automargin\":true,\"gridcolor\":\"white\",\"linecolor\":\"white\",\"ticks\":\"\",\"title\":{\"standoff\":15},\"zerolinecolor\":\"white\",\"zerolinewidth\":2}}},\"yaxis\":{\"title\":{\"text\":\"root diameter\"}},\"boxmode\":\"group\"},                        {\"responsive\": true}                    ).then(function(){\n",
              "                            \n",
              "var gd = document.getElementById('dfdac283-5073-4ee3-8510-824ed615a1f5');\n",
              "var x = new MutationObserver(function (mutations, observer) {{\n",
              "        var display = window.getComputedStyle(gd).display;\n",
              "        if (!display || display === 'none') {{\n",
              "            console.log([gd, 'removed!']);\n",
              "            Plotly.purge(gd);\n",
              "            observer.disconnect();\n",
              "        }}\n",
              "}});\n",
              "\n",
              "// Listen for the removal of the full notebook cells\n",
              "var notebookContainer = gd.closest('#notebook-container');\n",
              "if (notebookContainer) {{\n",
              "    x.observe(notebookContainer, {childList: true});\n",
              "}}\n",
              "\n",
              "// Listen for the clearing of the current output cell\n",
              "var outputEl = gd.closest('.output');\n",
              "if (outputEl) {{\n",
              "    x.observe(outputEl, {childList: true});\n",
              "}}\n",
              "\n",
              "                        })                };                            </script>        </div>\n",
              "</body>\n",
              "</html>"
            ]
          },
          "metadata": {}
        }
      ]
    },
    {
      "cell_type": "markdown",
      "source": [
        "### Root Surface"
      ],
      "metadata": {
        "id": "JBvXQ9OMiyVN"
      }
    },
    {
      "cell_type": "code",
      "source": [
        "# Summary Statistics by the Gravitational environment\n",
        "fig = px.box(root_11, x=\"Ecotype/Genotype\", y=\"surface\", color=\"Spaceflight Treatment\")\n",
        "fig.update_traces(quartilemethod=\"exclusive\") # or \"inclusive\", or \"linear\" by default\n",
        "fig.show()"
      ],
      "metadata": {
        "colab": {
          "base_uri": "https://localhost:8080/",
          "height": 542
        },
        "id": "cnj1-okLi1Ar",
        "outputId": "042d78b4-f42e-4cc4-f755-95708b2a7dc9"
      },
      "execution_count": 44,
      "outputs": [
        {
          "output_type": "display_data",
          "data": {
            "text/html": [
              "<html>\n",
              "<head><meta charset=\"utf-8\" /></head>\n",
              "<body>\n",
              "    <div>            <script src=\"https://cdnjs.cloudflare.com/ajax/libs/mathjax/2.7.5/MathJax.js?config=TeX-AMS-MML_SVG\"></script><script type=\"text/javascript\">if (window.MathJax) {MathJax.Hub.Config({SVG: {font: \"STIX-Web\"}});}</script>                <script type=\"text/javascript\">window.PlotlyConfig = {MathJaxConfig: 'local'};</script>\n",
              "        <script src=\"https://cdn.plot.ly/plotly-2.8.3.min.js\"></script>                <div id=\"000afa89-1ee1-4178-bcd8-08ecba2d3749\" class=\"plotly-graph-div\" style=\"height:525px; width:100%;\"></div>            <script type=\"text/javascript\">                                    window.PLOTLYENV=window.PLOTLYENV || {};                                    if (document.getElementById(\"000afa89-1ee1-4178-bcd8-08ecba2d3749\")) {                    Plotly.newPlot(                        \"000afa89-1ee1-4178-bcd8-08ecba2d3749\",                        [{\"alignmentgroup\":\"True\",\"hovertemplate\":\"Spaceflight Treatment=Fl<br>Ecotype/Genotype=%{x}<br>surface=%{y}<extra></extra>\",\"legendgroup\":\"Fl\",\"marker\":{\"color\":\"#636efa\"},\"name\":\"Fl\",\"notched\":false,\"offsetgroup\":\"Fl\",\"orientation\":\"v\",\"showlegend\":true,\"x\":[\"WS\",\"WS\",\"WS\",\"WS\",\"WS\",\"Col\",\"Col\",\"Col\",\"Col\",\"Col\",\"PhyD\",\"PhyD\",\"PhyD\",\"PhyD\",\"PhyD\",\"WS\",\"WS\",\"WS\",\"WS\",\"WS\",\"Col\",\"Col\",\"Col\",\"Col\",\"Col\",\"PhyD\",\"PhyD\",\"PhyD\",\"PhyD\",\"PhyD\",\"WS\",\"WS\",\"WS\",\"WS\",\"WS\",\"WS\",\"Col\",\"Col\",\"Col\",\"Col\",\"Col\",\"Col\",\"PhyD\",\"PhyD\",\"PhyD\",\"PhyD\",\"PhyD\",\"PhyD\",\"WS\",\"WS\",\"WS\",\"WS\",\"WS\",\"Col\",\"Col\",\"Col\",\"Col\",\"Col\",\"Col\",\"PhyD\",\"PhyD\",\"PhyD\",\"PhyD\",\"PhyD\",\"WS\",\"WS\",\"WS\",\"WS\",\"WS\",\"Col\",\"Col\",\"Col\",\"Col\",\"Col\",\"Col\",\"PhyD\",\"PhyD\",\"PhyD\",\"PhyD\",\"PhyD\",\"WS\",\"WS\",\"WS\",\"WS\",\"WS\",\"Col\",\"Col\",\"Col\",\"Col\",\"Col\",\"PhyD\",\"PhyD\",\"PhyD\",\"PhyD\",\"PhyD\"],\"x0\":\" \",\"xaxis\":\"x\",\"y\":[0.458,0.393,0.7,0.596,0.598,0.458,0.392,0.633,0.74,0.429,0.718,0.321,0.464,0.461,0.691,0.362,0.477,0.256,0.312,0.643,0.411,0.441,0.362,0.456,0.474,0.361,0.268,0.286,0.371,0.499,0.461,0.395,0.615,0.465,0.276,0.468,0.308,0.722,0.592,0.697,0.388,0.459,0.528,0.309,0.339,0.408,0.371,0.391,0.369,0.628,0.53,0.693,0.456,0.673,0.471,0.309,0.434,0.479,0.788,0.873,0.741,0.697,0.624,0.776,0.328,0.426,0.376,0.314,0.5,0.373,0.276,0.489,0.334,0.284,0.412,0.601,0.453,0.831,0.464,0.732,0.413,0.489,0.612,0.673,0.475,0.309,0.185,0.26,0.233,0.185,0.572,0.634,0.493,0.484,0.404],\"y0\":\" \",\"yaxis\":\"y\",\"type\":\"box\",\"quartilemethod\":\"exclusive\"},{\"alignmentgroup\":\"True\",\"hovertemplate\":\"Spaceflight Treatment=Gr<br>Ecotype/Genotype=%{x}<br>surface=%{y}<extra></extra>\",\"legendgroup\":\"Gr\",\"marker\":{\"color\":\"#EF553B\"},\"name\":\"Gr\",\"notched\":false,\"offsetgroup\":\"Gr\",\"orientation\":\"v\",\"showlegend\":true,\"x\":[\"Col\",\"Col\",\"Col\",\"Col\",\"Col\",\"Col\",\"PhyD\",\"PhyD\",\"PhyD\",\"PhyD\",\"PhyD\",\"PhyD\",\"WS\",\"WS\",\"WS\",\"WS\",\"WS\",\"WS\",\"Col\",\"Col\",\"Col\",\"Col\",\"Col\",\"Col\",\"PhyD\",\"PhyD\",\"PhyD\",\"PhyD\",\"PhyD\",\"PhyD\",\"WS\",\"WS\",\"WS\",\"WS\",\"WS\",\"WS\",\"Col\",\"Col\",\"Col\",\"Col\",\"Col\",\"Col\",\"PhyD\",\"PhyD\",\"PhyD\",\"PhyD\",\"PhyD\",\"PhyD\",\"WS\",\"WS\",\"WS\",\"WS\",\"WS\",\"Col\",\"Col\",\"Col\",\"Col\",\"Col\",\"PhyD\",\"PhyD\",\"PhyD\",\"PhyD\",\"PhyD\",\"PhyD\",\"Col\",\"Col\",\"Col\",\"Col\",\"Col\",\"Col\",\"PhyD\",\"PhyD\",\"PhyD\",\"PhyD\",\"PhyD\",\"PhyD\",\"WS\",\"WS\",\"WS\",\"WS\",\"WS\",\"WS\",\"WS\",\"WS\",\"WS\",\"WS\",\"WS\",\"WS\"],\"x0\":\" \",\"xaxis\":\"x\",\"y\":[0.848,1.052,0.481,0.306,0.827,0.564,0.573,0.683,0.56,0.842,0.736,0.672,0.474,0.448,0.486,0.465,0.487,0.644,0.412,0.512,0.578,0.648,0.498,0.623,1.342,0.296,0.414,0.609,0.635,0.779,0.58,0.753,0.703,0.634,0.493,0.523,0.649,0.929,0.548,0.434,0.574,0.648,0.479,0.638,0.487,0.59,0.621,0.553,0.683,0.621,0.564,0.69,0.595,0.557,0.435,0.416,0.394,0.363,0.413,0.714,0.43,0.56,0.524,0.444,0.509,0.533,0.508,0.495,0.575,0.439,0.42,0.477,0.607,0.501,0.494,0.631,0.602,0.509,0.605,0.544,0.603,0.478,0.451,0.447,0.467,0.386,0.37,0.447],\"y0\":\" \",\"yaxis\":\"y\",\"type\":\"box\",\"quartilemethod\":\"exclusive\"}],                        {\"template\":{\"data\":{\"bar\":[{\"error_x\":{\"color\":\"#2a3f5f\"},\"error_y\":{\"color\":\"#2a3f5f\"},\"marker\":{\"line\":{\"color\":\"#E5ECF6\",\"width\":0.5},\"pattern\":{\"fillmode\":\"overlay\",\"size\":10,\"solidity\":0.2}},\"type\":\"bar\"}],\"barpolar\":[{\"marker\":{\"line\":{\"color\":\"#E5ECF6\",\"width\":0.5},\"pattern\":{\"fillmode\":\"overlay\",\"size\":10,\"solidity\":0.2}},\"type\":\"barpolar\"}],\"carpet\":[{\"aaxis\":{\"endlinecolor\":\"#2a3f5f\",\"gridcolor\":\"white\",\"linecolor\":\"white\",\"minorgridcolor\":\"white\",\"startlinecolor\":\"#2a3f5f\"},\"baxis\":{\"endlinecolor\":\"#2a3f5f\",\"gridcolor\":\"white\",\"linecolor\":\"white\",\"minorgridcolor\":\"white\",\"startlinecolor\":\"#2a3f5f\"},\"type\":\"carpet\"}],\"choropleth\":[{\"colorbar\":{\"outlinewidth\":0,\"ticks\":\"\"},\"type\":\"choropleth\"}],\"contour\":[{\"colorbar\":{\"outlinewidth\":0,\"ticks\":\"\"},\"colorscale\":[[0.0,\"#0d0887\"],[0.1111111111111111,\"#46039f\"],[0.2222222222222222,\"#7201a8\"],[0.3333333333333333,\"#9c179e\"],[0.4444444444444444,\"#bd3786\"],[0.5555555555555556,\"#d8576b\"],[0.6666666666666666,\"#ed7953\"],[0.7777777777777778,\"#fb9f3a\"],[0.8888888888888888,\"#fdca26\"],[1.0,\"#f0f921\"]],\"type\":\"contour\"}],\"contourcarpet\":[{\"colorbar\":{\"outlinewidth\":0,\"ticks\":\"\"},\"type\":\"contourcarpet\"}],\"heatmap\":[{\"colorbar\":{\"outlinewidth\":0,\"ticks\":\"\"},\"colorscale\":[[0.0,\"#0d0887\"],[0.1111111111111111,\"#46039f\"],[0.2222222222222222,\"#7201a8\"],[0.3333333333333333,\"#9c179e\"],[0.4444444444444444,\"#bd3786\"],[0.5555555555555556,\"#d8576b\"],[0.6666666666666666,\"#ed7953\"],[0.7777777777777778,\"#fb9f3a\"],[0.8888888888888888,\"#fdca26\"],[1.0,\"#f0f921\"]],\"type\":\"heatmap\"}],\"heatmapgl\":[{\"colorbar\":{\"outlinewidth\":0,\"ticks\":\"\"},\"colorscale\":[[0.0,\"#0d0887\"],[0.1111111111111111,\"#46039f\"],[0.2222222222222222,\"#7201a8\"],[0.3333333333333333,\"#9c179e\"],[0.4444444444444444,\"#bd3786\"],[0.5555555555555556,\"#d8576b\"],[0.6666666666666666,\"#ed7953\"],[0.7777777777777778,\"#fb9f3a\"],[0.8888888888888888,\"#fdca26\"],[1.0,\"#f0f921\"]],\"type\":\"heatmapgl\"}],\"histogram\":[{\"marker\":{\"pattern\":{\"fillmode\":\"overlay\",\"size\":10,\"solidity\":0.2}},\"type\":\"histogram\"}],\"histogram2d\":[{\"colorbar\":{\"outlinewidth\":0,\"ticks\":\"\"},\"colorscale\":[[0.0,\"#0d0887\"],[0.1111111111111111,\"#46039f\"],[0.2222222222222222,\"#7201a8\"],[0.3333333333333333,\"#9c179e\"],[0.4444444444444444,\"#bd3786\"],[0.5555555555555556,\"#d8576b\"],[0.6666666666666666,\"#ed7953\"],[0.7777777777777778,\"#fb9f3a\"],[0.8888888888888888,\"#fdca26\"],[1.0,\"#f0f921\"]],\"type\":\"histogram2d\"}],\"histogram2dcontour\":[{\"colorbar\":{\"outlinewidth\":0,\"ticks\":\"\"},\"colorscale\":[[0.0,\"#0d0887\"],[0.1111111111111111,\"#46039f\"],[0.2222222222222222,\"#7201a8\"],[0.3333333333333333,\"#9c179e\"],[0.4444444444444444,\"#bd3786\"],[0.5555555555555556,\"#d8576b\"],[0.6666666666666666,\"#ed7953\"],[0.7777777777777778,\"#fb9f3a\"],[0.8888888888888888,\"#fdca26\"],[1.0,\"#f0f921\"]],\"type\":\"histogram2dcontour\"}],\"mesh3d\":[{\"colorbar\":{\"outlinewidth\":0,\"ticks\":\"\"},\"type\":\"mesh3d\"}],\"parcoords\":[{\"line\":{\"colorbar\":{\"outlinewidth\":0,\"ticks\":\"\"}},\"type\":\"parcoords\"}],\"pie\":[{\"automargin\":true,\"type\":\"pie\"}],\"scatter\":[{\"marker\":{\"colorbar\":{\"outlinewidth\":0,\"ticks\":\"\"}},\"type\":\"scatter\"}],\"scatter3d\":[{\"line\":{\"colorbar\":{\"outlinewidth\":0,\"ticks\":\"\"}},\"marker\":{\"colorbar\":{\"outlinewidth\":0,\"ticks\":\"\"}},\"type\":\"scatter3d\"}],\"scattercarpet\":[{\"marker\":{\"colorbar\":{\"outlinewidth\":0,\"ticks\":\"\"}},\"type\":\"scattercarpet\"}],\"scattergeo\":[{\"marker\":{\"colorbar\":{\"outlinewidth\":0,\"ticks\":\"\"}},\"type\":\"scattergeo\"}],\"scattergl\":[{\"marker\":{\"colorbar\":{\"outlinewidth\":0,\"ticks\":\"\"}},\"type\":\"scattergl\"}],\"scattermapbox\":[{\"marker\":{\"colorbar\":{\"outlinewidth\":0,\"ticks\":\"\"}},\"type\":\"scattermapbox\"}],\"scatterpolar\":[{\"marker\":{\"colorbar\":{\"outlinewidth\":0,\"ticks\":\"\"}},\"type\":\"scatterpolar\"}],\"scatterpolargl\":[{\"marker\":{\"colorbar\":{\"outlinewidth\":0,\"ticks\":\"\"}},\"type\":\"scatterpolargl\"}],\"scatterternary\":[{\"marker\":{\"colorbar\":{\"outlinewidth\":0,\"ticks\":\"\"}},\"type\":\"scatterternary\"}],\"surface\":[{\"colorbar\":{\"outlinewidth\":0,\"ticks\":\"\"},\"colorscale\":[[0.0,\"#0d0887\"],[0.1111111111111111,\"#46039f\"],[0.2222222222222222,\"#7201a8\"],[0.3333333333333333,\"#9c179e\"],[0.4444444444444444,\"#bd3786\"],[0.5555555555555556,\"#d8576b\"],[0.6666666666666666,\"#ed7953\"],[0.7777777777777778,\"#fb9f3a\"],[0.8888888888888888,\"#fdca26\"],[1.0,\"#f0f921\"]],\"type\":\"surface\"}],\"table\":[{\"cells\":{\"fill\":{\"color\":\"#EBF0F8\"},\"line\":{\"color\":\"white\"}},\"header\":{\"fill\":{\"color\":\"#C8D4E3\"},\"line\":{\"color\":\"white\"}},\"type\":\"table\"}]},\"layout\":{\"annotationdefaults\":{\"arrowcolor\":\"#2a3f5f\",\"arrowhead\":0,\"arrowwidth\":1},\"autotypenumbers\":\"strict\",\"coloraxis\":{\"colorbar\":{\"outlinewidth\":0,\"ticks\":\"\"}},\"colorscale\":{\"diverging\":[[0,\"#8e0152\"],[0.1,\"#c51b7d\"],[0.2,\"#de77ae\"],[0.3,\"#f1b6da\"],[0.4,\"#fde0ef\"],[0.5,\"#f7f7f7\"],[0.6,\"#e6f5d0\"],[0.7,\"#b8e186\"],[0.8,\"#7fbc41\"],[0.9,\"#4d9221\"],[1,\"#276419\"]],\"sequential\":[[0.0,\"#0d0887\"],[0.1111111111111111,\"#46039f\"],[0.2222222222222222,\"#7201a8\"],[0.3333333333333333,\"#9c179e\"],[0.4444444444444444,\"#bd3786\"],[0.5555555555555556,\"#d8576b\"],[0.6666666666666666,\"#ed7953\"],[0.7777777777777778,\"#fb9f3a\"],[0.8888888888888888,\"#fdca26\"],[1.0,\"#f0f921\"]],\"sequentialminus\":[[0.0,\"#0d0887\"],[0.1111111111111111,\"#46039f\"],[0.2222222222222222,\"#7201a8\"],[0.3333333333333333,\"#9c179e\"],[0.4444444444444444,\"#bd3786\"],[0.5555555555555556,\"#d8576b\"],[0.6666666666666666,\"#ed7953\"],[0.7777777777777778,\"#fb9f3a\"],[0.8888888888888888,\"#fdca26\"],[1.0,\"#f0f921\"]]},\"colorway\":[\"#636efa\",\"#EF553B\",\"#00cc96\",\"#ab63fa\",\"#FFA15A\",\"#19d3f3\",\"#FF6692\",\"#B6E880\",\"#FF97FF\",\"#FECB52\"],\"font\":{\"color\":\"#2a3f5f\"},\"geo\":{\"bgcolor\":\"white\",\"lakecolor\":\"white\",\"landcolor\":\"#E5ECF6\",\"showlakes\":true,\"showland\":true,\"subunitcolor\":\"white\"},\"hoverlabel\":{\"align\":\"left\"},\"hovermode\":\"closest\",\"mapbox\":{\"style\":\"light\"},\"paper_bgcolor\":\"white\",\"plot_bgcolor\":\"#E5ECF6\",\"polar\":{\"angularaxis\":{\"gridcolor\":\"white\",\"linecolor\":\"white\",\"ticks\":\"\"},\"bgcolor\":\"#E5ECF6\",\"radialaxis\":{\"gridcolor\":\"white\",\"linecolor\":\"white\",\"ticks\":\"\"}},\"scene\":{\"xaxis\":{\"backgroundcolor\":\"#E5ECF6\",\"gridcolor\":\"white\",\"gridwidth\":2,\"linecolor\":\"white\",\"showbackground\":true,\"ticks\":\"\",\"zerolinecolor\":\"white\"},\"yaxis\":{\"backgroundcolor\":\"#E5ECF6\",\"gridcolor\":\"white\",\"gridwidth\":2,\"linecolor\":\"white\",\"showbackground\":true,\"ticks\":\"\",\"zerolinecolor\":\"white\"},\"zaxis\":{\"backgroundcolor\":\"#E5ECF6\",\"gridcolor\":\"white\",\"gridwidth\":2,\"linecolor\":\"white\",\"showbackground\":true,\"ticks\":\"\",\"zerolinecolor\":\"white\"}},\"shapedefaults\":{\"line\":{\"color\":\"#2a3f5f\"}},\"ternary\":{\"aaxis\":{\"gridcolor\":\"white\",\"linecolor\":\"white\",\"ticks\":\"\"},\"baxis\":{\"gridcolor\":\"white\",\"linecolor\":\"white\",\"ticks\":\"\"},\"bgcolor\":\"#E5ECF6\",\"caxis\":{\"gridcolor\":\"white\",\"linecolor\":\"white\",\"ticks\":\"\"}},\"title\":{\"x\":0.05},\"xaxis\":{\"automargin\":true,\"gridcolor\":\"white\",\"linecolor\":\"white\",\"ticks\":\"\",\"title\":{\"standoff\":15},\"zerolinecolor\":\"white\",\"zerolinewidth\":2},\"yaxis\":{\"automargin\":true,\"gridcolor\":\"white\",\"linecolor\":\"white\",\"ticks\":\"\",\"title\":{\"standoff\":15},\"zerolinecolor\":\"white\",\"zerolinewidth\":2}}},\"xaxis\":{\"anchor\":\"y\",\"domain\":[0.0,1.0],\"title\":{\"text\":\"Ecotype/Genotype\"}},\"yaxis\":{\"anchor\":\"x\",\"domain\":[0.0,1.0],\"title\":{\"text\":\"surface\"}},\"legend\":{\"title\":{\"text\":\"Spaceflight Treatment\"},\"tracegroupgap\":0},\"margin\":{\"t\":60},\"boxmode\":\"group\"},                        {\"responsive\": true}                    ).then(function(){\n",
              "                            \n",
              "var gd = document.getElementById('000afa89-1ee1-4178-bcd8-08ecba2d3749');\n",
              "var x = new MutationObserver(function (mutations, observer) {{\n",
              "        var display = window.getComputedStyle(gd).display;\n",
              "        if (!display || display === 'none') {{\n",
              "            console.log([gd, 'removed!']);\n",
              "            Plotly.purge(gd);\n",
              "            observer.disconnect();\n",
              "        }}\n",
              "}});\n",
              "\n",
              "// Listen for the removal of the full notebook cells\n",
              "var notebookContainer = gd.closest('#notebook-container');\n",
              "if (notebookContainer) {{\n",
              "    x.observe(notebookContainer, {childList: true});\n",
              "}}\n",
              "\n",
              "// Listen for the clearing of the current output cell\n",
              "var outputEl = gd.closest('.output');\n",
              "if (outputEl) {{\n",
              "    x.observe(outputEl, {childList: true});\n",
              "}}\n",
              "\n",
              "                        })                };                            </script>        </div>\n",
              "</body>\n",
              "</html>"
            ]
          },
          "metadata": {}
        }
      ]
    },
    {
      "cell_type": "code",
      "source": [
        "# Summary Statistics by the Gravitational environment\n",
        "fig = px.box(root_11, x=\"Illumination trestment 2\", y=\"surface\", color=\"Spaceflight Treatment\")\n",
        "fig.update_traces(quartilemethod=\"exclusive\") # or \"inclusive\", or \"linear\" by default\n",
        "fig.show()"
      ],
      "metadata": {
        "colab": {
          "base_uri": "https://localhost:8080/",
          "height": 542
        },
        "id": "atUAmg8XkIKg",
        "outputId": "999edd85-8003-41ea-c23d-7ab8045af9e5"
      },
      "execution_count": 45,
      "outputs": [
        {
          "output_type": "display_data",
          "data": {
            "text/html": [
              "<html>\n",
              "<head><meta charset=\"utf-8\" /></head>\n",
              "<body>\n",
              "    <div>            <script src=\"https://cdnjs.cloudflare.com/ajax/libs/mathjax/2.7.5/MathJax.js?config=TeX-AMS-MML_SVG\"></script><script type=\"text/javascript\">if (window.MathJax) {MathJax.Hub.Config({SVG: {font: \"STIX-Web\"}});}</script>                <script type=\"text/javascript\">window.PlotlyConfig = {MathJaxConfig: 'local'};</script>\n",
              "        <script src=\"https://cdn.plot.ly/plotly-2.8.3.min.js\"></script>                <div id=\"00b602d0-51ed-437d-b856-db71d3c26480\" class=\"plotly-graph-div\" style=\"height:525px; width:100%;\"></div>            <script type=\"text/javascript\">                                    window.PLOTLYENV=window.PLOTLYENV || {};                                    if (document.getElementById(\"00b602d0-51ed-437d-b856-db71d3c26480\")) {                    Plotly.newPlot(                        \"00b602d0-51ed-437d-b856-db71d3c26480\",                        [{\"alignmentgroup\":\"True\",\"hovertemplate\":\"Spaceflight Treatment=Fl<br>Illumination trestment 2=%{x}<br>surface=%{y}<extra></extra>\",\"legendgroup\":\"Fl\",\"marker\":{\"color\":\"#636efa\"},\"name\":\"Fl\",\"notched\":false,\"offsetgroup\":\"Fl\",\"orientation\":\"v\",\"showlegend\":true,\"x\":[\"Dark\",\"Dark\",\"Dark\",\"Dark\",\"Dark\",\"Dark\",\"Dark\",\"Dark\",\"Dark\",\"Dark\",\"Dark\",\"Dark\",\"Dark\",\"Dark\",\"Dark\",\"Dark\",\"Dark\",\"Dark\",\"Dark\",\"Dark\",\"Dark\",\"Dark\",\"Dark\",\"Dark\",\"Dark\",\"Dark\",\"Dark\",\"Dark\",\"Dark\",\"Dark\",\"Dark\",\"Dark\",\"Dark\",\"Dark\",\"Dark\",\"Dark\",\"Dark\",\"Dark\",\"Dark\",\"Dark\",\"Dark\",\"Dark\",\"Dark\",\"Dark\",\"Dark\",\"Dark\",\"Dark\",\"Dark\",\"Light\",\"Light\",\"Light\",\"Light\",\"Light\",\"Light\",\"Light\",\"Light\",\"Light\",\"Light\",\"Light\",\"Light\",\"Light\",\"Light\",\"Light\",\"Light\",\"Light\",\"Light\",\"Light\",\"Light\",\"Light\",\"Light\",\"Light\",\"Light\",\"Light\",\"Light\",\"Light\",\"Light\",\"Light\",\"Light\",\"Light\",\"Light\",\"Light\",\"Light\",\"Light\",\"Light\",\"Light\",\"Light\",\"Light\",\"Light\",\"Light\",\"Light\",\"Light\",\"Light\",\"Light\",\"Light\",\"Light\"],\"x0\":\" \",\"xaxis\":\"x\",\"y\":[0.458,0.393,0.7,0.596,0.598,0.458,0.392,0.633,0.74,0.429,0.718,0.321,0.464,0.461,0.691,0.362,0.477,0.256,0.312,0.643,0.411,0.441,0.362,0.456,0.474,0.361,0.268,0.286,0.371,0.499,0.461,0.395,0.615,0.465,0.276,0.468,0.308,0.722,0.592,0.697,0.388,0.459,0.528,0.309,0.339,0.408,0.371,0.391,0.369,0.628,0.53,0.693,0.456,0.673,0.471,0.309,0.434,0.479,0.788,0.873,0.741,0.697,0.624,0.776,0.328,0.426,0.376,0.314,0.5,0.373,0.276,0.489,0.334,0.284,0.412,0.601,0.453,0.831,0.464,0.732,0.413,0.489,0.612,0.673,0.475,0.309,0.185,0.26,0.233,0.185,0.572,0.634,0.493,0.484,0.404],\"y0\":\" \",\"yaxis\":\"y\",\"type\":\"box\",\"quartilemethod\":\"exclusive\"},{\"alignmentgroup\":\"True\",\"hovertemplate\":\"Spaceflight Treatment=Gr<br>Illumination trestment 2=%{x}<br>surface=%{y}<extra></extra>\",\"legendgroup\":\"Gr\",\"marker\":{\"color\":\"#EF553B\"},\"name\":\"Gr\",\"notched\":false,\"offsetgroup\":\"Gr\",\"orientation\":\"v\",\"showlegend\":true,\"x\":[\"Dark\",\"Dark\",\"Dark\",\"Dark\",\"Dark\",\"Dark\",\"Dark\",\"Dark\",\"Dark\",\"Dark\",\"Dark\",\"Dark\",\"Dark\",\"Dark\",\"Dark\",\"Dark\",\"Dark\",\"Dark\",\"Dark\",\"Dark\",\"Dark\",\"Dark\",\"Dark\",\"Dark\",\"Dark\",\"Dark\",\"Dark\",\"Dark\",\"Dark\",\"Dark\",\"Dark\",\"Dark\",\"Dark\",\"Dark\",\"Dark\",\"Dark\",\"Dark\",\"Dark\",\"Dark\",\"Dark\",\"Dark\",\"Dark\",\"Dark\",\"Dark\",\"Dark\",\"Dark\",\"Dark\",\"Dark\",\"Light\",\"Light\",\"Light\",\"Light\",\"Light\",\"Light\",\"Light\",\"Light\",\"Light\",\"Light\",\"Light\",\"Light\",\"Light\",\"Light\",\"Light\",\"Light\",\"Light\",\"Light\",\"Light\",\"Light\",\"Light\",\"Light\",\"Light\",\"Light\",\"Light\",\"Light\",\"Light\",\"Light\",\"Light\",\"Light\",\"Light\",\"Light\",\"Light\",\"Light\",\"Light\",\"Light\",\"Light\",\"Light\",\"Light\",\"Light\"],\"x0\":\" \",\"xaxis\":\"x\",\"y\":[0.848,1.052,0.481,0.306,0.827,0.564,0.573,0.683,0.56,0.842,0.736,0.672,0.474,0.448,0.486,0.465,0.487,0.644,0.412,0.512,0.578,0.648,0.498,0.623,1.342,0.296,0.414,0.609,0.635,0.779,0.58,0.753,0.703,0.634,0.493,0.523,0.649,0.929,0.548,0.434,0.574,0.648,0.479,0.638,0.487,0.59,0.621,0.553,0.683,0.621,0.564,0.69,0.595,0.557,0.435,0.416,0.394,0.363,0.413,0.714,0.43,0.56,0.524,0.444,0.509,0.533,0.508,0.495,0.575,0.439,0.42,0.477,0.607,0.501,0.494,0.631,0.602,0.509,0.605,0.544,0.603,0.478,0.451,0.447,0.467,0.386,0.37,0.447],\"y0\":\" \",\"yaxis\":\"y\",\"type\":\"box\",\"quartilemethod\":\"exclusive\"}],                        {\"template\":{\"data\":{\"bar\":[{\"error_x\":{\"color\":\"#2a3f5f\"},\"error_y\":{\"color\":\"#2a3f5f\"},\"marker\":{\"line\":{\"color\":\"#E5ECF6\",\"width\":0.5},\"pattern\":{\"fillmode\":\"overlay\",\"size\":10,\"solidity\":0.2}},\"type\":\"bar\"}],\"barpolar\":[{\"marker\":{\"line\":{\"color\":\"#E5ECF6\",\"width\":0.5},\"pattern\":{\"fillmode\":\"overlay\",\"size\":10,\"solidity\":0.2}},\"type\":\"barpolar\"}],\"carpet\":[{\"aaxis\":{\"endlinecolor\":\"#2a3f5f\",\"gridcolor\":\"white\",\"linecolor\":\"white\",\"minorgridcolor\":\"white\",\"startlinecolor\":\"#2a3f5f\"},\"baxis\":{\"endlinecolor\":\"#2a3f5f\",\"gridcolor\":\"white\",\"linecolor\":\"white\",\"minorgridcolor\":\"white\",\"startlinecolor\":\"#2a3f5f\"},\"type\":\"carpet\"}],\"choropleth\":[{\"colorbar\":{\"outlinewidth\":0,\"ticks\":\"\"},\"type\":\"choropleth\"}],\"contour\":[{\"colorbar\":{\"outlinewidth\":0,\"ticks\":\"\"},\"colorscale\":[[0.0,\"#0d0887\"],[0.1111111111111111,\"#46039f\"],[0.2222222222222222,\"#7201a8\"],[0.3333333333333333,\"#9c179e\"],[0.4444444444444444,\"#bd3786\"],[0.5555555555555556,\"#d8576b\"],[0.6666666666666666,\"#ed7953\"],[0.7777777777777778,\"#fb9f3a\"],[0.8888888888888888,\"#fdca26\"],[1.0,\"#f0f921\"]],\"type\":\"contour\"}],\"contourcarpet\":[{\"colorbar\":{\"outlinewidth\":0,\"ticks\":\"\"},\"type\":\"contourcarpet\"}],\"heatmap\":[{\"colorbar\":{\"outlinewidth\":0,\"ticks\":\"\"},\"colorscale\":[[0.0,\"#0d0887\"],[0.1111111111111111,\"#46039f\"],[0.2222222222222222,\"#7201a8\"],[0.3333333333333333,\"#9c179e\"],[0.4444444444444444,\"#bd3786\"],[0.5555555555555556,\"#d8576b\"],[0.6666666666666666,\"#ed7953\"],[0.7777777777777778,\"#fb9f3a\"],[0.8888888888888888,\"#fdca26\"],[1.0,\"#f0f921\"]],\"type\":\"heatmap\"}],\"heatmapgl\":[{\"colorbar\":{\"outlinewidth\":0,\"ticks\":\"\"},\"colorscale\":[[0.0,\"#0d0887\"],[0.1111111111111111,\"#46039f\"],[0.2222222222222222,\"#7201a8\"],[0.3333333333333333,\"#9c179e\"],[0.4444444444444444,\"#bd3786\"],[0.5555555555555556,\"#d8576b\"],[0.6666666666666666,\"#ed7953\"],[0.7777777777777778,\"#fb9f3a\"],[0.8888888888888888,\"#fdca26\"],[1.0,\"#f0f921\"]],\"type\":\"heatmapgl\"}],\"histogram\":[{\"marker\":{\"pattern\":{\"fillmode\":\"overlay\",\"size\":10,\"solidity\":0.2}},\"type\":\"histogram\"}],\"histogram2d\":[{\"colorbar\":{\"outlinewidth\":0,\"ticks\":\"\"},\"colorscale\":[[0.0,\"#0d0887\"],[0.1111111111111111,\"#46039f\"],[0.2222222222222222,\"#7201a8\"],[0.3333333333333333,\"#9c179e\"],[0.4444444444444444,\"#bd3786\"],[0.5555555555555556,\"#d8576b\"],[0.6666666666666666,\"#ed7953\"],[0.7777777777777778,\"#fb9f3a\"],[0.8888888888888888,\"#fdca26\"],[1.0,\"#f0f921\"]],\"type\":\"histogram2d\"}],\"histogram2dcontour\":[{\"colorbar\":{\"outlinewidth\":0,\"ticks\":\"\"},\"colorscale\":[[0.0,\"#0d0887\"],[0.1111111111111111,\"#46039f\"],[0.2222222222222222,\"#7201a8\"],[0.3333333333333333,\"#9c179e\"],[0.4444444444444444,\"#bd3786\"],[0.5555555555555556,\"#d8576b\"],[0.6666666666666666,\"#ed7953\"],[0.7777777777777778,\"#fb9f3a\"],[0.8888888888888888,\"#fdca26\"],[1.0,\"#f0f921\"]],\"type\":\"histogram2dcontour\"}],\"mesh3d\":[{\"colorbar\":{\"outlinewidth\":0,\"ticks\":\"\"},\"type\":\"mesh3d\"}],\"parcoords\":[{\"line\":{\"colorbar\":{\"outlinewidth\":0,\"ticks\":\"\"}},\"type\":\"parcoords\"}],\"pie\":[{\"automargin\":true,\"type\":\"pie\"}],\"scatter\":[{\"marker\":{\"colorbar\":{\"outlinewidth\":0,\"ticks\":\"\"}},\"type\":\"scatter\"}],\"scatter3d\":[{\"line\":{\"colorbar\":{\"outlinewidth\":0,\"ticks\":\"\"}},\"marker\":{\"colorbar\":{\"outlinewidth\":0,\"ticks\":\"\"}},\"type\":\"scatter3d\"}],\"scattercarpet\":[{\"marker\":{\"colorbar\":{\"outlinewidth\":0,\"ticks\":\"\"}},\"type\":\"scattercarpet\"}],\"scattergeo\":[{\"marker\":{\"colorbar\":{\"outlinewidth\":0,\"ticks\":\"\"}},\"type\":\"scattergeo\"}],\"scattergl\":[{\"marker\":{\"colorbar\":{\"outlinewidth\":0,\"ticks\":\"\"}},\"type\":\"scattergl\"}],\"scattermapbox\":[{\"marker\":{\"colorbar\":{\"outlinewidth\":0,\"ticks\":\"\"}},\"type\":\"scattermapbox\"}],\"scatterpolar\":[{\"marker\":{\"colorbar\":{\"outlinewidth\":0,\"ticks\":\"\"}},\"type\":\"scatterpolar\"}],\"scatterpolargl\":[{\"marker\":{\"colorbar\":{\"outlinewidth\":0,\"ticks\":\"\"}},\"type\":\"scatterpolargl\"}],\"scatterternary\":[{\"marker\":{\"colorbar\":{\"outlinewidth\":0,\"ticks\":\"\"}},\"type\":\"scatterternary\"}],\"surface\":[{\"colorbar\":{\"outlinewidth\":0,\"ticks\":\"\"},\"colorscale\":[[0.0,\"#0d0887\"],[0.1111111111111111,\"#46039f\"],[0.2222222222222222,\"#7201a8\"],[0.3333333333333333,\"#9c179e\"],[0.4444444444444444,\"#bd3786\"],[0.5555555555555556,\"#d8576b\"],[0.6666666666666666,\"#ed7953\"],[0.7777777777777778,\"#fb9f3a\"],[0.8888888888888888,\"#fdca26\"],[1.0,\"#f0f921\"]],\"type\":\"surface\"}],\"table\":[{\"cells\":{\"fill\":{\"color\":\"#EBF0F8\"},\"line\":{\"color\":\"white\"}},\"header\":{\"fill\":{\"color\":\"#C8D4E3\"},\"line\":{\"color\":\"white\"}},\"type\":\"table\"}]},\"layout\":{\"annotationdefaults\":{\"arrowcolor\":\"#2a3f5f\",\"arrowhead\":0,\"arrowwidth\":1},\"autotypenumbers\":\"strict\",\"coloraxis\":{\"colorbar\":{\"outlinewidth\":0,\"ticks\":\"\"}},\"colorscale\":{\"diverging\":[[0,\"#8e0152\"],[0.1,\"#c51b7d\"],[0.2,\"#de77ae\"],[0.3,\"#f1b6da\"],[0.4,\"#fde0ef\"],[0.5,\"#f7f7f7\"],[0.6,\"#e6f5d0\"],[0.7,\"#b8e186\"],[0.8,\"#7fbc41\"],[0.9,\"#4d9221\"],[1,\"#276419\"]],\"sequential\":[[0.0,\"#0d0887\"],[0.1111111111111111,\"#46039f\"],[0.2222222222222222,\"#7201a8\"],[0.3333333333333333,\"#9c179e\"],[0.4444444444444444,\"#bd3786\"],[0.5555555555555556,\"#d8576b\"],[0.6666666666666666,\"#ed7953\"],[0.7777777777777778,\"#fb9f3a\"],[0.8888888888888888,\"#fdca26\"],[1.0,\"#f0f921\"]],\"sequentialminus\":[[0.0,\"#0d0887\"],[0.1111111111111111,\"#46039f\"],[0.2222222222222222,\"#7201a8\"],[0.3333333333333333,\"#9c179e\"],[0.4444444444444444,\"#bd3786\"],[0.5555555555555556,\"#d8576b\"],[0.6666666666666666,\"#ed7953\"],[0.7777777777777778,\"#fb9f3a\"],[0.8888888888888888,\"#fdca26\"],[1.0,\"#f0f921\"]]},\"colorway\":[\"#636efa\",\"#EF553B\",\"#00cc96\",\"#ab63fa\",\"#FFA15A\",\"#19d3f3\",\"#FF6692\",\"#B6E880\",\"#FF97FF\",\"#FECB52\"],\"font\":{\"color\":\"#2a3f5f\"},\"geo\":{\"bgcolor\":\"white\",\"lakecolor\":\"white\",\"landcolor\":\"#E5ECF6\",\"showlakes\":true,\"showland\":true,\"subunitcolor\":\"white\"},\"hoverlabel\":{\"align\":\"left\"},\"hovermode\":\"closest\",\"mapbox\":{\"style\":\"light\"},\"paper_bgcolor\":\"white\",\"plot_bgcolor\":\"#E5ECF6\",\"polar\":{\"angularaxis\":{\"gridcolor\":\"white\",\"linecolor\":\"white\",\"ticks\":\"\"},\"bgcolor\":\"#E5ECF6\",\"radialaxis\":{\"gridcolor\":\"white\",\"linecolor\":\"white\",\"ticks\":\"\"}},\"scene\":{\"xaxis\":{\"backgroundcolor\":\"#E5ECF6\",\"gridcolor\":\"white\",\"gridwidth\":2,\"linecolor\":\"white\",\"showbackground\":true,\"ticks\":\"\",\"zerolinecolor\":\"white\"},\"yaxis\":{\"backgroundcolor\":\"#E5ECF6\",\"gridcolor\":\"white\",\"gridwidth\":2,\"linecolor\":\"white\",\"showbackground\":true,\"ticks\":\"\",\"zerolinecolor\":\"white\"},\"zaxis\":{\"backgroundcolor\":\"#E5ECF6\",\"gridcolor\":\"white\",\"gridwidth\":2,\"linecolor\":\"white\",\"showbackground\":true,\"ticks\":\"\",\"zerolinecolor\":\"white\"}},\"shapedefaults\":{\"line\":{\"color\":\"#2a3f5f\"}},\"ternary\":{\"aaxis\":{\"gridcolor\":\"white\",\"linecolor\":\"white\",\"ticks\":\"\"},\"baxis\":{\"gridcolor\":\"white\",\"linecolor\":\"white\",\"ticks\":\"\"},\"bgcolor\":\"#E5ECF6\",\"caxis\":{\"gridcolor\":\"white\",\"linecolor\":\"white\",\"ticks\":\"\"}},\"title\":{\"x\":0.05},\"xaxis\":{\"automargin\":true,\"gridcolor\":\"white\",\"linecolor\":\"white\",\"ticks\":\"\",\"title\":{\"standoff\":15},\"zerolinecolor\":\"white\",\"zerolinewidth\":2},\"yaxis\":{\"automargin\":true,\"gridcolor\":\"white\",\"linecolor\":\"white\",\"ticks\":\"\",\"title\":{\"standoff\":15},\"zerolinecolor\":\"white\",\"zerolinewidth\":2}}},\"xaxis\":{\"anchor\":\"y\",\"domain\":[0.0,1.0],\"title\":{\"text\":\"Illumination trestment 2\"}},\"yaxis\":{\"anchor\":\"x\",\"domain\":[0.0,1.0],\"title\":{\"text\":\"surface\"}},\"legend\":{\"title\":{\"text\":\"Spaceflight Treatment\"},\"tracegroupgap\":0},\"margin\":{\"t\":60},\"boxmode\":\"group\"},                        {\"responsive\": true}                    ).then(function(){\n",
              "                            \n",
              "var gd = document.getElementById('00b602d0-51ed-437d-b856-db71d3c26480');\n",
              "var x = new MutationObserver(function (mutations, observer) {{\n",
              "        var display = window.getComputedStyle(gd).display;\n",
              "        if (!display || display === 'none') {{\n",
              "            console.log([gd, 'removed!']);\n",
              "            Plotly.purge(gd);\n",
              "            observer.disconnect();\n",
              "        }}\n",
              "}});\n",
              "\n",
              "// Listen for the removal of the full notebook cells\n",
              "var notebookContainer = gd.closest('#notebook-container');\n",
              "if (notebookContainer) {{\n",
              "    x.observe(notebookContainer, {childList: true});\n",
              "}}\n",
              "\n",
              "// Listen for the clearing of the current output cell\n",
              "var outputEl = gd.closest('.output');\n",
              "if (outputEl) {{\n",
              "    x.observe(outputEl, {childList: true});\n",
              "}}\n",
              "\n",
              "                        })                };                            </script>        </div>\n",
              "</body>\n",
              "</html>"
            ]
          },
          "metadata": {}
        }
      ]
    },
    {
      "cell_type": "code",
      "source": [
        "fig = go.Figure()\n",
        "\n",
        "fig.add_trace(go.Box(\n",
        "    y=ws_surface['surface'],\n",
        "    x=ws_surface['Illumination trestment 2'],\n",
        "    name='WS',\n",
        "))\n",
        "fig.add_trace(go.Box(\n",
        "    y=phyd_surface['surface'],\n",
        "    x=phyd_surface['Illumination trestment 2'],\n",
        "    name='PhyD',\n",
        "))\n",
        "fig.add_trace(go.Box(\n",
        "    y=col_surface['surface'],\n",
        "    x=col_surface['Illumination trestment 2'],\n",
        "    name='Col',\n",
        "))\n",
        "\n",
        "\n",
        "fig.update_layout(\n",
        "    yaxis_title='root surface',\n",
        "    boxmode='group' # group together boxes of the different traces for each value of x\n",
        ")\n",
        "fig.show()\n"
      ],
      "metadata": {
        "colab": {
          "base_uri": "https://localhost:8080/",
          "height": 542
        },
        "id": "6DFjMNO9kKtQ",
        "outputId": "2dfce7c0-9a4d-4e1e-9cc2-e82dfa63f6cd"
      },
      "execution_count": 46,
      "outputs": [
        {
          "output_type": "display_data",
          "data": {
            "text/html": [
              "<html>\n",
              "<head><meta charset=\"utf-8\" /></head>\n",
              "<body>\n",
              "    <div>            <script src=\"https://cdnjs.cloudflare.com/ajax/libs/mathjax/2.7.5/MathJax.js?config=TeX-AMS-MML_SVG\"></script><script type=\"text/javascript\">if (window.MathJax) {MathJax.Hub.Config({SVG: {font: \"STIX-Web\"}});}</script>                <script type=\"text/javascript\">window.PlotlyConfig = {MathJaxConfig: 'local'};</script>\n",
              "        <script src=\"https://cdn.plot.ly/plotly-2.8.3.min.js\"></script>                <div id=\"8c55a86a-a670-49f8-a6d5-21eb57eb0e69\" class=\"plotly-graph-div\" style=\"height:525px; width:100%;\"></div>            <script type=\"text/javascript\">                                    window.PLOTLYENV=window.PLOTLYENV || {};                                    if (document.getElementById(\"8c55a86a-a670-49f8-a6d5-21eb57eb0e69\")) {                    Plotly.newPlot(                        \"8c55a86a-a670-49f8-a6d5-21eb57eb0e69\",                        [{\"name\":\"WS\",\"x\":[\"Dark\",\"Dark\",\"Dark\",\"Dark\",\"Dark\",\"Dark\",\"Dark\",\"Dark\",\"Dark\",\"Dark\",\"Dark\",\"Dark\",\"Dark\",\"Dark\",\"Dark\",\"Dark\",\"Light\",\"Light\",\"Light\",\"Light\",\"Light\",\"Light\",\"Light\",\"Light\",\"Light\",\"Light\",\"Light\",\"Light\",\"Light\",\"Light\",\"Light\",\"Dark\",\"Dark\",\"Dark\",\"Dark\",\"Dark\",\"Dark\",\"Dark\",\"Dark\",\"Dark\",\"Dark\",\"Dark\",\"Dark\",\"Light\",\"Light\",\"Light\",\"Light\",\"Light\",\"Light\",\"Light\",\"Light\",\"Light\",\"Light\",\"Light\",\"Light\",\"Light\",\"Light\",\"Light\",\"Light\",\"Light\"],\"y\":[0.458,0.393,0.7,0.596,0.598,0.362,0.477,0.256,0.312,0.643,0.461,0.395,0.615,0.465,0.276,0.468,0.369,0.628,0.53,0.693,0.456,0.328,0.426,0.376,0.314,0.5,0.413,0.489,0.612,0.673,0.475,0.474,0.448,0.486,0.465,0.487,0.644,0.58,0.753,0.703,0.634,0.493,0.523,0.683,0.621,0.564,0.69,0.595,0.602,0.509,0.605,0.544,0.603,0.478,0.451,0.447,0.467,0.386,0.37,0.447],\"type\":\"box\"},{\"name\":\"PhyD\",\"x\":[\"Dark\",\"Dark\",\"Dark\",\"Dark\",\"Dark\",\"Dark\",\"Dark\",\"Dark\",\"Dark\",\"Dark\",\"Dark\",\"Dark\",\"Dark\",\"Dark\",\"Dark\",\"Dark\",\"Light\",\"Light\",\"Light\",\"Light\",\"Light\",\"Light\",\"Light\",\"Light\",\"Light\",\"Light\",\"Light\",\"Light\",\"Light\",\"Light\",\"Light\",\"Dark\",\"Dark\",\"Dark\",\"Dark\",\"Dark\",\"Dark\",\"Dark\",\"Dark\",\"Dark\",\"Dark\",\"Dark\",\"Dark\",\"Dark\",\"Dark\",\"Dark\",\"Dark\",\"Dark\",\"Dark\",\"Light\",\"Light\",\"Light\",\"Light\",\"Light\",\"Light\",\"Light\",\"Light\",\"Light\",\"Light\",\"Light\",\"Light\"],\"y\":[0.718,0.321,0.464,0.461,0.691,0.361,0.268,0.286,0.371,0.499,0.528,0.309,0.339,0.408,0.371,0.391,0.873,0.741,0.697,0.624,0.776,0.601,0.453,0.831,0.464,0.732,0.572,0.634,0.493,0.484,0.404,0.573,0.683,0.56,0.842,0.736,0.672,1.342,0.296,0.414,0.609,0.635,0.779,0.479,0.638,0.487,0.59,0.621,0.553,0.413,0.714,0.43,0.56,0.524,0.444,0.42,0.477,0.607,0.501,0.494,0.631],\"type\":\"box\"},{\"name\":\"Col\",\"x\":[\"Dark\",\"Dark\",\"Dark\",\"Dark\",\"Dark\",\"Dark\",\"Dark\",\"Dark\",\"Dark\",\"Dark\",\"Dark\",\"Dark\",\"Dark\",\"Dark\",\"Dark\",\"Dark\",\"Light\",\"Light\",\"Light\",\"Light\",\"Light\",\"Light\",\"Light\",\"Light\",\"Light\",\"Light\",\"Light\",\"Light\",\"Light\",\"Light\",\"Light\",\"Light\",\"Light\",\"Dark\",\"Dark\",\"Dark\",\"Dark\",\"Dark\",\"Dark\",\"Dark\",\"Dark\",\"Dark\",\"Dark\",\"Dark\",\"Dark\",\"Dark\",\"Dark\",\"Dark\",\"Dark\",\"Dark\",\"Dark\",\"Light\",\"Light\",\"Light\",\"Light\",\"Light\",\"Light\",\"Light\",\"Light\",\"Light\",\"Light\",\"Light\"],\"y\":[0.458,0.392,0.633,0.74,0.429,0.411,0.441,0.362,0.456,0.474,0.308,0.722,0.592,0.697,0.388,0.459,0.673,0.471,0.309,0.434,0.479,0.788,0.373,0.276,0.489,0.334,0.284,0.412,0.309,0.185,0.26,0.233,0.185,0.848,1.052,0.481,0.306,0.827,0.564,0.412,0.512,0.578,0.648,0.498,0.623,0.649,0.929,0.548,0.434,0.574,0.648,0.557,0.435,0.416,0.394,0.363,0.509,0.533,0.508,0.495,0.575,0.439],\"type\":\"box\"}],                        {\"template\":{\"data\":{\"bar\":[{\"error_x\":{\"color\":\"#2a3f5f\"},\"error_y\":{\"color\":\"#2a3f5f\"},\"marker\":{\"line\":{\"color\":\"#E5ECF6\",\"width\":0.5},\"pattern\":{\"fillmode\":\"overlay\",\"size\":10,\"solidity\":0.2}},\"type\":\"bar\"}],\"barpolar\":[{\"marker\":{\"line\":{\"color\":\"#E5ECF6\",\"width\":0.5},\"pattern\":{\"fillmode\":\"overlay\",\"size\":10,\"solidity\":0.2}},\"type\":\"barpolar\"}],\"carpet\":[{\"aaxis\":{\"endlinecolor\":\"#2a3f5f\",\"gridcolor\":\"white\",\"linecolor\":\"white\",\"minorgridcolor\":\"white\",\"startlinecolor\":\"#2a3f5f\"},\"baxis\":{\"endlinecolor\":\"#2a3f5f\",\"gridcolor\":\"white\",\"linecolor\":\"white\",\"minorgridcolor\":\"white\",\"startlinecolor\":\"#2a3f5f\"},\"type\":\"carpet\"}],\"choropleth\":[{\"colorbar\":{\"outlinewidth\":0,\"ticks\":\"\"},\"type\":\"choropleth\"}],\"contour\":[{\"colorbar\":{\"outlinewidth\":0,\"ticks\":\"\"},\"colorscale\":[[0.0,\"#0d0887\"],[0.1111111111111111,\"#46039f\"],[0.2222222222222222,\"#7201a8\"],[0.3333333333333333,\"#9c179e\"],[0.4444444444444444,\"#bd3786\"],[0.5555555555555556,\"#d8576b\"],[0.6666666666666666,\"#ed7953\"],[0.7777777777777778,\"#fb9f3a\"],[0.8888888888888888,\"#fdca26\"],[1.0,\"#f0f921\"]],\"type\":\"contour\"}],\"contourcarpet\":[{\"colorbar\":{\"outlinewidth\":0,\"ticks\":\"\"},\"type\":\"contourcarpet\"}],\"heatmap\":[{\"colorbar\":{\"outlinewidth\":0,\"ticks\":\"\"},\"colorscale\":[[0.0,\"#0d0887\"],[0.1111111111111111,\"#46039f\"],[0.2222222222222222,\"#7201a8\"],[0.3333333333333333,\"#9c179e\"],[0.4444444444444444,\"#bd3786\"],[0.5555555555555556,\"#d8576b\"],[0.6666666666666666,\"#ed7953\"],[0.7777777777777778,\"#fb9f3a\"],[0.8888888888888888,\"#fdca26\"],[1.0,\"#f0f921\"]],\"type\":\"heatmap\"}],\"heatmapgl\":[{\"colorbar\":{\"outlinewidth\":0,\"ticks\":\"\"},\"colorscale\":[[0.0,\"#0d0887\"],[0.1111111111111111,\"#46039f\"],[0.2222222222222222,\"#7201a8\"],[0.3333333333333333,\"#9c179e\"],[0.4444444444444444,\"#bd3786\"],[0.5555555555555556,\"#d8576b\"],[0.6666666666666666,\"#ed7953\"],[0.7777777777777778,\"#fb9f3a\"],[0.8888888888888888,\"#fdca26\"],[1.0,\"#f0f921\"]],\"type\":\"heatmapgl\"}],\"histogram\":[{\"marker\":{\"pattern\":{\"fillmode\":\"overlay\",\"size\":10,\"solidity\":0.2}},\"type\":\"histogram\"}],\"histogram2d\":[{\"colorbar\":{\"outlinewidth\":0,\"ticks\":\"\"},\"colorscale\":[[0.0,\"#0d0887\"],[0.1111111111111111,\"#46039f\"],[0.2222222222222222,\"#7201a8\"],[0.3333333333333333,\"#9c179e\"],[0.4444444444444444,\"#bd3786\"],[0.5555555555555556,\"#d8576b\"],[0.6666666666666666,\"#ed7953\"],[0.7777777777777778,\"#fb9f3a\"],[0.8888888888888888,\"#fdca26\"],[1.0,\"#f0f921\"]],\"type\":\"histogram2d\"}],\"histogram2dcontour\":[{\"colorbar\":{\"outlinewidth\":0,\"ticks\":\"\"},\"colorscale\":[[0.0,\"#0d0887\"],[0.1111111111111111,\"#46039f\"],[0.2222222222222222,\"#7201a8\"],[0.3333333333333333,\"#9c179e\"],[0.4444444444444444,\"#bd3786\"],[0.5555555555555556,\"#d8576b\"],[0.6666666666666666,\"#ed7953\"],[0.7777777777777778,\"#fb9f3a\"],[0.8888888888888888,\"#fdca26\"],[1.0,\"#f0f921\"]],\"type\":\"histogram2dcontour\"}],\"mesh3d\":[{\"colorbar\":{\"outlinewidth\":0,\"ticks\":\"\"},\"type\":\"mesh3d\"}],\"parcoords\":[{\"line\":{\"colorbar\":{\"outlinewidth\":0,\"ticks\":\"\"}},\"type\":\"parcoords\"}],\"pie\":[{\"automargin\":true,\"type\":\"pie\"}],\"scatter\":[{\"marker\":{\"colorbar\":{\"outlinewidth\":0,\"ticks\":\"\"}},\"type\":\"scatter\"}],\"scatter3d\":[{\"line\":{\"colorbar\":{\"outlinewidth\":0,\"ticks\":\"\"}},\"marker\":{\"colorbar\":{\"outlinewidth\":0,\"ticks\":\"\"}},\"type\":\"scatter3d\"}],\"scattercarpet\":[{\"marker\":{\"colorbar\":{\"outlinewidth\":0,\"ticks\":\"\"}},\"type\":\"scattercarpet\"}],\"scattergeo\":[{\"marker\":{\"colorbar\":{\"outlinewidth\":0,\"ticks\":\"\"}},\"type\":\"scattergeo\"}],\"scattergl\":[{\"marker\":{\"colorbar\":{\"outlinewidth\":0,\"ticks\":\"\"}},\"type\":\"scattergl\"}],\"scattermapbox\":[{\"marker\":{\"colorbar\":{\"outlinewidth\":0,\"ticks\":\"\"}},\"type\":\"scattermapbox\"}],\"scatterpolar\":[{\"marker\":{\"colorbar\":{\"outlinewidth\":0,\"ticks\":\"\"}},\"type\":\"scatterpolar\"}],\"scatterpolargl\":[{\"marker\":{\"colorbar\":{\"outlinewidth\":0,\"ticks\":\"\"}},\"type\":\"scatterpolargl\"}],\"scatterternary\":[{\"marker\":{\"colorbar\":{\"outlinewidth\":0,\"ticks\":\"\"}},\"type\":\"scatterternary\"}],\"surface\":[{\"colorbar\":{\"outlinewidth\":0,\"ticks\":\"\"},\"colorscale\":[[0.0,\"#0d0887\"],[0.1111111111111111,\"#46039f\"],[0.2222222222222222,\"#7201a8\"],[0.3333333333333333,\"#9c179e\"],[0.4444444444444444,\"#bd3786\"],[0.5555555555555556,\"#d8576b\"],[0.6666666666666666,\"#ed7953\"],[0.7777777777777778,\"#fb9f3a\"],[0.8888888888888888,\"#fdca26\"],[1.0,\"#f0f921\"]],\"type\":\"surface\"}],\"table\":[{\"cells\":{\"fill\":{\"color\":\"#EBF0F8\"},\"line\":{\"color\":\"white\"}},\"header\":{\"fill\":{\"color\":\"#C8D4E3\"},\"line\":{\"color\":\"white\"}},\"type\":\"table\"}]},\"layout\":{\"annotationdefaults\":{\"arrowcolor\":\"#2a3f5f\",\"arrowhead\":0,\"arrowwidth\":1},\"autotypenumbers\":\"strict\",\"coloraxis\":{\"colorbar\":{\"outlinewidth\":0,\"ticks\":\"\"}},\"colorscale\":{\"diverging\":[[0,\"#8e0152\"],[0.1,\"#c51b7d\"],[0.2,\"#de77ae\"],[0.3,\"#f1b6da\"],[0.4,\"#fde0ef\"],[0.5,\"#f7f7f7\"],[0.6,\"#e6f5d0\"],[0.7,\"#b8e186\"],[0.8,\"#7fbc41\"],[0.9,\"#4d9221\"],[1,\"#276419\"]],\"sequential\":[[0.0,\"#0d0887\"],[0.1111111111111111,\"#46039f\"],[0.2222222222222222,\"#7201a8\"],[0.3333333333333333,\"#9c179e\"],[0.4444444444444444,\"#bd3786\"],[0.5555555555555556,\"#d8576b\"],[0.6666666666666666,\"#ed7953\"],[0.7777777777777778,\"#fb9f3a\"],[0.8888888888888888,\"#fdca26\"],[1.0,\"#f0f921\"]],\"sequentialminus\":[[0.0,\"#0d0887\"],[0.1111111111111111,\"#46039f\"],[0.2222222222222222,\"#7201a8\"],[0.3333333333333333,\"#9c179e\"],[0.4444444444444444,\"#bd3786\"],[0.5555555555555556,\"#d8576b\"],[0.6666666666666666,\"#ed7953\"],[0.7777777777777778,\"#fb9f3a\"],[0.8888888888888888,\"#fdca26\"],[1.0,\"#f0f921\"]]},\"colorway\":[\"#636efa\",\"#EF553B\",\"#00cc96\",\"#ab63fa\",\"#FFA15A\",\"#19d3f3\",\"#FF6692\",\"#B6E880\",\"#FF97FF\",\"#FECB52\"],\"font\":{\"color\":\"#2a3f5f\"},\"geo\":{\"bgcolor\":\"white\",\"lakecolor\":\"white\",\"landcolor\":\"#E5ECF6\",\"showlakes\":true,\"showland\":true,\"subunitcolor\":\"white\"},\"hoverlabel\":{\"align\":\"left\"},\"hovermode\":\"closest\",\"mapbox\":{\"style\":\"light\"},\"paper_bgcolor\":\"white\",\"plot_bgcolor\":\"#E5ECF6\",\"polar\":{\"angularaxis\":{\"gridcolor\":\"white\",\"linecolor\":\"white\",\"ticks\":\"\"},\"bgcolor\":\"#E5ECF6\",\"radialaxis\":{\"gridcolor\":\"white\",\"linecolor\":\"white\",\"ticks\":\"\"}},\"scene\":{\"xaxis\":{\"backgroundcolor\":\"#E5ECF6\",\"gridcolor\":\"white\",\"gridwidth\":2,\"linecolor\":\"white\",\"showbackground\":true,\"ticks\":\"\",\"zerolinecolor\":\"white\"},\"yaxis\":{\"backgroundcolor\":\"#E5ECF6\",\"gridcolor\":\"white\",\"gridwidth\":2,\"linecolor\":\"white\",\"showbackground\":true,\"ticks\":\"\",\"zerolinecolor\":\"white\"},\"zaxis\":{\"backgroundcolor\":\"#E5ECF6\",\"gridcolor\":\"white\",\"gridwidth\":2,\"linecolor\":\"white\",\"showbackground\":true,\"ticks\":\"\",\"zerolinecolor\":\"white\"}},\"shapedefaults\":{\"line\":{\"color\":\"#2a3f5f\"}},\"ternary\":{\"aaxis\":{\"gridcolor\":\"white\",\"linecolor\":\"white\",\"ticks\":\"\"},\"baxis\":{\"gridcolor\":\"white\",\"linecolor\":\"white\",\"ticks\":\"\"},\"bgcolor\":\"#E5ECF6\",\"caxis\":{\"gridcolor\":\"white\",\"linecolor\":\"white\",\"ticks\":\"\"}},\"title\":{\"x\":0.05},\"xaxis\":{\"automargin\":true,\"gridcolor\":\"white\",\"linecolor\":\"white\",\"ticks\":\"\",\"title\":{\"standoff\":15},\"zerolinecolor\":\"white\",\"zerolinewidth\":2},\"yaxis\":{\"automargin\":true,\"gridcolor\":\"white\",\"linecolor\":\"white\",\"ticks\":\"\",\"title\":{\"standoff\":15},\"zerolinecolor\":\"white\",\"zerolinewidth\":2}}},\"yaxis\":{\"title\":{\"text\":\"root surface\"}},\"boxmode\":\"group\"},                        {\"responsive\": true}                    ).then(function(){\n",
              "                            \n",
              "var gd = document.getElementById('8c55a86a-a670-49f8-a6d5-21eb57eb0e69');\n",
              "var x = new MutationObserver(function (mutations, observer) {{\n",
              "        var display = window.getComputedStyle(gd).display;\n",
              "        if (!display || display === 'none') {{\n",
              "            console.log([gd, 'removed!']);\n",
              "            Plotly.purge(gd);\n",
              "            observer.disconnect();\n",
              "        }}\n",
              "}});\n",
              "\n",
              "// Listen for the removal of the full notebook cells\n",
              "var notebookContainer = gd.closest('#notebook-container');\n",
              "if (notebookContainer) {{\n",
              "    x.observe(notebookContainer, {childList: true});\n",
              "}}\n",
              "\n",
              "// Listen for the clearing of the current output cell\n",
              "var outputEl = gd.closest('.output');\n",
              "if (outputEl) {{\n",
              "    x.observe(outputEl, {childList: true});\n",
              "}}\n",
              "\n",
              "                        })                };                            </script>        </div>\n",
              "</body>\n",
              "</html>"
            ]
          },
          "metadata": {}
        }
      ]
    },
    {
      "cell_type": "code",
      "source": [
        "fig = go.Figure()\n",
        "\n",
        "fig.add_trace(go.Box(\n",
        "    y=ws_surface['surface'],\n",
        "    x=ws_surface['Spaceflight Treatment'],\n",
        "    name='WS',\n",
        "))\n",
        "fig.add_trace(go.Box(\n",
        "    y=phyd_surface['surface'],\n",
        "    x=phyd_surface['Spaceflight Treatment'],\n",
        "    name='PhyD',\n",
        "))\n",
        "fig.add_trace(go.Box(\n",
        "    y=col_surface['surface'],\n",
        "    x=col_surface['Spaceflight Treatment'],\n",
        "    name='Col',\n",
        "))\n",
        "\n",
        "\n",
        "fig.update_layout(\n",
        "    yaxis_title='root surface',\n",
        "    boxmode='group' # group together boxes of the different traces for each value of x\n",
        ")\n",
        "fig.show()\n"
      ],
      "metadata": {
        "colab": {
          "base_uri": "https://localhost:8080/",
          "height": 542
        },
        "id": "-bbLaAlokV87",
        "outputId": "be742a92-0cef-4e3e-9e11-132a44ad0818"
      },
      "execution_count": 47,
      "outputs": [
        {
          "output_type": "display_data",
          "data": {
            "text/html": [
              "<html>\n",
              "<head><meta charset=\"utf-8\" /></head>\n",
              "<body>\n",
              "    <div>            <script src=\"https://cdnjs.cloudflare.com/ajax/libs/mathjax/2.7.5/MathJax.js?config=TeX-AMS-MML_SVG\"></script><script type=\"text/javascript\">if (window.MathJax) {MathJax.Hub.Config({SVG: {font: \"STIX-Web\"}});}</script>                <script type=\"text/javascript\">window.PlotlyConfig = {MathJaxConfig: 'local'};</script>\n",
              "        <script src=\"https://cdn.plot.ly/plotly-2.8.3.min.js\"></script>                <div id=\"3ad052d4-2140-4d64-82a6-7bf6d4a52583\" class=\"plotly-graph-div\" style=\"height:525px; width:100%;\"></div>            <script type=\"text/javascript\">                                    window.PLOTLYENV=window.PLOTLYENV || {};                                    if (document.getElementById(\"3ad052d4-2140-4d64-82a6-7bf6d4a52583\")) {                    Plotly.newPlot(                        \"3ad052d4-2140-4d64-82a6-7bf6d4a52583\",                        [{\"name\":\"WS\",\"x\":[\"Fl\",\"Fl\",\"Fl\",\"Fl\",\"Fl\",\"Fl\",\"Fl\",\"Fl\",\"Fl\",\"Fl\",\"Fl\",\"Fl\",\"Fl\",\"Fl\",\"Fl\",\"Fl\",\"Fl\",\"Fl\",\"Fl\",\"Fl\",\"Fl\",\"Fl\",\"Fl\",\"Fl\",\"Fl\",\"Fl\",\"Fl\",\"Fl\",\"Fl\",\"Fl\",\"Fl\",\"Gr\",\"Gr\",\"Gr\",\"Gr\",\"Gr\",\"Gr\",\"Gr\",\"Gr\",\"Gr\",\"Gr\",\"Gr\",\"Gr\",\"Gr\",\"Gr\",\"Gr\",\"Gr\",\"Gr\",\"Gr\",\"Gr\",\"Gr\",\"Gr\",\"Gr\",\"Gr\",\"Gr\",\"Gr\",\"Gr\",\"Gr\",\"Gr\",\"Gr\"],\"y\":[0.458,0.393,0.7,0.596,0.598,0.362,0.477,0.256,0.312,0.643,0.461,0.395,0.615,0.465,0.276,0.468,0.369,0.628,0.53,0.693,0.456,0.328,0.426,0.376,0.314,0.5,0.413,0.489,0.612,0.673,0.475,0.474,0.448,0.486,0.465,0.487,0.644,0.58,0.753,0.703,0.634,0.493,0.523,0.683,0.621,0.564,0.69,0.595,0.602,0.509,0.605,0.544,0.603,0.478,0.451,0.447,0.467,0.386,0.37,0.447],\"type\":\"box\"},{\"name\":\"PhyD\",\"x\":[\"Fl\",\"Fl\",\"Fl\",\"Fl\",\"Fl\",\"Fl\",\"Fl\",\"Fl\",\"Fl\",\"Fl\",\"Fl\",\"Fl\",\"Fl\",\"Fl\",\"Fl\",\"Fl\",\"Fl\",\"Fl\",\"Fl\",\"Fl\",\"Fl\",\"Fl\",\"Fl\",\"Fl\",\"Fl\",\"Fl\",\"Fl\",\"Fl\",\"Fl\",\"Fl\",\"Fl\",\"Gr\",\"Gr\",\"Gr\",\"Gr\",\"Gr\",\"Gr\",\"Gr\",\"Gr\",\"Gr\",\"Gr\",\"Gr\",\"Gr\",\"Gr\",\"Gr\",\"Gr\",\"Gr\",\"Gr\",\"Gr\",\"Gr\",\"Gr\",\"Gr\",\"Gr\",\"Gr\",\"Gr\",\"Gr\",\"Gr\",\"Gr\",\"Gr\",\"Gr\",\"Gr\"],\"y\":[0.718,0.321,0.464,0.461,0.691,0.361,0.268,0.286,0.371,0.499,0.528,0.309,0.339,0.408,0.371,0.391,0.873,0.741,0.697,0.624,0.776,0.601,0.453,0.831,0.464,0.732,0.572,0.634,0.493,0.484,0.404,0.573,0.683,0.56,0.842,0.736,0.672,1.342,0.296,0.414,0.609,0.635,0.779,0.479,0.638,0.487,0.59,0.621,0.553,0.413,0.714,0.43,0.56,0.524,0.444,0.42,0.477,0.607,0.501,0.494,0.631],\"type\":\"box\"},{\"name\":\"Col\",\"x\":[\"Fl\",\"Fl\",\"Fl\",\"Fl\",\"Fl\",\"Fl\",\"Fl\",\"Fl\",\"Fl\",\"Fl\",\"Fl\",\"Fl\",\"Fl\",\"Fl\",\"Fl\",\"Fl\",\"Fl\",\"Fl\",\"Fl\",\"Fl\",\"Fl\",\"Fl\",\"Fl\",\"Fl\",\"Fl\",\"Fl\",\"Fl\",\"Fl\",\"Fl\",\"Fl\",\"Fl\",\"Fl\",\"Fl\",\"Gr\",\"Gr\",\"Gr\",\"Gr\",\"Gr\",\"Gr\",\"Gr\",\"Gr\",\"Gr\",\"Gr\",\"Gr\",\"Gr\",\"Gr\",\"Gr\",\"Gr\",\"Gr\",\"Gr\",\"Gr\",\"Gr\",\"Gr\",\"Gr\",\"Gr\",\"Gr\",\"Gr\",\"Gr\",\"Gr\",\"Gr\",\"Gr\",\"Gr\"],\"y\":[0.458,0.392,0.633,0.74,0.429,0.411,0.441,0.362,0.456,0.474,0.308,0.722,0.592,0.697,0.388,0.459,0.673,0.471,0.309,0.434,0.479,0.788,0.373,0.276,0.489,0.334,0.284,0.412,0.309,0.185,0.26,0.233,0.185,0.848,1.052,0.481,0.306,0.827,0.564,0.412,0.512,0.578,0.648,0.498,0.623,0.649,0.929,0.548,0.434,0.574,0.648,0.557,0.435,0.416,0.394,0.363,0.509,0.533,0.508,0.495,0.575,0.439],\"type\":\"box\"}],                        {\"template\":{\"data\":{\"bar\":[{\"error_x\":{\"color\":\"#2a3f5f\"},\"error_y\":{\"color\":\"#2a3f5f\"},\"marker\":{\"line\":{\"color\":\"#E5ECF6\",\"width\":0.5},\"pattern\":{\"fillmode\":\"overlay\",\"size\":10,\"solidity\":0.2}},\"type\":\"bar\"}],\"barpolar\":[{\"marker\":{\"line\":{\"color\":\"#E5ECF6\",\"width\":0.5},\"pattern\":{\"fillmode\":\"overlay\",\"size\":10,\"solidity\":0.2}},\"type\":\"barpolar\"}],\"carpet\":[{\"aaxis\":{\"endlinecolor\":\"#2a3f5f\",\"gridcolor\":\"white\",\"linecolor\":\"white\",\"minorgridcolor\":\"white\",\"startlinecolor\":\"#2a3f5f\"},\"baxis\":{\"endlinecolor\":\"#2a3f5f\",\"gridcolor\":\"white\",\"linecolor\":\"white\",\"minorgridcolor\":\"white\",\"startlinecolor\":\"#2a3f5f\"},\"type\":\"carpet\"}],\"choropleth\":[{\"colorbar\":{\"outlinewidth\":0,\"ticks\":\"\"},\"type\":\"choropleth\"}],\"contour\":[{\"colorbar\":{\"outlinewidth\":0,\"ticks\":\"\"},\"colorscale\":[[0.0,\"#0d0887\"],[0.1111111111111111,\"#46039f\"],[0.2222222222222222,\"#7201a8\"],[0.3333333333333333,\"#9c179e\"],[0.4444444444444444,\"#bd3786\"],[0.5555555555555556,\"#d8576b\"],[0.6666666666666666,\"#ed7953\"],[0.7777777777777778,\"#fb9f3a\"],[0.8888888888888888,\"#fdca26\"],[1.0,\"#f0f921\"]],\"type\":\"contour\"}],\"contourcarpet\":[{\"colorbar\":{\"outlinewidth\":0,\"ticks\":\"\"},\"type\":\"contourcarpet\"}],\"heatmap\":[{\"colorbar\":{\"outlinewidth\":0,\"ticks\":\"\"},\"colorscale\":[[0.0,\"#0d0887\"],[0.1111111111111111,\"#46039f\"],[0.2222222222222222,\"#7201a8\"],[0.3333333333333333,\"#9c179e\"],[0.4444444444444444,\"#bd3786\"],[0.5555555555555556,\"#d8576b\"],[0.6666666666666666,\"#ed7953\"],[0.7777777777777778,\"#fb9f3a\"],[0.8888888888888888,\"#fdca26\"],[1.0,\"#f0f921\"]],\"type\":\"heatmap\"}],\"heatmapgl\":[{\"colorbar\":{\"outlinewidth\":0,\"ticks\":\"\"},\"colorscale\":[[0.0,\"#0d0887\"],[0.1111111111111111,\"#46039f\"],[0.2222222222222222,\"#7201a8\"],[0.3333333333333333,\"#9c179e\"],[0.4444444444444444,\"#bd3786\"],[0.5555555555555556,\"#d8576b\"],[0.6666666666666666,\"#ed7953\"],[0.7777777777777778,\"#fb9f3a\"],[0.8888888888888888,\"#fdca26\"],[1.0,\"#f0f921\"]],\"type\":\"heatmapgl\"}],\"histogram\":[{\"marker\":{\"pattern\":{\"fillmode\":\"overlay\",\"size\":10,\"solidity\":0.2}},\"type\":\"histogram\"}],\"histogram2d\":[{\"colorbar\":{\"outlinewidth\":0,\"ticks\":\"\"},\"colorscale\":[[0.0,\"#0d0887\"],[0.1111111111111111,\"#46039f\"],[0.2222222222222222,\"#7201a8\"],[0.3333333333333333,\"#9c179e\"],[0.4444444444444444,\"#bd3786\"],[0.5555555555555556,\"#d8576b\"],[0.6666666666666666,\"#ed7953\"],[0.7777777777777778,\"#fb9f3a\"],[0.8888888888888888,\"#fdca26\"],[1.0,\"#f0f921\"]],\"type\":\"histogram2d\"}],\"histogram2dcontour\":[{\"colorbar\":{\"outlinewidth\":0,\"ticks\":\"\"},\"colorscale\":[[0.0,\"#0d0887\"],[0.1111111111111111,\"#46039f\"],[0.2222222222222222,\"#7201a8\"],[0.3333333333333333,\"#9c179e\"],[0.4444444444444444,\"#bd3786\"],[0.5555555555555556,\"#d8576b\"],[0.6666666666666666,\"#ed7953\"],[0.7777777777777778,\"#fb9f3a\"],[0.8888888888888888,\"#fdca26\"],[1.0,\"#f0f921\"]],\"type\":\"histogram2dcontour\"}],\"mesh3d\":[{\"colorbar\":{\"outlinewidth\":0,\"ticks\":\"\"},\"type\":\"mesh3d\"}],\"parcoords\":[{\"line\":{\"colorbar\":{\"outlinewidth\":0,\"ticks\":\"\"}},\"type\":\"parcoords\"}],\"pie\":[{\"automargin\":true,\"type\":\"pie\"}],\"scatter\":[{\"marker\":{\"colorbar\":{\"outlinewidth\":0,\"ticks\":\"\"}},\"type\":\"scatter\"}],\"scatter3d\":[{\"line\":{\"colorbar\":{\"outlinewidth\":0,\"ticks\":\"\"}},\"marker\":{\"colorbar\":{\"outlinewidth\":0,\"ticks\":\"\"}},\"type\":\"scatter3d\"}],\"scattercarpet\":[{\"marker\":{\"colorbar\":{\"outlinewidth\":0,\"ticks\":\"\"}},\"type\":\"scattercarpet\"}],\"scattergeo\":[{\"marker\":{\"colorbar\":{\"outlinewidth\":0,\"ticks\":\"\"}},\"type\":\"scattergeo\"}],\"scattergl\":[{\"marker\":{\"colorbar\":{\"outlinewidth\":0,\"ticks\":\"\"}},\"type\":\"scattergl\"}],\"scattermapbox\":[{\"marker\":{\"colorbar\":{\"outlinewidth\":0,\"ticks\":\"\"}},\"type\":\"scattermapbox\"}],\"scatterpolar\":[{\"marker\":{\"colorbar\":{\"outlinewidth\":0,\"ticks\":\"\"}},\"type\":\"scatterpolar\"}],\"scatterpolargl\":[{\"marker\":{\"colorbar\":{\"outlinewidth\":0,\"ticks\":\"\"}},\"type\":\"scatterpolargl\"}],\"scatterternary\":[{\"marker\":{\"colorbar\":{\"outlinewidth\":0,\"ticks\":\"\"}},\"type\":\"scatterternary\"}],\"surface\":[{\"colorbar\":{\"outlinewidth\":0,\"ticks\":\"\"},\"colorscale\":[[0.0,\"#0d0887\"],[0.1111111111111111,\"#46039f\"],[0.2222222222222222,\"#7201a8\"],[0.3333333333333333,\"#9c179e\"],[0.4444444444444444,\"#bd3786\"],[0.5555555555555556,\"#d8576b\"],[0.6666666666666666,\"#ed7953\"],[0.7777777777777778,\"#fb9f3a\"],[0.8888888888888888,\"#fdca26\"],[1.0,\"#f0f921\"]],\"type\":\"surface\"}],\"table\":[{\"cells\":{\"fill\":{\"color\":\"#EBF0F8\"},\"line\":{\"color\":\"white\"}},\"header\":{\"fill\":{\"color\":\"#C8D4E3\"},\"line\":{\"color\":\"white\"}},\"type\":\"table\"}]},\"layout\":{\"annotationdefaults\":{\"arrowcolor\":\"#2a3f5f\",\"arrowhead\":0,\"arrowwidth\":1},\"autotypenumbers\":\"strict\",\"coloraxis\":{\"colorbar\":{\"outlinewidth\":0,\"ticks\":\"\"}},\"colorscale\":{\"diverging\":[[0,\"#8e0152\"],[0.1,\"#c51b7d\"],[0.2,\"#de77ae\"],[0.3,\"#f1b6da\"],[0.4,\"#fde0ef\"],[0.5,\"#f7f7f7\"],[0.6,\"#e6f5d0\"],[0.7,\"#b8e186\"],[0.8,\"#7fbc41\"],[0.9,\"#4d9221\"],[1,\"#276419\"]],\"sequential\":[[0.0,\"#0d0887\"],[0.1111111111111111,\"#46039f\"],[0.2222222222222222,\"#7201a8\"],[0.3333333333333333,\"#9c179e\"],[0.4444444444444444,\"#bd3786\"],[0.5555555555555556,\"#d8576b\"],[0.6666666666666666,\"#ed7953\"],[0.7777777777777778,\"#fb9f3a\"],[0.8888888888888888,\"#fdca26\"],[1.0,\"#f0f921\"]],\"sequentialminus\":[[0.0,\"#0d0887\"],[0.1111111111111111,\"#46039f\"],[0.2222222222222222,\"#7201a8\"],[0.3333333333333333,\"#9c179e\"],[0.4444444444444444,\"#bd3786\"],[0.5555555555555556,\"#d8576b\"],[0.6666666666666666,\"#ed7953\"],[0.7777777777777778,\"#fb9f3a\"],[0.8888888888888888,\"#fdca26\"],[1.0,\"#f0f921\"]]},\"colorway\":[\"#636efa\",\"#EF553B\",\"#00cc96\",\"#ab63fa\",\"#FFA15A\",\"#19d3f3\",\"#FF6692\",\"#B6E880\",\"#FF97FF\",\"#FECB52\"],\"font\":{\"color\":\"#2a3f5f\"},\"geo\":{\"bgcolor\":\"white\",\"lakecolor\":\"white\",\"landcolor\":\"#E5ECF6\",\"showlakes\":true,\"showland\":true,\"subunitcolor\":\"white\"},\"hoverlabel\":{\"align\":\"left\"},\"hovermode\":\"closest\",\"mapbox\":{\"style\":\"light\"},\"paper_bgcolor\":\"white\",\"plot_bgcolor\":\"#E5ECF6\",\"polar\":{\"angularaxis\":{\"gridcolor\":\"white\",\"linecolor\":\"white\",\"ticks\":\"\"},\"bgcolor\":\"#E5ECF6\",\"radialaxis\":{\"gridcolor\":\"white\",\"linecolor\":\"white\",\"ticks\":\"\"}},\"scene\":{\"xaxis\":{\"backgroundcolor\":\"#E5ECF6\",\"gridcolor\":\"white\",\"gridwidth\":2,\"linecolor\":\"white\",\"showbackground\":true,\"ticks\":\"\",\"zerolinecolor\":\"white\"},\"yaxis\":{\"backgroundcolor\":\"#E5ECF6\",\"gridcolor\":\"white\",\"gridwidth\":2,\"linecolor\":\"white\",\"showbackground\":true,\"ticks\":\"\",\"zerolinecolor\":\"white\"},\"zaxis\":{\"backgroundcolor\":\"#E5ECF6\",\"gridcolor\":\"white\",\"gridwidth\":2,\"linecolor\":\"white\",\"showbackground\":true,\"ticks\":\"\",\"zerolinecolor\":\"white\"}},\"shapedefaults\":{\"line\":{\"color\":\"#2a3f5f\"}},\"ternary\":{\"aaxis\":{\"gridcolor\":\"white\",\"linecolor\":\"white\",\"ticks\":\"\"},\"baxis\":{\"gridcolor\":\"white\",\"linecolor\":\"white\",\"ticks\":\"\"},\"bgcolor\":\"#E5ECF6\",\"caxis\":{\"gridcolor\":\"white\",\"linecolor\":\"white\",\"ticks\":\"\"}},\"title\":{\"x\":0.05},\"xaxis\":{\"automargin\":true,\"gridcolor\":\"white\",\"linecolor\":\"white\",\"ticks\":\"\",\"title\":{\"standoff\":15},\"zerolinecolor\":\"white\",\"zerolinewidth\":2},\"yaxis\":{\"automargin\":true,\"gridcolor\":\"white\",\"linecolor\":\"white\",\"ticks\":\"\",\"title\":{\"standoff\":15},\"zerolinecolor\":\"white\",\"zerolinewidth\":2}}},\"yaxis\":{\"title\":{\"text\":\"root surface\"}},\"boxmode\":\"group\"},                        {\"responsive\": true}                    ).then(function(){\n",
              "                            \n",
              "var gd = document.getElementById('3ad052d4-2140-4d64-82a6-7bf6d4a52583');\n",
              "var x = new MutationObserver(function (mutations, observer) {{\n",
              "        var display = window.getComputedStyle(gd).display;\n",
              "        if (!display || display === 'none') {{\n",
              "            console.log([gd, 'removed!']);\n",
              "            Plotly.purge(gd);\n",
              "            observer.disconnect();\n",
              "        }}\n",
              "}});\n",
              "\n",
              "// Listen for the removal of the full notebook cells\n",
              "var notebookContainer = gd.closest('#notebook-container');\n",
              "if (notebookContainer) {{\n",
              "    x.observe(notebookContainer, {childList: true});\n",
              "}}\n",
              "\n",
              "// Listen for the clearing of the current output cell\n",
              "var outputEl = gd.closest('.output');\n",
              "if (outputEl) {{\n",
              "    x.observe(outputEl, {childList: true});\n",
              "}}\n",
              "\n",
              "                        })                };                            </script>        </div>\n",
              "</body>\n",
              "</html>"
            ]
          },
          "metadata": {}
        }
      ]
    }
  ]
}